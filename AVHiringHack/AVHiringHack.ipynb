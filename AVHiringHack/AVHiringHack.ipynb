{
 "cells": [
  {
   "cell_type": "code",
   "execution_count": 266,
   "metadata": {},
   "outputs": [],
   "source": [
    "import calendar\n",
    "import numpy as np\n",
    "import pandas as pd\n",
    "import seaborn as sns\n",
    "import matplotlib.pyplot as plt\n",
    "\n",
    "from math import sqrt\n",
    "from datetime import datetime\n",
    "from sklearn.metrics import mean_squared_error, make_scorer\n",
    "from sklearn.ensemble import GradientBoostingRegressor\n",
    "from sklearn.neural_network import MLPRegressor\n",
    "from sklearn.preprocessing import MinMaxScaler\n",
    "from sklearn.model_selection import GridSearchCV, train_test_split, RandomizedSearchCV\n",
    "\n",
    "%matplotlib inline"
   ]
  },
  {
   "cell_type": "code",
   "execution_count": 267,
   "metadata": {},
   "outputs": [
    {
     "name": "stdout",
     "output_type": "stream",
     "text": [
      "train.shape(26496, 8)\n",
      "test.shape(8568, 7)\n"
     ]
    }
   ],
   "source": [
    "train = pd.read_csv(\"C:/MyData/hub_project/AV Hack/AVHiringHack/train.csv\")\n",
    "test = pd.read_csv(\"C:/MyData/hub_project/AV Hack/AVHiringHack/test.csv\")\n",
    "print(\"train.shape\" + str(train.shape))\n",
    "print(\"test.shape\" + str(test.shape))"
   ]
  },
  {
   "cell_type": "code",
   "execution_count": 268,
   "metadata": {},
   "outputs": [
    {
     "data": {
      "text/plain": [
       "Index(['ID', 'datetime', 'temperature', 'var1', 'pressure', 'windspeed',\n",
       "       'var2', 'electricity_consumption'],\n",
       "      dtype='object')"
      ]
     },
     "execution_count": 268,
     "metadata": {},
     "output_type": "execute_result"
    }
   ],
   "source": [
    "train.columns"
   ]
  },
  {
   "cell_type": "code",
   "execution_count": 269,
   "metadata": {
    "scrolled": true
   },
   "outputs": [
    {
     "data": {
      "text/html": [
       "<div>\n",
       "<style>\n",
       "    .dataframe thead tr:only-child th {\n",
       "        text-align: right;\n",
       "    }\n",
       "\n",
       "    .dataframe thead th {\n",
       "        text-align: left;\n",
       "    }\n",
       "\n",
       "    .dataframe tbody tr th {\n",
       "        vertical-align: top;\n",
       "    }\n",
       "</style>\n",
       "<table border=\"1\" class=\"dataframe\">\n",
       "  <thead>\n",
       "    <tr style=\"text-align: right;\">\n",
       "      <th></th>\n",
       "      <th>ID</th>\n",
       "      <th>datetime</th>\n",
       "      <th>temperature</th>\n",
       "      <th>var1</th>\n",
       "      <th>pressure</th>\n",
       "      <th>windspeed</th>\n",
       "      <th>var2</th>\n",
       "      <th>electricity_consumption</th>\n",
       "    </tr>\n",
       "  </thead>\n",
       "  <tbody>\n",
       "    <tr>\n",
       "      <th>0</th>\n",
       "      <td>0</td>\n",
       "      <td>2013-07-01 00:00:00</td>\n",
       "      <td>-11.4</td>\n",
       "      <td>-17.1</td>\n",
       "      <td>1003.0</td>\n",
       "      <td>571.910</td>\n",
       "      <td>A</td>\n",
       "      <td>216.0</td>\n",
       "    </tr>\n",
       "    <tr>\n",
       "      <th>1</th>\n",
       "      <td>1</td>\n",
       "      <td>2013-07-01 01:00:00</td>\n",
       "      <td>-12.1</td>\n",
       "      <td>-19.3</td>\n",
       "      <td>996.0</td>\n",
       "      <td>575.040</td>\n",
       "      <td>A</td>\n",
       "      <td>210.0</td>\n",
       "    </tr>\n",
       "    <tr>\n",
       "      <th>2</th>\n",
       "      <td>2</td>\n",
       "      <td>2013-07-01 02:00:00</td>\n",
       "      <td>-12.9</td>\n",
       "      <td>-20.0</td>\n",
       "      <td>1000.0</td>\n",
       "      <td>578.435</td>\n",
       "      <td>A</td>\n",
       "      <td>225.0</td>\n",
       "    </tr>\n",
       "    <tr>\n",
       "      <th>3</th>\n",
       "      <td>3</td>\n",
       "      <td>2013-07-01 03:00:00</td>\n",
       "      <td>-11.4</td>\n",
       "      <td>-17.1</td>\n",
       "      <td>995.0</td>\n",
       "      <td>582.580</td>\n",
       "      <td>A</td>\n",
       "      <td>216.0</td>\n",
       "    </tr>\n",
       "    <tr>\n",
       "      <th>4</th>\n",
       "      <td>4</td>\n",
       "      <td>2013-07-01 04:00:00</td>\n",
       "      <td>-11.4</td>\n",
       "      <td>-19.3</td>\n",
       "      <td>1005.0</td>\n",
       "      <td>586.600</td>\n",
       "      <td>A</td>\n",
       "      <td>222.0</td>\n",
       "    </tr>\n",
       "  </tbody>\n",
       "</table>\n",
       "</div>"
      ],
      "text/plain": [
       "   ID             datetime  temperature  var1  pressure  windspeed var2  \\\n",
       "0   0  2013-07-01 00:00:00        -11.4 -17.1    1003.0    571.910    A   \n",
       "1   1  2013-07-01 01:00:00        -12.1 -19.3     996.0    575.040    A   \n",
       "2   2  2013-07-01 02:00:00        -12.9 -20.0    1000.0    578.435    A   \n",
       "3   3  2013-07-01 03:00:00        -11.4 -17.1     995.0    582.580    A   \n",
       "4   4  2013-07-01 04:00:00        -11.4 -19.3    1005.0    586.600    A   \n",
       "\n",
       "   electricity_consumption  \n",
       "0                    216.0  \n",
       "1                    210.0  \n",
       "2                    225.0  \n",
       "3                    216.0  \n",
       "4                    222.0  "
      ]
     },
     "execution_count": 269,
     "metadata": {},
     "output_type": "execute_result"
    }
   ],
   "source": [
    "train.head(5)"
   ]
  },
  {
   "cell_type": "code",
   "execution_count": 270,
   "metadata": {},
   "outputs": [
    {
     "name": "stdout",
     "output_type": "stream",
     "text": [
      "<class 'pandas.core.frame.DataFrame'>\n",
      "RangeIndex: 26496 entries, 0 to 26495\n",
      "Data columns (total 8 columns):\n",
      "ID                         26496 non-null int64\n",
      "datetime                   26496 non-null object\n",
      "temperature                26496 non-null float64\n",
      "var1                       26496 non-null float64\n",
      "pressure                   26496 non-null float64\n",
      "windspeed                  26496 non-null float64\n",
      "var2                       26496 non-null object\n",
      "electricity_consumption    26496 non-null float64\n",
      "dtypes: float64(5), int64(1), object(2)\n",
      "memory usage: 1.6+ MB\n",
      "None\n"
     ]
    }
   ],
   "source": [
    "print(train.info())"
   ]
  },
  {
   "cell_type": "code",
   "execution_count": 271,
   "metadata": {},
   "outputs": [
    {
     "data": {
      "text/html": [
       "<div>\n",
       "<style>\n",
       "    .dataframe thead tr:only-child th {\n",
       "        text-align: right;\n",
       "    }\n",
       "\n",
       "    .dataframe thead th {\n",
       "        text-align: left;\n",
       "    }\n",
       "\n",
       "    .dataframe tbody tr th {\n",
       "        vertical-align: top;\n",
       "    }\n",
       "</style>\n",
       "<table border=\"1\" class=\"dataframe\">\n",
       "  <thead>\n",
       "    <tr style=\"text-align: right;\">\n",
       "      <th></th>\n",
       "      <th>ID</th>\n",
       "      <th>datetime</th>\n",
       "      <th>temperature</th>\n",
       "      <th>var1</th>\n",
       "      <th>pressure</th>\n",
       "      <th>windspeed</th>\n",
       "      <th>var2</th>\n",
       "      <th>electricity_consumption</th>\n",
       "    </tr>\n",
       "  </thead>\n",
       "  <tbody>\n",
       "    <tr>\n",
       "      <th>count</th>\n",
       "      <td>26496.000000</td>\n",
       "      <td>26496</td>\n",
       "      <td>26496.000000</td>\n",
       "      <td>26496.000000</td>\n",
       "      <td>26496.000000</td>\n",
       "      <td>26496.000000</td>\n",
       "      <td>26496</td>\n",
       "      <td>26496.000000</td>\n",
       "    </tr>\n",
       "    <tr>\n",
       "      <th>unique</th>\n",
       "      <td>NaN</td>\n",
       "      <td>26496</td>\n",
       "      <td>NaN</td>\n",
       "      <td>NaN</td>\n",
       "      <td>NaN</td>\n",
       "      <td>NaN</td>\n",
       "      <td>3</td>\n",
       "      <td>NaN</td>\n",
       "    </tr>\n",
       "    <tr>\n",
       "      <th>top</th>\n",
       "      <td>NaN</td>\n",
       "      <td>2014-05-18 06:00:00</td>\n",
       "      <td>NaN</td>\n",
       "      <td>NaN</td>\n",
       "      <td>NaN</td>\n",
       "      <td>NaN</td>\n",
       "      <td>A</td>\n",
       "      <td>NaN</td>\n",
       "    </tr>\n",
       "    <tr>\n",
       "      <th>freq</th>\n",
       "      <td>NaN</td>\n",
       "      <td>1</td>\n",
       "      <td>NaN</td>\n",
       "      <td>NaN</td>\n",
       "      <td>NaN</td>\n",
       "      <td>NaN</td>\n",
       "      <td>25239</td>\n",
       "      <td>NaN</td>\n",
       "    </tr>\n",
       "    <tr>\n",
       "      <th>mean</th>\n",
       "      <td>17455.500000</td>\n",
       "      <td>NaN</td>\n",
       "      <td>5.098989</td>\n",
       "      <td>-1.916233</td>\n",
       "      <td>986.450615</td>\n",
       "      <td>23.959956</td>\n",
       "      <td>NaN</td>\n",
       "      <td>298.359601</td>\n",
       "    </tr>\n",
       "    <tr>\n",
       "      <th>std</th>\n",
       "      <td>10122.873673</td>\n",
       "      <td>NaN</td>\n",
       "      <td>8.682860</td>\n",
       "      <td>10.424860</td>\n",
       "      <td>12.002647</td>\n",
       "      <td>48.280321</td>\n",
       "      <td>NaN</td>\n",
       "      <td>108.020555</td>\n",
       "    </tr>\n",
       "    <tr>\n",
       "      <th>min</th>\n",
       "      <td>0.000000</td>\n",
       "      <td>NaN</td>\n",
       "      <td>-17.100000</td>\n",
       "      <td>-32.900000</td>\n",
       "      <td>953.000000</td>\n",
       "      <td>1.075000</td>\n",
       "      <td>NaN</td>\n",
       "      <td>174.000000</td>\n",
       "    </tr>\n",
       "    <tr>\n",
       "      <th>25%</th>\n",
       "      <td>8717.750000</td>\n",
       "      <td>NaN</td>\n",
       "      <td>-2.900000</td>\n",
       "      <td>-10.700000</td>\n",
       "      <td>978.000000</td>\n",
       "      <td>3.155000</td>\n",
       "      <td>NaN</td>\n",
       "      <td>219.000000</td>\n",
       "    </tr>\n",
       "    <tr>\n",
       "      <th>50%</th>\n",
       "      <td>17435.500000</td>\n",
       "      <td>NaN</td>\n",
       "      <td>6.400000</td>\n",
       "      <td>-1.400000</td>\n",
       "      <td>986.000000</td>\n",
       "      <td>6.545000</td>\n",
       "      <td>NaN</td>\n",
       "      <td>267.000000</td>\n",
       "    </tr>\n",
       "    <tr>\n",
       "      <th>75%</th>\n",
       "      <td>26177.250000</td>\n",
       "      <td>NaN</td>\n",
       "      <td>12.100000</td>\n",
       "      <td>7.900000</td>\n",
       "      <td>995.000000</td>\n",
       "      <td>22.260000</td>\n",
       "      <td>NaN</td>\n",
       "      <td>342.000000</td>\n",
       "    </tr>\n",
       "    <tr>\n",
       "      <th>max</th>\n",
       "      <td>34895.000000</td>\n",
       "      <td>NaN</td>\n",
       "      <td>23.600000</td>\n",
       "      <td>18.600000</td>\n",
       "      <td>1024.000000</td>\n",
       "      <td>586.600000</td>\n",
       "      <td>NaN</td>\n",
       "      <td>1386.000000</td>\n",
       "    </tr>\n",
       "  </tbody>\n",
       "</table>\n",
       "</div>"
      ],
      "text/plain": [
       "                  ID             datetime   temperature          var1  \\\n",
       "count   26496.000000                26496  26496.000000  26496.000000   \n",
       "unique           NaN                26496           NaN           NaN   \n",
       "top              NaN  2014-05-18 06:00:00           NaN           NaN   \n",
       "freq             NaN                    1           NaN           NaN   \n",
       "mean    17455.500000                  NaN      5.098989     -1.916233   \n",
       "std     10122.873673                  NaN      8.682860     10.424860   \n",
       "min         0.000000                  NaN    -17.100000    -32.900000   \n",
       "25%      8717.750000                  NaN     -2.900000    -10.700000   \n",
       "50%     17435.500000                  NaN      6.400000     -1.400000   \n",
       "75%     26177.250000                  NaN     12.100000      7.900000   \n",
       "max     34895.000000                  NaN     23.600000     18.600000   \n",
       "\n",
       "            pressure     windspeed   var2  electricity_consumption  \n",
       "count   26496.000000  26496.000000  26496             26496.000000  \n",
       "unique           NaN           NaN      3                      NaN  \n",
       "top              NaN           NaN      A                      NaN  \n",
       "freq             NaN           NaN  25239                      NaN  \n",
       "mean      986.450615     23.959956    NaN               298.359601  \n",
       "std        12.002647     48.280321    NaN               108.020555  \n",
       "min       953.000000      1.075000    NaN               174.000000  \n",
       "25%       978.000000      3.155000    NaN               219.000000  \n",
       "50%       986.000000      6.545000    NaN               267.000000  \n",
       "75%       995.000000     22.260000    NaN               342.000000  \n",
       "max      1024.000000    586.600000    NaN              1386.000000  "
      ]
     },
     "execution_count": 271,
     "metadata": {},
     "output_type": "execute_result"
    }
   ],
   "source": [
    "train.describe(include=\"all\")"
   ]
  },
  {
   "cell_type": "code",
   "execution_count": 272,
   "metadata": {},
   "outputs": [
    {
     "data": {
      "text/html": [
       "<div>\n",
       "<style>\n",
       "    .dataframe thead tr:only-child th {\n",
       "        text-align: right;\n",
       "    }\n",
       "\n",
       "    .dataframe thead th {\n",
       "        text-align: left;\n",
       "    }\n",
       "\n",
       "    .dataframe tbody tr th {\n",
       "        vertical-align: top;\n",
       "    }\n",
       "</style>\n",
       "<table border=\"1\" class=\"dataframe\">\n",
       "  <thead>\n",
       "    <tr style=\"text-align: right;\">\n",
       "      <th></th>\n",
       "      <th>ID</th>\n",
       "      <th>datetime</th>\n",
       "      <th>temperature</th>\n",
       "      <th>var1</th>\n",
       "      <th>pressure</th>\n",
       "      <th>windspeed</th>\n",
       "      <th>var2</th>\n",
       "    </tr>\n",
       "  </thead>\n",
       "  <tbody>\n",
       "    <tr>\n",
       "      <th>count</th>\n",
       "      <td>8568.000000</td>\n",
       "      <td>8568</td>\n",
       "      <td>8568.000000</td>\n",
       "      <td>8568.000000</td>\n",
       "      <td>8568.000000</td>\n",
       "      <td>8568.000000</td>\n",
       "      <td>8568</td>\n",
       "    </tr>\n",
       "    <tr>\n",
       "      <th>unique</th>\n",
       "      <td>NaN</td>\n",
       "      <td>8568</td>\n",
       "      <td>NaN</td>\n",
       "      <td>NaN</td>\n",
       "      <td>NaN</td>\n",
       "      <td>NaN</td>\n",
       "      <td>3</td>\n",
       "    </tr>\n",
       "    <tr>\n",
       "      <th>top</th>\n",
       "      <td>NaN</td>\n",
       "      <td>2016-04-25 13:00:00</td>\n",
       "      <td>NaN</td>\n",
       "      <td>NaN</td>\n",
       "      <td>NaN</td>\n",
       "      <td>NaN</td>\n",
       "      <td>A</td>\n",
       "    </tr>\n",
       "    <tr>\n",
       "      <th>freq</th>\n",
       "      <td>NaN</td>\n",
       "      <td>1</td>\n",
       "      <td>NaN</td>\n",
       "      <td>NaN</td>\n",
       "      <td>NaN</td>\n",
       "      <td>NaN</td>\n",
       "      <td>8177</td>\n",
       "    </tr>\n",
       "    <tr>\n",
       "      <th>mean</th>\n",
       "      <td>17766.525210</td>\n",
       "      <td>NaN</td>\n",
       "      <td>5.112757</td>\n",
       "      <td>-1.726401</td>\n",
       "      <td>986.329599</td>\n",
       "      <td>24.176398</td>\n",
       "      <td>NaN</td>\n",
       "    </tr>\n",
       "    <tr>\n",
       "      <th>std</th>\n",
       "      <td>10117.296415</td>\n",
       "      <td>NaN</td>\n",
       "      <td>8.606167</td>\n",
       "      <td>10.345034</td>\n",
       "      <td>12.148517</td>\n",
       "      <td>49.651535</td>\n",
       "      <td>NaN</td>\n",
       "    </tr>\n",
       "    <tr>\n",
       "      <th>min</th>\n",
       "      <td>552.000000</td>\n",
       "      <td>NaN</td>\n",
       "      <td>-17.900000</td>\n",
       "      <td>-26.400000</td>\n",
       "      <td>954.000000</td>\n",
       "      <td>1.075000</td>\n",
       "      <td>NaN</td>\n",
       "    </tr>\n",
       "    <tr>\n",
       "      <th>25%</th>\n",
       "      <td>9317.750000</td>\n",
       "      <td>NaN</td>\n",
       "      <td>-2.100000</td>\n",
       "      <td>-10.000000</td>\n",
       "      <td>977.000000</td>\n",
       "      <td>3.155000</td>\n",
       "      <td>NaN</td>\n",
       "    </tr>\n",
       "    <tr>\n",
       "      <th>50%</th>\n",
       "      <td>18083.500000</td>\n",
       "      <td>NaN</td>\n",
       "      <td>5.700000</td>\n",
       "      <td>-2.100000</td>\n",
       "      <td>987.000000</td>\n",
       "      <td>6.295000</td>\n",
       "      <td>NaN</td>\n",
       "    </tr>\n",
       "    <tr>\n",
       "      <th>75%</th>\n",
       "      <td>26297.250000</td>\n",
       "      <td>NaN</td>\n",
       "      <td>12.100000</td>\n",
       "      <td>7.900000</td>\n",
       "      <td>995.000000</td>\n",
       "      <td>21.907500</td>\n",
       "      <td>NaN</td>\n",
       "    </tr>\n",
       "    <tr>\n",
       "      <th>max</th>\n",
       "      <td>35063.000000</td>\n",
       "      <td>NaN</td>\n",
       "      <td>25.700000</td>\n",
       "      <td>17.900000</td>\n",
       "      <td>1023.000000</td>\n",
       "      <td>491.255000</td>\n",
       "      <td>NaN</td>\n",
       "    </tr>\n",
       "  </tbody>\n",
       "</table>\n",
       "</div>"
      ],
      "text/plain": [
       "                  ID             datetime  temperature         var1  \\\n",
       "count    8568.000000                 8568  8568.000000  8568.000000   \n",
       "unique           NaN                 8568          NaN          NaN   \n",
       "top              NaN  2016-04-25 13:00:00          NaN          NaN   \n",
       "freq             NaN                    1          NaN          NaN   \n",
       "mean    17766.525210                  NaN     5.112757    -1.726401   \n",
       "std     10117.296415                  NaN     8.606167    10.345034   \n",
       "min       552.000000                  NaN   -17.900000   -26.400000   \n",
       "25%      9317.750000                  NaN    -2.100000   -10.000000   \n",
       "50%     18083.500000                  NaN     5.700000    -2.100000   \n",
       "75%     26297.250000                  NaN    12.100000     7.900000   \n",
       "max     35063.000000                  NaN    25.700000    17.900000   \n",
       "\n",
       "           pressure    windspeed  var2  \n",
       "count   8568.000000  8568.000000  8568  \n",
       "unique          NaN          NaN     3  \n",
       "top             NaN          NaN     A  \n",
       "freq            NaN          NaN  8177  \n",
       "mean     986.329599    24.176398   NaN  \n",
       "std       12.148517    49.651535   NaN  \n",
       "min      954.000000     1.075000   NaN  \n",
       "25%      977.000000     3.155000   NaN  \n",
       "50%      987.000000     6.295000   NaN  \n",
       "75%      995.000000    21.907500   NaN  \n",
       "max     1023.000000   491.255000   NaN  "
      ]
     },
     "execution_count": 272,
     "metadata": {},
     "output_type": "execute_result"
    }
   ],
   "source": [
    "test.describe(include=\"all\")"
   ]
  },
  {
   "cell_type": "code",
   "execution_count": 273,
   "metadata": {},
   "outputs": [
    {
     "data": {
      "text/plain": [
       "Index(['ID', 'datetime', 'temperature', 'var1', 'pressure', 'windspeed',\n",
       "       'var2', 'electricity_consumption'],\n",
       "      dtype='object')"
      ]
     },
     "execution_count": 273,
     "metadata": {},
     "output_type": "execute_result"
    }
   ],
   "source": [
    "test['electricity_consumption'] = -99\n",
    "test.columns"
   ]
  },
  {
   "cell_type": "code",
   "execution_count": null,
   "metadata": {},
   "outputs": [],
   "source": [
    "'''cor_plot_columns=['temperature','var1','pressure','windspeed','electricity_consumption']\n",
    "colormap = plt.cm.RdBu\n",
    "plt.figure(figsize=(10,5))\n",
    "plt.title('Pearson Correlation of Features', y=1.05, size=15)\n",
    "sns.heatmap(train.loc[:,cor_plot_columns].astype(float).corr(),linewidths=0.1,vmax=1.0, \n",
    "            square=True, cmap=colormap, linecolor='white', annot=True)\n",
    "'''"
   ]
  },
  {
   "cell_type": "code",
   "execution_count": null,
   "metadata": {},
   "outputs": [],
   "source": [
    "'''g = sns.pairplot(train.iloc[:,1:], palette = 'seismic',size=3,diag_kind = 'kde',diag_kws=dict(shade=True),plot_kws=dict(s=10) )\n",
    "g.set(xticklabels=[])\n",
    "'''"
   ]
  },
  {
   "cell_type": "code",
   "execution_count": 280,
   "metadata": {
    "collapsed": true
   },
   "outputs": [],
   "source": [
    "def string_to_day(my_string):\n",
    "    if '-' in my_string:\n",
    "        return calendar.day_name[datetime.strptime(my_string, \"%Y-%m-%d %H:%M:%S\").weekday()]\n",
    "\n",
    "train['day'] = train['datetime'].apply(lambda x: string_to_day(x))\n",
    "test['day'] = test['datetime'].apply(lambda x: string_to_day(x))"
   ]
  },
  {
   "cell_type": "code",
   "execution_count": 281,
   "metadata": {
    "collapsed": true
   },
   "outputs": [],
   "source": [
    "def string_to_year(my_string):\n",
    "    if '-' in my_string:\n",
    "        return datetime.strptime(my_string, \"%Y-%m-%d %H:%M:%S\").year\n",
    "\n",
    "train['year'] = train['datetime'].apply(lambda x: string_to_year(x))\n",
    "test['year'] = test['datetime'].apply(lambda x: string_to_year(x))"
   ]
  },
  {
   "cell_type": "code",
   "execution_count": 282,
   "metadata": {
    "collapsed": true
   },
   "outputs": [],
   "source": [
    "def string_to_month(my_string):\n",
    "    if '-' in my_string:\n",
    "        return datetime.strptime(my_string, \"%Y-%m-%d %H:%M:%S\").month\n",
    "\n",
    "train['month'] = train['datetime'].apply(lambda x: string_to_month(x))\n",
    "test['month'] = test['datetime'].apply(lambda x: string_to_month(x))"
   ]
  },
  {
   "cell_type": "code",
   "execution_count": 283,
   "metadata": {
    "collapsed": true
   },
   "outputs": [],
   "source": [
    "def string_to_date(my_string):\n",
    "    if '-' in my_string:\n",
    "        return datetime.strptime(my_string, \"%Y-%m-%d %H:%M:%S\").day\n",
    "\n",
    "train['date'] = train['datetime'].apply(lambda x: string_to_date(x))\n",
    "test['date'] = test['datetime'].apply(lambda x: string_to_date(x))"
   ]
  },
  {
   "cell_type": "code",
   "execution_count": 284,
   "metadata": {
    "collapsed": true
   },
   "outputs": [],
   "source": [
    "def string_to_hour(my_string):\n",
    "    if '-' in my_string:\n",
    "        return datetime.strptime(my_string, \"%Y-%m-%d %H:%M:%S\").hour\n",
    "\n",
    "train['hour'] = train['datetime'].apply(lambda x: string_to_hour(x))\n",
    "test['hour'] = test['datetime'].apply(lambda x: string_to_hour(x))"
   ]
  },
  {
   "cell_type": "code",
   "execution_count": 285,
   "metadata": {
    "scrolled": true
   },
   "outputs": [
    {
     "data": {
      "text/plain": [
       "<matplotlib.axes._subplots.AxesSubplot at 0x1f3dceb8>"
      ]
     },
     "execution_count": 285,
     "metadata": {},
     "output_type": "execute_result"
    },
    {
     "data": {
      "image/png": "[encoded data removed]",
      "text/plain": [
       "<matplotlib.figure.Figure at 0x1f3dc7f0>"
      ]
     },
     "metadata": {},
     "output_type": "display_data"
    }
   ],
   "source": [
    "train.groupby(['year'])[\"electricity_consumption\"].mean().plot()"
   ]
  },
  {
   "cell_type": "code",
   "execution_count": 286,
   "metadata": {},
   "outputs": [
    {
     "data": {
      "text/plain": [
       "<matplotlib.axes._subplots.AxesSubplot at 0x1f418a20>"
      ]
     },
     "execution_count": 286,
     "metadata": {},
     "output_type": "execute_result"
    },
    {
     "data": {
      "image/png": "[encoded data removed]",
      "text/plain": [
       "<matplotlib.figure.Figure at 0x1f3df4e0>"
      ]
     },
     "metadata": {},
     "output_type": "display_data"
    }
   ],
   "source": [
    "train.groupby('month')[\"electricity_consumption\"].sum().plot()"
   ]
  },
  {
   "cell_type": "code",
   "execution_count": 287,
   "metadata": {},
   "outputs": [],
   "source": [
    "train[\"month_wise_demand\"] = np.where(train['month'].isin([1,2,3,10,11,12]), 'low', 'high')\n",
    "test[\"month_wise_demand\"] = np.where(test['month'].isin([1,2,3,10,11,12]), 'low', 'high')"
   ]
  },
  {
   "cell_type": "code",
   "execution_count": 288,
   "metadata": {},
   "outputs": [
    {
     "data": {
      "text/plain": [
       "<matplotlib.axes._subplots.AxesSubplot at 0x1f3fe0f0>"
      ]
     },
     "execution_count": 288,
     "metadata": {},
     "output_type": "execute_result"
    },
    {
     "data": {
      "image/png": "[encoded data removed]",
      "text/plain": [
       "<matplotlib.figure.Figure at 0x1f4616d8>"
      ]
     },
     "metadata": {},
     "output_type": "display_data"
    }
   ],
   "source": [
    "train.groupby('hour')[\"electricity_consumption\"].sum().plot()"
   ]
  },
  {
   "cell_type": "code",
   "execution_count": 289,
   "metadata": {},
   "outputs": [],
   "source": [
    "train[\"hour_wise_demand\"] = np.where(train['hour'].isin([0,1,2,3,4,5,20,21,22,23]), 'high', 'low')\n",
    "test[\"hour_wise_demand\"] = np.where(test['hour'].isin([0,1,2,3,4,5,20,21,22,23]), 'high', 'low')"
   ]
  },
  {
   "cell_type": "code",
   "execution_count": 290,
   "metadata": {},
   "outputs": [
    {
     "data": {
      "text/plain": [
       "<matplotlib.axes._subplots.AxesSubplot at 0x1fbe0cc0>"
      ]
     },
     "execution_count": 290,
     "metadata": {},
     "output_type": "execute_result"
    },
    {
     "data": {
      "image/png": "[encoded data removed]",
      "text/plain": [
       "<matplotlib.figure.Figure at 0x1fbe1198>"
      ]
     },
     "metadata": {},
     "output_type": "display_data"
    }
   ],
   "source": [
    "train.groupby('day')[\"electricity_consumption\"].sum().plot()"
   ]
  },
  {
   "cell_type": "code",
   "execution_count": 291,
   "metadata": {},
   "outputs": [],
   "source": [
    "train[\"day_wise_demand\"] = np.where(train['day'].isin(['Sunday','Monday']), 'high', 'low')\n",
    "test[\"day_wise_demand\"] = np.where(test['day'].isin(['Sunday','Monday']), 'high', 'low')"
   ]
  },
  {
   "cell_type": "code",
   "execution_count": 292,
   "metadata": {},
   "outputs": [
    {
     "data": {
      "text/plain": [
       "Index(['ID', 'datetime', 'temperature', 'var1', 'pressure', 'windspeed',\n",
       "       'var2', 'electricity_consumption', 'day', 'year', 'month', 'date',\n",
       "       'hour', 'month_wise_demand', 'hour_wise_demand', 'day_wise_demand'],\n",
       "      dtype='object')"
      ]
     },
     "execution_count": 292,
     "metadata": {},
     "output_type": "execute_result"
    }
   ],
   "source": [
    "train.columns"
   ]
  },
  {
   "cell_type": "code",
   "execution_count": 293,
   "metadata": {},
   "outputs": [
    {
     "data": {
      "text/plain": [
       "Index(['ID', 'datetime', 'temperature', 'var1', 'pressure', 'windspeed',\n",
       "       'var2', 'electricity_consumption', 'day', 'year', 'month', 'date',\n",
       "       'hour', 'month_wise_demand', 'hour_wise_demand', 'day_wise_demand'],\n",
       "      dtype='object')"
      ]
     },
     "execution_count": 293,
     "metadata": {},
     "output_type": "execute_result"
    }
   ],
   "source": [
    "test.columns"
   ]
  },
  {
   "cell_type": "code",
   "execution_count": 294,
   "metadata": {},
   "outputs": [
    {
     "name": "stdout",
     "output_type": "stream",
     "text": [
      "<class 'pandas.core.frame.DataFrame'>\n",
      "RangeIndex: 26496 entries, 0 to 26495\n",
      "Data columns (total 16 columns):\n",
      "ID                         26496 non-null int64\n",
      "datetime                   26496 non-null object\n",
      "temperature                26496 non-null float64\n",
      "var1                       26496 non-null float64\n",
      "pressure                   26496 non-null float64\n",
      "windspeed                  26496 non-null float64\n",
      "var2                       26496 non-null object\n",
      "electricity_consumption    26496 non-null float64\n",
      "day                        26496 non-null object\n",
      "year                       26496 non-null int64\n",
      "month                      26496 non-null int64\n",
      "date                       26496 non-null int64\n",
      "hour                       26496 non-null int64\n",
      "month_wise_demand          26496 non-null object\n",
      "hour_wise_demand           26496 non-null object\n",
      "day_wise_demand            26496 non-null object\n",
      "dtypes: float64(5), int64(5), object(6)\n",
      "memory usage: 3.2+ MB\n"
     ]
    }
   ],
   "source": [
    "train.info()"
   ]
  },
  {
   "cell_type": "code",
   "execution_count": 295,
   "metadata": {
    "collapsed": true
   },
   "outputs": [],
   "source": [
    "allData = pd.concat([train,test],axis=0)"
   ]
  },
  {
   "cell_type": "code",
   "execution_count": null,
   "metadata": {
    "collapsed": true
   },
   "outputs": [],
   "source": [
    "#allData.sort_values(by = 'datetime', ascending=True, inplace=True)\n",
    "#allData['temperature_lag']=allData['temperature'].shift(1)"
   ]
  },
  {
   "cell_type": "code",
   "execution_count": 296,
   "metadata": {},
   "outputs": [
    {
     "data": {
      "text/plain": [
       "Index(['ID', 'datetime', 'temperature', 'var1', 'pressure', 'windspeed',\n",
       "       'var2', 'electricity_consumption', 'day', 'year', 'month', 'date',\n",
       "       'hour', 'month_wise_demand', 'hour_wise_demand', 'day_wise_demand',\n",
       "       'var2__A', 'var2__B', 'var2__C', 'day__Friday', 'day__Monday',\n",
       "       'day__Saturday', 'day__Sunday', 'day__Thursday', 'day__Tuesday',\n",
       "       'day__Wednesday', 'month__1', 'month__2', 'month__3', 'month__4',\n",
       "       'month__5', 'month__6', 'month__7', 'month__8', 'month__9', 'month__10',\n",
       "       'month__11', 'month__12', 'hour__0', 'hour__1', 'hour__2', 'hour__3',\n",
       "       'hour__4', 'hour__5', 'hour__6', 'hour__7', 'hour__8', 'hour__9',\n",
       "       'hour__10', 'hour__11', 'hour__12', 'hour__13', 'hour__14', 'hour__15',\n",
       "       'hour__16', 'hour__17', 'hour__18', 'hour__19', 'hour__20', 'hour__21',\n",
       "       'hour__22', 'hour__23', 'month_wise_demand__high',\n",
       "       'month_wise_demand__low', 'hour_wise_demand__high',\n",
       "       'hour_wise_demand__low', 'day_wise_demand__high',\n",
       "       'day_wise_demand__low'],\n",
       "      dtype='object')"
      ]
     },
     "execution_count": 296,
     "metadata": {},
     "output_type": "execute_result"
    }
   ],
   "source": [
    "list_of_clumnNames= ['var2','day','month', 'hour','month_wise_demand', 'hour_wise_demand', 'day_wise_demand']\n",
    "for column in list_of_clumnNames:\n",
    "    dummies = pd.get_dummies(allData[column],prefix=column+'_')\n",
    "    allData = pd.concat([allData,dummies],axis=1)\n",
    "allData.columns"
   ]
  },
  {
   "cell_type": "code",
   "execution_count": 297,
   "metadata": {},
   "outputs": [
    {
     "name": "stdout",
     "output_type": "stream",
     "text": [
      "(26496, 59)\n",
      "(8568, 59)\n"
     ]
    }
   ],
   "source": [
    "allData.drop(['ID','datetime','var2','day','month', 'hour']+list_of_clumnNames, axis=1,inplace =True)\n",
    "train_t = allData[allData['electricity_consumption'] != -99]\n",
    "test_t = allData[allData['electricity_consumption'] == -99]\n",
    "print(train_t.shape)\n",
    "print(test_t.shape)"
   ]
  },
  {
   "cell_type": "code",
   "execution_count": 298,
   "metadata": {},
   "outputs": [],
   "source": [
    "X = train_t.drop(['electricity_consumption'], axis=1)\n",
    "y = train_t.loc[:,'electricity_consumption']\n",
    "\n",
    "X_train = X[X['date'].isin(list(range(1,21)))]\n",
    "X_val = X[X['date'].isin(['21', '22', '23'])] \n",
    "y_train = train_t[train_t['date'].isin(list(range(1,21)))].loc[:,'electricity_consumption']\n",
    "y_val = train_t[train_t['date'].isin(['21', '22', '23'])].loc[:,'electricity_consumption']\n",
    "\n",
    "X_test = test_t.drop(['electricity_consumption'], axis=1)\n",
    "X_test = test_t.drop(['electricity_consumption'], axis=1)\n",
    "X_test = test_t.drop(['electricity_consumption'], axis=1)"
   ]
  },
  {
   "cell_type": "code",
   "execution_count": 299,
   "metadata": {},
   "outputs": [
    {
     "name": "stdout",
     "output_type": "stream",
     "text": [
      "(26496, 58)\n",
      "None\n",
      "(26496,)\n",
      "None\n",
      "(23040, 58)\n",
      "None\n",
      "(23040,)\n",
      "None\n",
      "(3456, 58)\n",
      "None\n",
      "(3456,)\n",
      "None\n",
      "(8568, 58)\n",
      "None\n"
     ]
    }
   ],
   "source": [
    "print(print(X.shape))\n",
    "print(print(y.shape))\n",
    "print(print(X_train.shape))\n",
    "print(print(y_train.shape))\n",
    "print(print(X_val.shape))\n",
    "print(print(y_val.shape))\n",
    "print(print(X_test.shape))"
   ]
  },
  {
   "cell_type": "code",
   "execution_count": 337,
   "metadata": {},
   "outputs": [
    {
     "name": "stdout",
     "output_type": "stream",
     "text": [
      "Fitting 3 folds for each of 1 candidates, totalling 3 fits\n"
     ]
    },
    {
     "name": "stderr",
     "output_type": "stream",
     "text": [
      "[Parallel(n_jobs=1)]: Done   3 out of   3 | elapsed:    2.4s finished\n"
     ]
    },
    {
     "name": "stdout",
     "output_type": "stream",
     "text": [
      "7221.713 (+/-355.282) for {'learning_rate': 0.2, 'max_depth': 4, 'max_features': 15}\n",
      "Best parameters set found on development set: {'learning_rate': 0.2, 'max_depth': 4, 'max_features': 15}\n",
      "92.44966725821435\n"
     ]
    }
   ],
   "source": [
    "grid_values = {'learning_rate': [0.2], 'max_depth': [4],'max_features': [15]}\n",
    "gbregr = GradientBoostingRegressor(random_state = 99)\n",
    "grid_gbregr = GridSearchCV(gbregr, param_grid = grid_values, scoring = make_scorer(mean_squared_error), cv = 3, verbose = 1)\n",
    "grid_gbregr.fit(X_train, y_train)\n",
    "\n",
    "means = grid_gbregr.cv_results_['mean_test_score']\n",
    "stds = grid_gbregr.cv_results_['std_test_score']\n",
    "params = grid_gbregr.cv_results_['params']\n",
    "for mean, std, params in zip(means, stds, params): \n",
    "    print(\"%0.3f (+/-%0.03f) for %r\" % (mean, std * 2, params))\n",
    "\n",
    "print(\"Best parameters set found on development set:\",grid_gbregr.best_params_)\n",
    "\n",
    "y_true, y_pred = y_val, grid_gbregr.predict(X_val)\n",
    "print(sqrt(mean_squared_error(y_true, y_pred)))"
   ]
  },
  {
   "cell_type": "code",
   "execution_count": 338,
   "metadata": {},
   "outputs": [
    {
     "name": "stdout",
     "output_type": "stream",
     "text": [
      "68.86019320980247\n"
     ]
    }
   ],
   "source": [
    "y_true, y_pred = y, grid_gbregr.predict(X)\n",
    "print(sqrt(mean_squared_error(y_true, y_pred)))"
   ]
  },
  {
   "cell_type": "code",
   "execution_count": 385,
   "metadata": {},
   "outputs": [
    {
     "data": {
      "text/plain": [
       "[<matplotlib.lines.Line2D at 0x23f7a710>]"
      ]
     },
     "execution_count": 385,
     "metadata": {},
     "output_type": "execute_result"
    },
    {
     "data": {
      "image/png": "[encoded data removed]",
      "text/plain": [
       "<matplotlib.figure.Figure at 0x1fc00668>"
      ]
     },
     "metadata": {},
     "output_type": "display_data"
    }
   ],
   "source": [
    "gbModel = GradientBoostingRegressor(learning_rate = 0.2, max_depth = 4, max_features = 15)\n",
    "gbModel.fit(X, y)\n",
    "plt.plot(gbModel.feature_importances_, 'o')"
   ]
  },
  {
   "cell_type": "code",
   "execution_count": 343,
   "metadata": {},
   "outputs": [
    {
     "data": {
      "text/plain": [
       "array([ 252.74782341,  249.7434312 ,  281.95031604, ...,  207.16791218,\n",
       "        220.77774303,  204.91081345])"
      ]
     },
     "execution_count": 343,
     "metadata": {},
     "output_type": "execute_result"
    }
   ],
   "source": [
    "y_test_gbregr_pred = gbModel.predict(X_test)\n",
    "y_test_gbregr_pred"
   ]
  },
  {
   "cell_type": "code",
   "execution_count": 386,
   "metadata": {
    "collapsed": true
   },
   "outputs": [],
   "source": [
    "test['electricity_consumption'] = y_test_gbregr_pred\n",
    "test.loc[:,['ID','electricity_consumption']].to_csv('C:/MyData/hub_project/AV Hack/AVHiringHack/GBMSubmission.csv',header=True,sep=',',index=False)"
   ]
  },
  {
   "cell_type": "code",
   "execution_count": 377,
   "metadata": {},
   "outputs": [
    {
     "name": "stdout",
     "output_type": "stream",
     "text": [
      "Training error: 67.00133039863262\n",
      "Testing error: 97.21918928045771\n"
     ]
    }
   ],
   "source": [
    "scaler = MinMaxScaler()\n",
    "X_train_scaled = scaler.fit_transform(X_train)\n",
    "X_val_scaled = scaler.transform(X_val)\n",
    "X_test_scaled = scaler.transform(X_test)\n",
    "\n",
    "nnregr = MLPRegressor(hidden_layer_sizes = [59,45,29,18,9,5], validation_fraction=0.1,activation ='relu',learning_rate_init=0.008, learning_rate='adaptive',alpha =30, random_state = 99, solver='lbfgs', verbose=1, early_stopping=True)\n",
    "nnregr.fit(X_train_scaled, y_train)\n",
    "\n",
    "y_true, y_pred = y_train, nnregr.predict(X_train_scaled)\n",
    "print(\"Training error: \"+str(sqrt(mean_squared_error(y_true, y_pred))))\n",
    "y_true, y_pred = y_val, nnregr.predict(X_val_scaled)\n",
    "print(\"Testing error: \"+str(sqrt(mean_squared_error(y_true, y_pred))))"
   ]
  },
  {
   "cell_type": "code",
   "execution_count": 378,
   "metadata": {
    "collapsed": true
   },
   "outputs": [],
   "source": [
    "y_test_nnregr_pred = nnregr.predict(X_test_scaled)\n",
    "test['electricity_consumption'] = y_test_nnregr_pred\n",
    "test.loc[:,['ID','electricity_consumption']].to_csv('C:/MyData/hub_project/AV Hack/AVHiringHack/NNSubmission.csv',header=True,sep=',',index=False)"
   ]
  },
  {
   "cell_type": "code",
   "execution_count": 379,
   "metadata": {
    "collapsed": true
   },
   "outputs": [],
   "source": [
    "test['electricity_consumption'] = (y_test_gbregr_pred + y_test_nnregr_pred)/2\n",
    "test.loc[:,['ID','electricity_consumption']].to_csv('C:/MyData/hub_project/AV Hack/AVHiringHack/NNXGBSubmission.csv',header=True,sep=',',index=False)"
   ]
  },
  {
   "cell_type": "code",
   "execution_count": 380,
   "metadata": {
    "collapsed": true
   },
   "outputs": [],
   "source": [
    "gbModel = GradientBoostingRegressor(learning_rate = 0.1, max_depth = 3, max_features = 20)\n",
    "gbModel.fit(X, y)\n",
    "y_test_gbregr_pred2 = gbModel.predict(X_test)"
   ]
  },
  {
   "cell_type": "code",
   "execution_count": 381,
   "metadata": {
    "collapsed": true
   },
   "outputs": [],
   "source": [
    "gbModel = GradientBoostingRegressor(learning_rate = 0.01, max_depth = 1, max_features = 30)\n",
    "gbModel.fit(X, y)\n",
    "y_test_gbregr_pred3 = gbModel.predict(X_test)"
   ]
  },
  {
   "cell_type": "code",
   "execution_count": 384,
   "metadata": {},
   "outputs": [],
   "source": [
    "test['electricity_consumption'] = (y_test_gbregr_pred + y_test_gbregr_pred2 + y_test_gbregr_pred3)/3\n",
    "test.loc[:,['ID','electricity_consumption']].to_csv('C:/MyData/hub_project/AV Hack/AVHiringHack/3XGBSubmission.csv',header=True,sep=',',index=False)"
   ]
  }
 ],
 "metadata": {
  "kernelspec": {
   "display_name": "Python 3",
   "language": "python",
   "name": "python3"
  },
  "language_info": {
   "codemirror_mode": {
    "name": "ipython",
    "version": 3
   },
   "file_extension": ".py",
   "mimetype": "text/x-python",
   "name": "python",
   "nbconvert_exporter": "python",
   "pygments_lexer": "ipython3",
   "version": "3.5.3"
  }
 },
 "nbformat": 4,
 "nbformat_minor": 2
}
