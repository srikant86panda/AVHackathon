{
 "cells": [
  {
   "cell_type": "code",
   "execution_count": 111,
   "metadata": {
    "collapsed": true
   },
   "outputs": [],
   "source": [
    "import pandas as pd\n",
    "import numpy as np\n",
    "import seaborn as sns\n",
    "import matplotlib.pyplot as plt\n",
    "import _pickle as pickle\n",
    "import xgboost as xgb\n",
    "import lightgbm as lgb\n",
    "from sklearn import preprocessing, metrics\n",
    "from sklearn.model_selection import KFold, StratifiedKFold, train_test_split, GridSearchCV, RandomizedSearchCV,cross_val_score\n",
    "from sklearn.ensemble import RandomForestRegressor, GradientBoostingRegressor\n",
    "from datetime import timedelta, date\n",
    "from dateutil import relativedelta\n",
    "from sklearn import preprocessing\n",
    "from sklearn.cluster import KMeans\n",
    "\n",
    "%matplotlib inline"
   ]
  },
  {
   "cell_type": "code",
   "execution_count": 112,
   "metadata": {},
   "outputs": [
    {
     "data": {
      "text/plain": [
       "Index(['hero_id', 'primary_attr', 'attack_type', 'roles', 'base_health',\n",
       "       'base_health_regen', 'base_mana', 'base_mana_regen', 'base_armor',\n",
       "       'base_magic_resistance', 'base_attack_min', 'base_attack_max',\n",
       "       'base_strength', 'base_agility', 'base_intelligence', 'strength_gain',\n",
       "       'agility_gain', 'intelligence_gain', 'attack_range', 'projectile_speed',\n",
       "       'attack_rate', 'move_speed', 'turn_rate'],\n",
       "      dtype='object')"
      ]
     },
     "execution_count": 112,
     "metadata": {},
     "output_type": "execute_result"
    }
   ],
   "source": [
    "data_hero=pd.read_csv('C:/MyData/hub_project/AVHack/Felicity/Input/hero_data.csv')\n",
    "data_hero.columns"
   ]
  },
  {
   "cell_type": "code",
   "execution_count": 113,
   "metadata": {
    "collapsed": true
   },
   "outputs": [],
   "source": [
    "mat=np.zeros(shape=(data_hero.shape[0],len(list(np.unique(np.array(':'.join(list(data_hero.roles)).split(':')))))))\n",
    "df_ft=pd.DataFrame(mat)\n",
    "df_ft.columns = list(np.unique(np.array(':'.join(list(data_hero.roles)).split(':'))))\n",
    "\n",
    "for element in df_ft.columns:\n",
    "    df_ft[element] = pd.np.where(data_hero.roles.str.contains(element),1,0)"
   ]
  },
  {
   "cell_type": "code",
   "execution_count": 114,
   "metadata": {},
   "outputs": [
    {
     "data": {
      "text/plain": [
       "Index(['hero_id', 'primary_attr', 'attack_type', 'roles', 'base_health',\n",
       "       'base_health_regen', 'base_mana', 'base_mana_regen', 'base_armor',\n",
       "       'base_magic_resistance', 'base_attack_min', 'base_attack_max',\n",
       "       'base_strength', 'base_agility', 'base_intelligence', 'strength_gain',\n",
       "       'agility_gain', 'intelligence_gain', 'attack_range', 'projectile_speed',\n",
       "       'attack_rate', 'move_speed', 'turn_rate', 'Carry', 'Disabler',\n",
       "       'Durable', 'Escape', 'Initiator', 'Jungler', 'Nuker', 'Pusher',\n",
       "       'Support'],\n",
       "      dtype='object')"
      ]
     },
     "execution_count": 114,
     "metadata": {},
     "output_type": "execute_result"
    }
   ],
   "source": [
    "data_hero_processed = pd.concat([data_hero,df_ft],axis=1)\n",
    "data_hero_processed.columns"
   ]
  },
  {
   "cell_type": "code",
   "execution_count": 115,
   "metadata": {},
   "outputs": [
    {
     "data": {
      "text/plain": [
       "Index(['hero_id', 'primary_attr', 'attack_type', 'base_health',\n",
       "       'base_health_regen', 'base_mana', 'base_mana_regen', 'base_armor',\n",
       "       'base_magic_resistance', 'base_attack_min', 'base_attack_max',\n",
       "       'base_strength', 'base_agility', 'base_intelligence', 'strength_gain',\n",
       "       'agility_gain', 'intelligence_gain', 'attack_range', 'projectile_speed',\n",
       "       'attack_rate', 'move_speed', 'turn_rate', 'Carry', 'Disabler',\n",
       "       'Durable', 'Escape', 'Initiator', 'Jungler', 'Nuker', 'Pusher',\n",
       "       'Support'],\n",
       "      dtype='object')"
      ]
     },
     "execution_count": 115,
     "metadata": {},
     "output_type": "execute_result"
    }
   ],
   "source": [
    "for c in ['primary_attr', 'attack_type']:\n",
    "    lbl = preprocessing.LabelEncoder()\n",
    "    lbl.fit(list(data_hero_processed[c].values.astype('str')))\n",
    "    data_hero_processed[c] = lbl.transform(list(data_hero_processed[c].values.astype('str')))\n",
    "data_hero_processed.drop(['roles'],axis=1,inplace=True)\n",
    "data_hero_processed.columns"
   ]
  },
  {
   "cell_type": "code",
   "execution_count": 116,
   "metadata": {},
   "outputs": [
    {
     "data": {
      "text/plain": [
       "True"
      ]
     },
     "execution_count": 116,
     "metadata": {},
     "output_type": "execute_result"
    }
   ],
   "source": [
    "data_hero_processed.shape[0] == data_hero.shape[0]"
   ]
  },
  {
   "cell_type": "code",
   "execution_count": 117,
   "metadata": {},
   "outputs": [
    {
     "data": {
      "image/png": "[encoded data removed]",
      "text/plain": [
       "<matplotlib.figure.Figure at 0x17b362b0>"
      ]
     },
     "metadata": {},
     "output_type": "display_data"
    }
   ],
   "source": [
    "all_possible_cluster = range(1, 20,1)\n",
    "kmeans = [KMeans(n_clusters=i) for i in all_possible_cluster]\n",
    "score = [kmeans[i].fit(data_hero_processed).score(data_hero_processed) for i in range(len(kmeans))]\n",
    "\n",
    "plt.plot(all_possible_cluster,score)\n",
    "plt.xlabel('Number of Clusters')\n",
    "plt.ylabel('Score')\n",
    "plt.title('Elbow Curve')\n",
    "plt.show()"
   ]
  },
  {
   "cell_type": "code",
   "execution_count": 118,
   "metadata": {},
   "outputs": [
    {
     "data": {
      "text/plain": [
       "array([3, 1, 0, 1, 0, 0, 3, 3, 0, 0, 0, 1, 0, 3, 2, 1, 0, 3, 1, 0, 0, 0, 1,\n",
       "       0, 0, 0, 3, 1, 0, 0, 1, 0, 0, 2, 0, 0, 3, 0, 0, 1, 3, 0, 1, 0, 1, 0,\n",
       "       1, 1, 0, 1, 0, 0, 1, 1, 0, 1, 0, 0, 1, 1, 1, 0, 0, 1, 0, 1, 0, 1, 1,\n",
       "       1, 2, 1, 0, 0, 0, 1, 1, 0, 0, 1, 1, 1, 1, 1, 0, 0, 1, 1, 0, 0, 0, 3,\n",
       "       0, 0, 1, 1, 1, 1, 1, 0, 1, 1, 1, 0, 1, 1, 1, 1, 0, 0, 1, 0, 1, 0, 1])"
      ]
     },
     "execution_count": 118,
     "metadata": {},
     "output_type": "execute_result"
    }
   ],
   "source": [
    "kmeans_model=KMeans(n_clusters=4)\n",
    "kmeans_model.fit(data_hero_processed)\n",
    "kmeans_model.labels_"
   ]
  },
  {
   "cell_type": "code",
   "execution_count": 119,
   "metadata": {
    "collapsed": true
   },
   "outputs": [],
   "source": [
    "data_hero_processed['cluster_for_hero']=kmeans_model.labels_"
   ]
  },
  {
   "cell_type": "code",
   "execution_count": 120,
   "metadata": {},
   "outputs": [
    {
     "data": {
      "text/plain": [
       "Index(['hero_id', 'primary_attr', 'attack_type', 'base_health',\n",
       "       'base_health_regen', 'base_mana', 'base_mana_regen', 'base_armor',\n",
       "       'base_magic_resistance', 'base_attack_min', 'base_attack_max',\n",
       "       'base_strength', 'base_agility', 'base_intelligence', 'strength_gain',\n",
       "       'agility_gain', 'intelligence_gain', 'attack_range', 'projectile_speed',\n",
       "       'attack_rate', 'move_speed', 'turn_rate', 'Carry', 'Disabler',\n",
       "       'Durable', 'Escape', 'Initiator', 'Jungler', 'Nuker', 'Pusher',\n",
       "       'Support', 'cluster_for_hero'],\n",
       "      dtype='object')"
      ]
     },
     "execution_count": 120,
     "metadata": {},
     "output_type": "execute_result"
    }
   ],
   "source": [
    "data_hero_processed.columns"
   ]
  },
  {
   "cell_type": "code",
   "execution_count": 121,
   "metadata": {},
   "outputs": [],
   "source": [
    "data_hero_processed.to_csv('intermediate/hero_processed.csv',header=True,sep=',')"
   ]
  },
  {
   "cell_type": "code",
   "execution_count": 122,
   "metadata": {
    "collapsed": true
   },
   "outputs": [],
   "source": [
    "data_train_1=pd.read_csv('C:/MyData/hub_project/AVHack/Felicity/Input/train1.csv')\n",
    "data_train_9=pd.read_csv('C:/MyData/hub_project/AVHack/Felicity/Input/train9.csv')\n",
    "data_test_1=pd.read_csv('C:/MyData/hub_project/AVHack/Felicity/Input/test1.csv')\n",
    "data_test_9=pd.read_csv('C:/MyData/hub_project/AVHack/Felicity/Input/test9.csv')"
   ]
  },
  {
   "cell_type": "code",
   "execution_count": 123,
   "metadata": {},
   "outputs": [
    {
     "name": "stdout",
     "output_type": "stream",
     "text": [
      "(2094, 6) (18846, 6)\n",
      "(898, 4) (8082, 6)\n",
      "(2094, 6) (18846, 6)\n",
      "(898, 6) (8082, 6)\n"
     ]
    }
   ],
   "source": [
    "print(data_train_1.shape,data_train_9.shape)\n",
    "print(data_test_1.shape,data_test_9.shape)\n",
    "data_test_1['kda_ratio']=-99\n",
    "data_test_1['num_wins']=-99\n",
    "print(data_train_1.shape,data_train_9.shape)\n",
    "print(data_test_1.shape,data_test_9.shape)"
   ]
  },
  {
   "cell_type": "code",
   "execution_count": 124,
   "metadata": {},
   "outputs": [
    {
     "name": "stdout",
     "output_type": "stream",
     "text": [
      "(2094, 7) (18846, 7)\n",
      "(898, 7) (8082, 7)\n"
     ]
    }
   ],
   "source": [
    "data_train_1['type']='data_train_1'\n",
    "data_train_9['type']='data_train_9'\n",
    "data_test_1['type']='data_test_1'\n",
    "data_test_9['type']='data_test_9'\n",
    "print(data_train_1.shape,data_train_9.shape)\n",
    "print(data_test_1.shape,data_test_9.shape)"
   ]
  },
  {
   "cell_type": "code",
   "execution_count": 125,
   "metadata": {},
   "outputs": [
    {
     "name": "stdout",
     "output_type": "stream",
     "text": [
      "data_train_9    18846\n",
      "data_test_9      8082\n",
      "Name: type, dtype: int64\n",
      "data_train_1    2094\n",
      "data_test_1      898\n",
      "Name: type, dtype: int64\n"
     ]
    }
   ],
   "source": [
    "all_data_train=pd.concat([data_test_9,data_train_9])\n",
    "all_data_test=pd.concat([data_test_1,data_train_1])\n",
    "\n",
    "print(all_data_train.type.value_counts())\n",
    "print(all_data_test.type.value_counts())"
   ]
  },
  {
   "cell_type": "code",
   "execution_count": 126,
   "metadata": {
    "collapsed": true
   },
   "outputs": [],
   "source": [
    "all_data_train['Wining_chance']=(all_data_train.num_wins/all_data_train.num_games)*100\n",
    "all_data_train['Wining_chance']=all_data_train['Wining_chance'].astype(int)"
   ]
  },
  {
   "cell_type": "code",
   "execution_count": 127,
   "metadata": {
    "collapsed": true
   },
   "outputs": [],
   "source": [
    "all_data_train_with_feature=pd.merge(all_data_train, data_hero_processed, how='left', on='hero_id')"
   ]
  },
  {
   "cell_type": "code",
   "execution_count": 128,
   "metadata": {},
   "outputs": [
    {
     "data": {
      "text/plain": [
       "Index(['user_id', 'hero_id', 'id', 'num_games', 'num_wins', 'kda_ratio',\n",
       "       'type', 'Wining_chance', 'primary_attr', 'attack_type', 'base_health',\n",
       "       'base_health_regen', 'base_mana', 'base_mana_regen', 'base_armor',\n",
       "       'base_magic_resistance', 'base_attack_min', 'base_attack_max',\n",
       "       'base_strength', 'base_agility', 'base_intelligence', 'strength_gain',\n",
       "       'agility_gain', 'intelligence_gain', 'attack_range', 'projectile_speed',\n",
       "       'attack_rate', 'move_speed', 'turn_rate', 'Carry', 'Disabler',\n",
       "       'Durable', 'Escape', 'Initiator', 'Jungler', 'Nuker', 'Pusher',\n",
       "       'Support', 'cluster_for_hero'],\n",
       "      dtype='object')"
      ]
     },
     "execution_count": 128,
     "metadata": {},
     "output_type": "execute_result"
    }
   ],
   "source": [
    "all_data_train_with_feature.columns"
   ]
  },
  {
   "cell_type": "code",
   "execution_count": 129,
   "metadata": {
    "collapsed": true
   },
   "outputs": [],
   "source": [
    "all_data_train_with_feature.to_csv('all_data_train_with_feature.csv',header=True,sep=',')"
   ]
  },
  {
   "cell_type": "code",
   "execution_count": 130,
   "metadata": {},
   "outputs": [
    {
     "data": {
      "text/plain": [
       "\"f = {'num_games': ['mean','std'],'kda_ratio': ['mean','std'],'Wining_chance': ['mean']}\\nall_data_train_with_feature_cluster=all_data_train_with_feature.groupby(['cluster_for_hero'], as_index=False).agg(f)\\nall_data_train_with_feature_cluster.columns = ['cluster_for_hero','kda_ratio_mean_cluster','kda_ratio_std_cluster','num_games_mean_cluster', 'num_games_std_cluster', 'Wining_chance_mean_cluster']\""
      ]
     },
     "execution_count": 130,
     "metadata": {},
     "output_type": "execute_result"
    }
   ],
   "source": [
    "'''f = {'num_games': ['mean','std'],'kda_ratio': ['mean','std'],'Wining_chance': ['mean']}\n",
    "all_data_train_with_feature_cluster=all_data_train_with_feature.groupby(['cluster_for_hero'], as_index=False).agg(f)\n",
    "all_data_train_with_feature_cluster.columns = ['cluster_for_hero','kda_ratio_mean_cluster','kda_ratio_std_cluster','num_games_mean_cluster', 'num_games_std_cluster', 'Wining_chance_mean_cluster']'''"
   ]
  },
  {
   "cell_type": "code",
   "execution_count": 131,
   "metadata": {
    "scrolled": true
   },
   "outputs": [],
   "source": [
    "f = {'num_games': ['mean','std','max','min','count'],'kda_ratio': ['mean','std','max','min','count'],'Wining_chance': ['mean']}\n",
    "all_data_train_with_feature_cluster=all_data_train_with_feature.groupby(['cluster_for_hero'], as_index=False).agg(f)\n",
    "all_data_train_with_feature_cluster.columns = ['cluster_for_hero','kda_ratio_mean_cluster','kda_ratio_std_cluster','kda_ratio_max_cluster','kda_ratio_min_cluster','kda_ratio_count_cluster','num_games_mean_cluster', 'num_games_std_cluster', 'num_games_max_cluster','num_games_min_cluster','num_games_count_cluster','Wining_chance_mean_cluster']"
   ]
  },
  {
   "cell_type": "code",
   "execution_count": 132,
   "metadata": {
    "collapsed": true
   },
   "outputs": [],
   "source": [
    "all_data_train_with_feature_cluster.to_csv('intermediate/all_data_train_with_feature_cluster.csv',header=True,sep=',')"
   ]
  },
  {
   "cell_type": "code",
   "execution_count": 133,
   "metadata": {},
   "outputs": [
    {
     "data": {
      "text/plain": [
       "\"f = {'num_games': ['mean','std'],'kda_ratio': ['mean','std'],'Wining_chance': ['mean']}\\nall_data_train_with_feature_user=all_data_train_with_feature.groupby(['user_id','cluster_for_hero'], as_index=False).agg(f)\\nall_data_train_with_feature_user.columns = ['user_id','cluster_for_hero','kda_ratio_mean_user','kda_ratio_std_user','num_games_mean_user', 'num_games_std_user','Wining_chance_mean_user']\""
      ]
     },
     "execution_count": 133,
     "metadata": {},
     "output_type": "execute_result"
    }
   ],
   "source": [
    "'''f = {'num_games': ['mean','std'],'kda_ratio': ['mean','std'],'Wining_chance': ['mean']}\n",
    "all_data_train_with_feature_user=all_data_train_with_feature.groupby(['user_id','cluster_for_hero'], as_index=False).agg(f)\n",
    "all_data_train_with_feature_user.columns = ['user_id','cluster_for_hero','kda_ratio_mean_user','kda_ratio_std_user','num_games_mean_user', 'num_games_std_user','Wining_chance_mean_user']'''"
   ]
  },
  {
   "cell_type": "code",
   "execution_count": 134,
   "metadata": {},
   "outputs": [],
   "source": [
    "f = {'num_games': ['mean','std','max','min','count'],'kda_ratio': ['mean','std','max','min','count'],'Wining_chance': ['mean']}\n",
    "all_data_train_with_feature_user=all_data_train_with_feature.groupby(['user_id','cluster_for_hero'], as_index=False).agg(f)\n",
    "all_data_train_with_feature_user.columns = ['user_id','cluster_for_hero','kda_ratio_mean_user','kda_ratio_std_user','kda_ratio_max_user','kda_ratio_min_user','kda_ratio_count_user','num_games_mean_user', 'num_games_std_user', 'num_games_max_user','num_games_min_user','num_games_count_user','Wining_chance_mean_user']"
   ]
  },
  {
   "cell_type": "code",
   "execution_count": 135,
   "metadata": {
    "collapsed": true,
    "scrolled": true
   },
   "outputs": [],
   "source": [
    "all_data_train_with_feature_user.to_csv('intermediate/all_data_train_with_feature_user.csv',header=True,sep=',')"
   ]
  },
  {
   "cell_type": "code",
   "execution_count": 136,
   "metadata": {
    "collapsed": true
   },
   "outputs": [],
   "source": [
    "all_data_test_with_feature=pd.merge(all_data_test, data_hero_processed, how='left', on='hero_id')"
   ]
  },
  {
   "cell_type": "code",
   "execution_count": 137,
   "metadata": {},
   "outputs": [
    {
     "data": {
      "text/plain": [
       "Index(['hero_id', 'id', 'kda_ratio', 'num_games', 'num_wins', 'type',\n",
       "       'user_id', 'primary_attr', 'attack_type', 'base_health',\n",
       "       'base_health_regen', 'base_mana', 'base_mana_regen', 'base_armor',\n",
       "       'base_magic_resistance', 'base_attack_min', 'base_attack_max',\n",
       "       'base_strength', 'base_agility', 'base_intelligence', 'strength_gain',\n",
       "       'agility_gain', 'intelligence_gain', 'attack_range', 'projectile_speed',\n",
       "       'attack_rate', 'move_speed', 'turn_rate', 'Carry', 'Disabler',\n",
       "       'Durable', 'Escape', 'Initiator', 'Jungler', 'Nuker', 'Pusher',\n",
       "       'Support', 'cluster_for_hero'],\n",
       "      dtype='object')"
      ]
     },
     "execution_count": 137,
     "metadata": {},
     "output_type": "execute_result"
    }
   ],
   "source": [
    "all_data_test_with_feature.columns"
   ]
  },
  {
   "cell_type": "code",
   "execution_count": 138,
   "metadata": {
    "collapsed": true
   },
   "outputs": [],
   "source": [
    "all_data_test_with_feature_cluster=pd.merge(all_data_test_with_feature, all_data_train_with_feature_cluster, how='left', on='cluster_for_hero')"
   ]
  },
  {
   "cell_type": "code",
   "execution_count": 139,
   "metadata": {
    "collapsed": true,
    "scrolled": true
   },
   "outputs": [],
   "source": [
    "all_data_test_with_feature_cluster_user=pd.merge(all_data_test_with_feature_cluster, all_data_train_with_feature_user, how='left', on=['user_id','cluster_for_hero'])"
   ]
  },
  {
   "cell_type": "code",
   "execution_count": 140,
   "metadata": {
    "collapsed": true
   },
   "outputs": [],
   "source": [
    "all_data_test_with_feature_cluster_user.to_csv('intermediate/all_data_test_with_feature_cluster_user.csv',header=True,sep=',')"
   ]
  },
  {
   "cell_type": "code",
   "execution_count": 141,
   "metadata": {
    "collapsed": true
   },
   "outputs": [],
   "source": [
    "all_data_test_with_feature_cluster_user.fillna(0,inplace=True)"
   ]
  },
  {
   "cell_type": "code",
   "execution_count": 142,
   "metadata": {
    "collapsed": true
   },
   "outputs": [],
   "source": [
    "column_to_drop = ['hero_id','id','user_id','type','num_wins']\n",
    "response = ['kda_ratio']"
   ]
  },
  {
   "cell_type": "code",
   "execution_count": 143,
   "metadata": {
    "collapsed": true
   },
   "outputs": [],
   "source": [
    "train = all_data_test_with_feature_cluster_user.loc[all_data_test_with_feature_cluster_user['type']=='data_train_1',:]\n",
    "test = all_data_test_with_feature_cluster_user.loc[all_data_test_with_feature_cluster_user['type']=='data_test_1',:]"
   ]
  },
  {
   "cell_type": "code",
   "execution_count": 144,
   "metadata": {
    "collapsed": true
   },
   "outputs": [],
   "source": [
    "train.reset_index(drop=True,inplace=True)\n",
    "test.reset_index(drop=True,inplace=True)"
   ]
  },
  {
   "cell_type": "code",
   "execution_count": 145,
   "metadata": {},
   "outputs": [
    {
     "name": "stdout",
     "output_type": "stream",
     "text": [
      "True\n",
      "True\n"
     ]
    }
   ],
   "source": [
    "print(train.shape[0]==data_train_1.shape[0])\n",
    "print(test.shape[0]==data_test_1.shape[0])"
   ]
  },
  {
   "cell_type": "code",
   "execution_count": 183,
   "metadata": {
    "collapsed": true
   },
   "outputs": [],
   "source": [
    "train_X = train.drop(column_to_drop+response, axis=1)\n",
    "train_y = (train['kda_ratio']).values\n",
    "test_X = test.drop(column_to_drop+response, axis=1)"
   ]
  },
  {
   "cell_type": "code",
   "execution_count": 147,
   "metadata": {},
   "outputs": [
    {
     "data": {
      "text/plain": [
       "\"train_X_1 = train.drop(column_to_drop+response, axis=1)\\ntrain_y_1 = train['kda_ratio']\\ntest_X_1 = test.drop(column_to_drop+response, axis=1)\\n\\nscaler = preprocessing.MinMaxScaler()\\nscaler.fit(train_X_1)\\nscaled_train_X=scaler.transform(train_X_1)\\nscaled_test_X=scaler.transform(test_X_1)\\n\\ntrain_X = pd.DataFrame(scaled_train_X, columns=train_X_1.columns)\\ntest_X = pd.DataFrame(scaled_test_X, columns=test_X_1.columns)\\ntrain_y = train_y_1\""
      ]
     },
     "execution_count": 147,
     "metadata": {},
     "output_type": "execute_result"
    }
   ],
   "source": [
    "'''train_X_1 = train.drop(column_to_drop+response, axis=1)\n",
    "train_y_1 = train['kda_ratio']\n",
    "test_X_1 = test.drop(column_to_drop+response, axis=1)\n",
    "\n",
    "scaler = preprocessing.MinMaxScaler()\n",
    "scaler.fit(train_X_1)\n",
    "scaled_train_X=scaler.transform(train_X_1)\n",
    "scaled_test_X=scaler.transform(test_X_1)\n",
    "\n",
    "train_X = pd.DataFrame(scaled_train_X, columns=train_X_1.columns)\n",
    "test_X = pd.DataFrame(scaled_test_X, columns=test_X_1.columns)\n",
    "train_y = train_y_1'''"
   ]
  },
  {
   "cell_type": "code",
   "execution_count": 148,
   "metadata": {
    "collapsed": true
   },
   "outputs": [],
   "source": [
    "train.to_csv('intermediate/train.csv',header=True,sep=',')\n",
    "test.to_csv('intermediate/test.csv',header=True,sep=',')"
   ]
  },
  {
   "cell_type": "code",
   "execution_count": 149,
   "metadata": {
    "collapsed": true
   },
   "outputs": [],
   "source": [
    "train_X.to_csv('intermediate/train_X.csv',header=True,sep=',')\n",
    "train_y.to_csv('intermediate/train_y.csv',header=True,sep=',')\n",
    "test_X.to_csv('intermediate/test_X.csv',header=True,sep=',')"
   ]
  },
  {
   "cell_type": "markdown",
   "metadata": {},
   "source": [
    "## Light GBM"
   ]
  },
  {
   "cell_type": "code",
   "execution_count": 54,
   "metadata": {
    "collapsed": true
   },
   "outputs": [],
   "source": [
    "def runLGB(dev_X, dev_y, val_X, val_y, test_X = None, params = None, rounds = 5000, variableImportance = False):\n",
    "    if params is None:\n",
    "        params = {'task': 'train',\n",
    "                  'boosting_type':'gbdt', \n",
    "                  'num_leaves':31, \n",
    "                  'max_depth':-1,\n",
    "                  'learning_rate':0.1,\n",
    "                  'objective':'regression',\n",
    "                  'class_weight':None,\n",
    "                  'min_split_gain':0.0, \n",
    "                  'min_child_weight':0.001,\n",
    "                  'min_child_samples':20, \n",
    "                  'subsample':1.0, \n",
    "                  'subsample_freq':1, \n",
    "                  'colsample_bytree':1.0,\n",
    "                  'reg_alpha':0.0, \n",
    "                  'reg_lambda':0.0, \n",
    "                  'random_state':2018,\n",
    "                  'n_jobs':-1, \n",
    "                  'silent':True,\n",
    "                  'metric': 'rmse'}\n",
    "        \n",
    "    num_rounds = rounds\n",
    "\n",
    "    plst = list(params.items())\n",
    "    lgb_dev = lgb.Dataset(dev_X, label=dev_y)\n",
    "    if val_y is not None:\n",
    "        lgb_val = lgb.Dataset(val_X, label=val_y)\n",
    "        model = lgb.train(params,lgb_dev,num_boost_round=num_rounds,valid_names=['dev','val'],valid_sets=[lgb_dev,lgb_val],early_stopping_rounds=100,verbose_eval=100)\n",
    "    else:\n",
    "        model = lgb.train(params, lgb_dev, num_rounds)\n",
    "    \n",
    "    if variableImportance:\n",
    "        print('Variable Importance Plot')\n",
    "        lgb.plot_importance(model)\n",
    "        plt.figure(figsize=(15,15))\n",
    "        plt.show()\n",
    "    \n",
    "    pred_val_y = model.predict(val_X, num_iteration=model.best_iteration)\n",
    "    \n",
    "    if test_X is not None:\n",
    "        pred_test_y = model.predict(test_X, num_iteration=model.best_iteration)\n",
    "    else: \n",
    "        pred_test_y = np.nan\n",
    "    \n",
    "    score = 0\n",
    "    if val_y is not None:\n",
    "        score =  metrics.mean_squared_error(val_y, pred_val_y)\n",
    "        return pred_val_y, score, pred_test_y\n",
    "    else:\n",
    "        return pred_val_y, score, pred_test_y"
   ]
  },
  {
   "cell_type": "code",
   "execution_count": 56,
   "metadata": {},
   "outputs": [
    {
     "name": "stderr",
     "output_type": "stream",
     "text": [
      "c:\\users\\sripan\\appdata\\local\\programs\\python\\python35\\lib\\site-packages\\lightgbm\\basic.py:644: UserWarning: silent keyword has been found in `params` and will be ignored. Please use silent argument of the Dataset constructor to pass this parameter.\n",
      "  'Please use {0} argument of the Dataset constructor to pass this parameter.'.format(key))\n"
     ]
    },
    {
     "name": "stdout",
     "output_type": "stream",
     "text": [
      "Training until validation scores don't improve for 100 rounds.\n",
      "[100]\tdev's rmse: 402.51\tval's rmse: 675.854\n",
      "Early stopping, best iteration is:\n",
      "[39]\tdev's rmse: 535.984\tval's rmse: 653.257\n",
      "Variable Importance Plot\n"
     ]
    },
    {
     "data": {
      "image/png": "[encoded data removed]",
      "text/plain": [
       "<matplotlib.figure.Figure at 0x1af73208>"
      ]
     },
     "metadata": {},
     "output_type": "display_data"
    },
    {
     "data": {
      "text/plain": [
       "<matplotlib.figure.Figure at 0x17b81da0>"
      ]
     },
     "metadata": {},
     "output_type": "display_data"
    },
    {
     "name": "stdout",
     "output_type": "stream",
     "text": [
      "Score:426745.2046190965\n"
     ]
    }
   ],
   "source": [
    "dev_X, val_X, dev_y, val_y = train_test_split(train_X,train_y,test_size = 0.2, random_state = 2018)\n",
    "pred_val_y, score, pred_test_y = runLGB(dev_X, dev_y, val_X, val_y, rounds=10000, variableImportance=True)\n",
    "print('Score:{}'.format(score))"
   ]
  },
  {
   "cell_type": "code",
   "execution_count": 93,
   "metadata": {
    "collapsed": true
   },
   "outputs": [],
   "source": [
    "params = {'boosting_type':'gbdt', \n",
    "          'num_leaves':31, \n",
    "          'max_depth':-1,\n",
    "          'learning_rate':0.1, \n",
    "          'n_estimators':100, \n",
    "          'subsample_for_bin':200000, \n",
    "          'objective':'regression',\n",
    "          'class_weight':None,\n",
    "          'min_split_gain':0.0, \n",
    "          'min_child_samples':20, \n",
    "          'subsample':1.0, \n",
    "          'subsample_freq':1, \n",
    "          'colsample_bytree':1.0,\n",
    "          'reg_alpha':0.0, \n",
    "          'reg_lambda':0.0, \n",
    "          'random_state':2018,\n",
    "          'n_jobs':-1, \n",
    "          'silent':True,\n",
    "          'metric': 'rmse'}\n",
    "\n",
    "def return_lgb_model():\n",
    "    lgb_model = lgb.LGBMRegressor(boosting_type= params['boosting_type'],num_leaves = params['num_leaves'],\n",
    "                                max_depth = params['max_depth'],learning_rate =  params['learning_rate'],\n",
    "                                n_estimators = params['n_estimators'],subsample_for_bin = params['subsample_for_bin'],\n",
    "                                objective = params['objective'],min_split_gain = params['min_split_gain'],\n",
    "                                min_child_samples = params['min_child_samples'],\n",
    "                                subsample = params['subsample'],subsample_freq = params['subsample_freq'],\n",
    "                                colsample_bytree = params['colsample_bytree'],reg_alpha = params['reg_alpha'],\n",
    "                                reg_lambda = params['reg_lambda'],random_state = params['random_state'],\n",
    "                                n_jobs = params['n_jobs'],silent = params['silent'])\n",
    "    return lgb_model"
   ]
  },
  {
   "cell_type": "code",
   "execution_count": 61,
   "metadata": {
    "collapsed": true
   },
   "outputs": [],
   "source": [
    "params['n_estimators']=39"
   ]
  },
  {
   "cell_type": "code",
   "execution_count": 62,
   "metadata": {},
   "outputs": [
    {
     "name": "stdout",
     "output_type": "stream",
     "text": [
      "[mean: -619598.26746, std: 176665.05302, params: {'num_leaves': 2}, mean: -559337.23069, std: 168598.71285, params: {'num_leaves': 3}]\n",
      "Best parameter: 3, score: -559337.2306866955\n"
     ]
    },
    {
     "name": "stderr",
     "output_type": "stream",
     "text": [
      "c:\\users\\sripan\\appdata\\local\\programs\\python\\python35\\lib\\site-packages\\sklearn\\model_selection\\_search.py:761: DeprecationWarning: The grid_scores_ attribute was deprecated in version 0.18 in favor of the more elaborate cv_results_ attribute. The grid_scores_ attribute will not be available from 0.20\n",
      "  DeprecationWarning)\n"
     ]
    }
   ],
   "source": [
    "lgb_rgsr = return_lgb_model()\n",
    "\n",
    "param_test_num_leaves = {\n",
    " 'num_leaves': range(2,4,1)\n",
    "}\n",
    "gsearch_param_test_num_leaves = GridSearchCV(lgb_rgsr, param_grid = param_test_num_leaves, scoring='mean_squared_error', n_jobs=4, iid=False, cv=5)\n",
    "gsearch_param_test_num_leaves.fit(train_X,train_y)\n",
    "print(gsearch_param_test_num_leaves.grid_scores_)\n",
    "print(\"Best parameter: {}, score: {}\".format(gsearch_param_test_num_leaves.best_params_['num_leaves'], gsearch_param_test_num_leaves.best_score_))"
   ]
  },
  {
   "cell_type": "code",
   "execution_count": 63,
   "metadata": {
    "collapsed": true
   },
   "outputs": [],
   "source": [
    "params['num_leaves']=gsearch_param_test_num_leaves.best_params_['num_leaves']"
   ]
  },
  {
   "cell_type": "code",
   "execution_count": 70,
   "metadata": {},
   "outputs": [
    {
     "data": {
      "text/plain": [
       "3"
      ]
     },
     "execution_count": 70,
     "metadata": {},
     "output_type": "execute_result"
    }
   ],
   "source": [
    "params['num_leaves']"
   ]
  },
  {
   "cell_type": "code",
   "execution_count": 65,
   "metadata": {},
   "outputs": [
    {
     "name": "stdout",
     "output_type": "stream",
     "text": [
      "[mean: -559449.77464, std: 169240.29238, params: {'min_data_in_leaf': 12}, mean: -559936.09666, std: 168033.68125, params: {'min_data_in_leaf': 13}, mean: -559995.21734, std: 167976.42189, params: {'min_data_in_leaf': 14}]\n",
      "Best parameter: 12, score: -559449.7746375547\n"
     ]
    },
    {
     "name": "stderr",
     "output_type": "stream",
     "text": [
      "c:\\users\\sripan\\appdata\\local\\programs\\python\\python35\\lib\\site-packages\\sklearn\\model_selection\\_search.py:761: DeprecationWarning: The grid_scores_ attribute was deprecated in version 0.18 in favor of the more elaborate cv_results_ attribute. The grid_scores_ attribute will not be available from 0.20\n",
      "  DeprecationWarning)\n"
     ]
    }
   ],
   "source": [
    "lgb_rgsr = return_lgb_model()\n",
    "\n",
    "param_test_min_data_in_leaf = {\n",
    " 'min_data_in_leaf': [12,13,14]\n",
    "}\n",
    "gsearch_param_test_min_data_in_leaf = GridSearchCV(lgb_rgsr, param_grid = param_test_min_data_in_leaf, scoring='mean_squared_error', n_jobs=4, iid=False, cv=5)\n",
    "gsearch_param_test_min_data_in_leaf.fit(train_X,train_y)\n",
    "print(gsearch_param_test_min_data_in_leaf.grid_scores_)\n",
    "print(\"Best parameter: {}, score: {}\".format(gsearch_param_test_min_data_in_leaf.best_params_['min_data_in_leaf'], gsearch_param_test_min_data_in_leaf.best_score_))"
   ]
  },
  {
   "cell_type": "code",
   "execution_count": 66,
   "metadata": {
    "collapsed": true
   },
   "outputs": [],
   "source": [
    "params['min_data_in_leaf']=gsearch_param_test_min_data_in_leaf.best_params_['min_data_in_leaf']"
   ]
  },
  {
   "cell_type": "code",
   "execution_count": 71,
   "metadata": {},
   "outputs": [
    {
     "data": {
      "text/plain": [
       "12"
      ]
     },
     "execution_count": 71,
     "metadata": {},
     "output_type": "execute_result"
    }
   ],
   "source": [
    "params['min_data_in_leaf']"
   ]
  },
  {
   "cell_type": "code",
   "execution_count": 67,
   "metadata": {},
   "outputs": [
    {
     "name": "stdout",
     "output_type": "stream",
     "text": [
      "[mean: -619598.26746, std: 176665.05302, params: {'max_depth': 1}, mean: -559337.23069, std: 168598.71285, params: {'max_depth': 2}, mean: -559337.23069, std: 168598.71285, params: {'max_depth': 3}, mean: -559337.23069, std: 168598.71285, params: {'max_depth': 4}]\n",
      "Best parameter: 2, score: -559337.2306866955\n"
     ]
    },
    {
     "name": "stderr",
     "output_type": "stream",
     "text": [
      "c:\\users\\sripan\\appdata\\local\\programs\\python\\python35\\lib\\site-packages\\sklearn\\model_selection\\_search.py:761: DeprecationWarning: The grid_scores_ attribute was deprecated in version 0.18 in favor of the more elaborate cv_results_ attribute. The grid_scores_ attribute will not be available from 0.20\n",
      "  DeprecationWarning)\n"
     ]
    }
   ],
   "source": [
    "lgb_rgsr = return_lgb_model()\n",
    "\n",
    "param_test_max_depth = {\n",
    " 'max_depth':[1,2,3,4]\n",
    "}\n",
    "gsearch_max_depth = GridSearchCV(lgb_rgsr, param_grid = param_test_max_depth, scoring='mean_squared_error', n_jobs=4, iid=False, cv=5)\n",
    "gsearch_max_depth.fit(train_X,train_y)\n",
    "print(gsearch_max_depth.grid_scores_)\n",
    "print(\"Best parameter: {}, score: {}\".format(gsearch_max_depth.best_params_['max_depth'], gsearch_max_depth.best_score_))"
   ]
  },
  {
   "cell_type": "code",
   "execution_count": 68,
   "metadata": {
    "collapsed": true
   },
   "outputs": [],
   "source": [
    "params['max_depth'] = gsearch_max_depth.best_params_['max_depth']"
   ]
  },
  {
   "cell_type": "code",
   "execution_count": 69,
   "metadata": {},
   "outputs": [
    {
     "data": {
      "text/plain": [
       "2"
      ]
     },
     "execution_count": 69,
     "metadata": {},
     "output_type": "execute_result"
    }
   ],
   "source": [
    "params['max_depth']"
   ]
  },
  {
   "cell_type": "code",
   "execution_count": null,
   "metadata": {
    "collapsed": true
   },
   "outputs": [],
   "source": [
    "lgb_rgsr = return_lgb_model()\n",
    "\n",
    "param_test_max_bin = {\n",
    " 'max_bin':[1,5,10,20]\n",
    "}\n",
    "gsearch_max_bin = GridSearchCV(lgb_rgsr, param_grid = param_test_max_bin, scoring='mean_squared_error', n_jobs=4, iid=False, cv=5)\n",
    "gsearch_max_bin.fit(train_X,train_y)\n",
    "print(gsearch_max_bin.grid_scores_)\n",
    "print(\"Best parameter: {}, score: {}\".format(gsearch_max_bin.best_params_['max_depth'], gsearch_max_bin.best_score_))"
   ]
  },
  {
   "cell_type": "code",
   "execution_count": null,
   "metadata": {
    "collapsed": true
   },
   "outputs": [],
   "source": [
    "params['max_bin'] = gsearch_max_depth.best_params_['max_bin']"
   ]
  },
  {
   "cell_type": "code",
   "execution_count": null,
   "metadata": {
    "collapsed": true
   },
   "outputs": [],
   "source": [
    "'''lgb_rgsr = return_lgb_model()\n",
    "\n",
    "param_test_min_child_weight = {\n",
    " 'min_child_weight':range(10,17,1),\n",
    "}\n",
    "gsearch_param_test_min_child_weight = GridSearchCV(lgb_rgsr, param_grid = param_test_min_child_weight, scoring='mean_squared_error', n_jobs=4, iid=False, cv=5)\n",
    "gsearch_param_test_min_child_weight.fit(train_X,train_y)\n",
    "print(gsearch_param_test_min_child_weight.grid_scores_)\n",
    "print(\"Best parameter: {}, score: {}\".format(gsearch_param_test_min_child_weight.best_params_['min_child_weight'], gsearch_param_test_min_child_weight.best_score_))\n",
    "params['min_child_weight']=gsearch_param_test_min_child_weight.best_params_['min_child_weight']'''"
   ]
  },
  {
   "cell_type": "code",
   "execution_count": 78,
   "metadata": {},
   "outputs": [
    {
     "name": "stdout",
     "output_type": "stream",
     "text": [
      "[mean: -561288.39092, std: 166841.85201, params: {'colsample_bytree': 0.85, 'subsample': 0.73}, mean: -561288.39092, std: 166841.85201, params: {'colsample_bytree': 0.86, 'subsample': 0.73}, mean: -563057.34055, std: 166023.02970, params: {'colsample_bytree': 0.87, 'subsample': 0.73}]\n",
      "Best subsample: 0.73, colsample_bytree: 0.85, score: -561288.3909247871\n"
     ]
    },
    {
     "name": "stderr",
     "output_type": "stream",
     "text": [
      "c:\\users\\sripan\\appdata\\local\\programs\\python\\python35\\lib\\site-packages\\sklearn\\model_selection\\_search.py:761: DeprecationWarning: The grid_scores_ attribute was deprecated in version 0.18 in favor of the more elaborate cv_results_ attribute. The grid_scores_ attribute will not be available from 0.20\n",
      "  DeprecationWarning)\n"
     ]
    }
   ],
   "source": [
    "lgb_rgsr = return_lgb_model()\n",
    "\n",
    "param_test_sample= {\n",
    " 'subsample': [0.73],\n",
    " 'colsample_bytree': [0.85,0.86,0.87]\n",
    "}\n",
    "gsearch_param_test_sample = GridSearchCV(lgb_rgsr, param_grid = param_test_sample, scoring='mean_squared_error', n_jobs=4, iid=False, cv=5)\n",
    "gsearch_param_test_sample.fit(train_X,train_y)\n",
    "print(gsearch_param_test_sample.grid_scores_)\n",
    "print(\"Best subsample: {}, colsample_bytree: {}, score: {}\".format(gsearch_param_test_sample.best_params_['subsample'],gsearch_param_test_sample.best_params_['colsample_bytree'], gsearch_param_test_sample.best_score_))"
   ]
  },
  {
   "cell_type": "code",
   "execution_count": 79,
   "metadata": {
    "collapsed": true
   },
   "outputs": [],
   "source": [
    "params['subsample']=gsearch_param_test_sample.best_params_['subsample']\n",
    "params['colsample_bytree']=gsearch_param_test_sample.best_params_['colsample_bytree']"
   ]
  },
  {
   "cell_type": "code",
   "execution_count": 90,
   "metadata": {},
   "outputs": [
    {
     "data": {
      "text/plain": [
       "(0.73, 0.85)"
      ]
     },
     "execution_count": 90,
     "metadata": {},
     "output_type": "execute_result"
    }
   ],
   "source": [
    "params['subsample'],params['colsample_bytree']"
   ]
  },
  {
   "cell_type": "code",
   "execution_count": 87,
   "metadata": {},
   "outputs": [
    {
     "name": "stdout",
     "output_type": "stream",
     "text": [
      "[mean: -561293.62825, std: 166842.47476, params: {'reg_alpha': 0.001, 'reg_lambda': 0.01}, mean: -561081.88325, std: 166740.87742, params: {'reg_alpha': 0.001, 'reg_lambda': 0.02}, mean: -561092.41697, std: 166742.14829, params: {'reg_alpha': 0.001, 'reg_lambda': 0.04}, mean: -561087.15025, std: 166741.51257, params: {'reg_alpha': 0.001, 'reg_lambda': 0.03}]\n",
      "Best reg_alpha: 0.001, reg_lambda: 0.02, score: -561081.8832473827\n"
     ]
    },
    {
     "name": "stderr",
     "output_type": "stream",
     "text": [
      "c:\\users\\sripan\\appdata\\local\\programs\\python\\python35\\lib\\site-packages\\sklearn\\model_selection\\_search.py:761: DeprecationWarning: The grid_scores_ attribute was deprecated in version 0.18 in favor of the more elaborate cv_results_ attribute. The grid_scores_ attribute will not be available from 0.20\n",
      "  DeprecationWarning)\n"
     ]
    }
   ],
   "source": [
    "lgbclf = return_lgb_model()\n",
    "param_test_regularizer = {\n",
    "    'reg_alpha' : [0.001],\n",
    "    'reg_lambda' : [0.01,0.02,0.04,0.03]\n",
    "}\n",
    "gsearch_regularizer = GridSearchCV(lgbclf, param_grid = param_test_regularizer, scoring='mean_squared_error', n_jobs=4, iid=False, cv=5)\n",
    "gsearch_regularizer.fit(train_X,train_y)\n",
    "print(gsearch_regularizer.grid_scores_ )\n",
    "print(\"Best reg_alpha: {}, reg_lambda: {}, score: {}\".format(gsearch_regularizer.best_params_['reg_alpha'],gsearch_regularizer.best_params_['reg_lambda'], gsearch_regularizer.best_score_))"
   ]
  },
  {
   "cell_type": "code",
   "execution_count": 88,
   "metadata": {
    "collapsed": true
   },
   "outputs": [],
   "source": [
    "params['reg_alpha']=gsearch_regularizer.best_params_['reg_alpha']\n",
    "params['reg_lambda']=gsearch_regularizer.best_params_['reg_lambda']"
   ]
  },
  {
   "cell_type": "code",
   "execution_count": 89,
   "metadata": {},
   "outputs": [
    {
     "data": {
      "text/plain": [
       "(0.001, 0.02)"
      ]
     },
     "execution_count": 89,
     "metadata": {},
     "output_type": "execute_result"
    }
   ],
   "source": [
    "params['reg_alpha'],params['reg_lambda']"
   ]
  },
  {
   "cell_type": "code",
   "execution_count": 96,
   "metadata": {
    "collapsed": true
   },
   "outputs": [],
   "source": [
    "params['learning_rate'] = 0.005"
   ]
  },
  {
   "cell_type": "code",
   "execution_count": 97,
   "metadata": {},
   "outputs": [
    {
     "data": {
      "text/plain": [
       "0.005"
      ]
     },
     "execution_count": 97,
     "metadata": {},
     "output_type": "execute_result"
    }
   ],
   "source": [
    "params['learning_rate']"
   ]
  },
  {
   "cell_type": "code",
   "execution_count": 98,
   "metadata": {
    "scrolled": true
   },
   "outputs": [
    {
     "name": "stdout",
     "output_type": "stream",
     "text": [
      "Model building..\n",
      "Running model: LGB\n",
      "1675 419\n",
      "Training until validation scores don't improve for 100 rounds.\n",
      "[100]\tdev's rmse: 822.194\tval's rmse: 785.556\n"
     ]
    },
    {
     "name": "stderr",
     "output_type": "stream",
     "text": [
      "c:\\users\\sripan\\appdata\\local\\programs\\python\\python35\\lib\\site-packages\\lightgbm\\basic.py:644: UserWarning: silent keyword has been found in `params` and will be ignored. Please use silent argument of the Dataset constructor to pass this parameter.\n",
      "  'Please use {0} argument of the Dataset constructor to pass this parameter.'.format(key))\n"
     ]
    },
    {
     "name": "stdout",
     "output_type": "stream",
     "text": [
      "[200]\tdev's rmse: 713.758\tval's rmse: 712.643\n",
      "[300]\tdev's rmse: 649.334\tval's rmse: 682.728\n",
      "[400]\tdev's rmse: 607.605\tval's rmse: 669.334\n",
      "[500]\tdev's rmse: 576.943\tval's rmse: 662.161\n",
      "[600]\tdev's rmse: 551.744\tval's rmse: 655.01\n",
      "[700]\tdev's rmse: 531.786\tval's rmse: 651.708\n",
      "[800]\tdev's rmse: 515.025\tval's rmse: 651.983\n",
      "[900]\tdev's rmse: 499.772\tval's rmse: 651.115\n",
      "Early stopping, best iteration is:\n",
      "[870]\tdev's rmse: 504.007\tval's rmse: 650.689\n",
      "1675 419\n",
      "Training until validation scores don't improve for 100 rounds.\n",
      "[100]\tdev's rmse: 810.511\tval's rmse: 848.544\n",
      "[200]\tdev's rmse: 699.133\tval's rmse: 782.877\n",
      "[300]\tdev's rmse: 634.801\tval's rmse: 755.599\n",
      "[400]\tdev's rmse: 591.021\tval's rmse: 744.097\n",
      "[500]\tdev's rmse: 558.59\tval's rmse: 738.436\n",
      "[600]\tdev's rmse: 535.366\tval's rmse: 736.078\n",
      "[700]\tdev's rmse: 516.636\tval's rmse: 732.556\n",
      "[800]\tdev's rmse: 498.547\tval's rmse: 731.384\n",
      "[900]\tdev's rmse: 482.891\tval's rmse: 729.664\n",
      "[1000]\tdev's rmse: 469.562\tval's rmse: 729.603\n",
      "Early stopping, best iteration is:\n",
      "[970]\tdev's rmse: 473.309\tval's rmse: 729.408\n",
      "1675 419\n",
      "Training until validation scores don't improve for 100 rounds.\n",
      "[100]\tdev's rmse: 771.818\tval's rmse: 1008.01\n",
      "[200]\tdev's rmse: 664.953\tval's rmse: 931.651\n",
      "[300]\tdev's rmse: 600.721\tval's rmse: 899.608\n",
      "[400]\tdev's rmse: 557.765\tval's rmse: 885.91\n",
      "[500]\tdev's rmse: 525.755\tval's rmse: 876.793\n",
      "[600]\tdev's rmse: 498.719\tval's rmse: 870.113\n",
      "[700]\tdev's rmse: 475.486\tval's rmse: 865.399\n",
      "[800]\tdev's rmse: 455.43\tval's rmse: 862.701\n",
      "[900]\tdev's rmse: 437.812\tval's rmse: 859.79\n",
      "[1000]\tdev's rmse: 421.985\tval's rmse: 859.07\n",
      "[1100]\tdev's rmse: 406.477\tval's rmse: 858.712\n",
      "[1200]\tdev's rmse: 391.353\tval's rmse: 858.123\n",
      "Early stopping, best iteration is:\n",
      "[1190]\tdev's rmse: 392.804\tval's rmse: 858.018\n",
      "1675 419\n",
      "Training until validation scores don't improve for 100 rounds.\n",
      "[100]\tdev's rmse: 833.226\tval's rmse: 735.433\n",
      "[200]\tdev's rmse: 725.553\tval's rmse: 663.602\n",
      "[300]\tdev's rmse: 661.474\tval's rmse: 637.517\n",
      "[400]\tdev's rmse: 617.769\tval's rmse: 629.974\n",
      "[500]\tdev's rmse: 584.365\tval's rmse: 627.356\n",
      "[600]\tdev's rmse: 556.661\tval's rmse: 627.008\n",
      "Early stopping, best iteration is:\n",
      "[529]\tdev's rmse: 575.412\tval's rmse: 626.386\n",
      "1676 418\n",
      "Training until validation scores don't improve for 100 rounds.\n",
      "[100]\tdev's rmse: 818.798\tval's rmse: 828.537\n",
      "[200]\tdev's rmse: 714.593\tval's rmse: 742.73\n",
      "[300]\tdev's rmse: 650.85\tval's rmse: 701.889\n",
      "[400]\tdev's rmse: 608.704\tval's rmse: 684.206\n",
      "[500]\tdev's rmse: 574.629\tval's rmse: 676.178\n",
      "[600]\tdev's rmse: 548.741\tval's rmse: 669.639\n",
      "[700]\tdev's rmse: 528.081\tval's rmse: 668.296\n",
      "[800]\tdev's rmse: 510.591\tval's rmse: 668.194\n",
      "Early stopping, best iteration is:\n",
      "[773]\tdev's rmse: 515.018\tval's rmse: 667.992\n",
      "[650.68886267491519, 729.40837461205206, 858.01797831376575, 626.38615721207373, 667.99197981688053]\n",
      "711.385012491\n"
     ]
    }
   ],
   "source": [
    "model_names = ['LGB']\n",
    "print(\"Model building..\")\n",
    "kf = KFold(n_splits=5, shuffle=True, random_state=2018)\n",
    "cv_scores = []\n",
    "pred_test_full = 0\n",
    "pred_val_full = np.zeros(train_X.shape[0])\n",
    "for model_name in model_names:\n",
    "    print(\"Running model: {}\".format(model_name))\n",
    "    for dev_index, val_index in kf.split(train_X):\n",
    "        print(len(dev_index), len(val_index))\n",
    "        dev_X, val_X = train_X.iloc[dev_index,:], train_X.iloc[val_index,:]\n",
    "        dev_y, val_y = train_y[dev_index], train_y[val_index]\n",
    "        if model_name == \"XGB\":\n",
    "            pred_val_y, score, pred_test_y = runXGB(dev_X, dev_y, val_X, val_y, rounds=7000)\n",
    "        elif model_name == \"LGB\":\n",
    "            pred_val_y, score, pred_test_y = runLGB(dev_X, dev_y, val_X, val_y, test_X = test_X, params = params, rounds=7000)\n",
    "        pred_val_full[val_index] = pred_val_y\n",
    "        pred_test_full = pred_test_full + pred_test_y\n",
    "        cv_scores.append(np.sqrt(score))\n",
    "    print(cv_scores)\n",
    "    pred_test_full /= 5.\n",
    "    test['kda_ratio'] = pred_test_full\n",
    "    print(np.sqrt(metrics.mean_squared_error(train_y, pred_val_full)))"
   ]
  },
  {
   "cell_type": "code",
   "execution_count": 108,
   "metadata": {},
   "outputs": [
    {
     "data": {
      "text/plain": [
       "((2094, 42), (2094, 1), (898, 42))"
      ]
     },
     "execution_count": 108,
     "metadata": {},
     "output_type": "execute_result"
    }
   ],
   "source": [
    "train_X.shape,train_y.shape,test_X.shape"
   ]
  },
  {
   "cell_type": "code",
   "execution_count": 150,
   "metadata": {},
   "outputs": [
    {
     "name": "stdout",
     "output_type": "stream",
     "text": [
      "Model building..\n",
      "Running model: LGB\n",
      "1675 419\n"
     ]
    },
    {
     "name": "stderr",
     "output_type": "stream",
     "text": [
      "c:\\users\\sripan\\appdata\\local\\programs\\python\\python35\\lib\\site-packages\\lightgbm\\basic.py:644: UserWarning: silent keyword has been found in `params` and will be ignored. Please use silent argument of the Dataset constructor to pass this parameter.\n",
      "  'Please use {0} argument of the Dataset constructor to pass this parameter.'.format(key))\n"
     ]
    },
    {
     "name": "stdout",
     "output_type": "stream",
     "text": [
      "Training until validation scores don't improve for 100 rounds.\n",
      "[100]\tdev's rmse: 822.225\tval's rmse: 787.815\n",
      "[200]\tdev's rmse: 712.442\tval's rmse: 713.802\n",
      "[300]\tdev's rmse: 646.933\tval's rmse: 686.273\n",
      "[400]\tdev's rmse: 602.633\tval's rmse: 675.515\n",
      "[500]\tdev's rmse: 569.679\tval's rmse: 669.908\n",
      "[600]\tdev's rmse: 541.625\tval's rmse: 663.177\n",
      "[700]\tdev's rmse: 520.542\tval's rmse: 655.525\n",
      "[800]\tdev's rmse: 502.544\tval's rmse: 652.902\n",
      "[900]\tdev's rmse: 485.907\tval's rmse: 650.391\n",
      "[1000]\tdev's rmse: 471.523\tval's rmse: 649.753\n",
      "Early stopping, best iteration is:\n",
      "[967]\tdev's rmse: 476.021\tval's rmse: 649.571\n",
      "1675 419\n",
      "Training until validation scores don't improve for 100 rounds.\n",
      "[100]\tdev's rmse: 810.542\tval's rmse: 850.548\n",
      "[200]\tdev's rmse: 696.902\tval's rmse: 786.461\n",
      "[300]\tdev's rmse: 630.768\tval's rmse: 760.161\n",
      "[400]\tdev's rmse: 585.378\tval's rmse: 746.949\n",
      "[500]\tdev's rmse: 550.347\tval's rmse: 742.225\n",
      "[600]\tdev's rmse: 523.614\tval's rmse: 738.358\n",
      "[700]\tdev's rmse: 502.548\tval's rmse: 733.644\n",
      "[800]\tdev's rmse: 484.357\tval's rmse: 730.782\n",
      "[900]\tdev's rmse: 468.342\tval's rmse: 729.401\n",
      "[1000]\tdev's rmse: 453.446\tval's rmse: 728.572\n",
      "[1100]\tdev's rmse: 440.276\tval's rmse: 728.025\n",
      "Early stopping, best iteration is:\n",
      "[1091]\tdev's rmse: 441.394\tval's rmse: 727.914\n",
      "1675 419\n",
      "Training until validation scores don't improve for 100 rounds.\n",
      "[100]\tdev's rmse: 771.659\tval's rmse: 1008.85\n",
      "[200]\tdev's rmse: 662.816\tval's rmse: 935.085\n",
      "[300]\tdev's rmse: 595.532\tval's rmse: 903.518\n",
      "[400]\tdev's rmse: 549.589\tval's rmse: 887.566\n",
      "[500]\tdev's rmse: 516.021\tval's rmse: 878.638\n",
      "[600]\tdev's rmse: 486.539\tval's rmse: 871.884\n",
      "[700]\tdev's rmse: 461.028\tval's rmse: 869.369\n",
      "[800]\tdev's rmse: 439.769\tval's rmse: 869.541\n",
      "Early stopping, best iteration is:\n",
      "[720]\tdev's rmse: 456.536\tval's rmse: 868.945\n",
      "1675 419\n",
      "Training until validation scores don't improve for 100 rounds.\n",
      "[100]\tdev's rmse: 833.258\tval's rmse: 737.47\n",
      "[200]\tdev's rmse: 725.316\tval's rmse: 666.278\n",
      "[300]\tdev's rmse: 659.632\tval's rmse: 642.524\n",
      "[400]\tdev's rmse: 613.736\tval's rmse: 634.754\n",
      "[500]\tdev's rmse: 577.761\tval's rmse: 632.29\n",
      "[600]\tdev's rmse: 548.122\tval's rmse: 630.338\n",
      "[700]\tdev's rmse: 524.213\tval's rmse: 632.051\n",
      "Early stopping, best iteration is:\n",
      "[610]\tdev's rmse: 545.498\tval's rmse: 630.142\n",
      "1676 418\n",
      "Training until validation scores don't improve for 100 rounds.\n",
      "[100]\tdev's rmse: 818.918\tval's rmse: 830.054\n",
      "[200]\tdev's rmse: 713.002\tval's rmse: 741.929\n",
      "[300]\tdev's rmse: 648.192\tval's rmse: 699.657\n",
      "[400]\tdev's rmse: 604.494\tval's rmse: 680.395\n",
      "[500]\tdev's rmse: 568.733\tval's rmse: 668.243\n",
      "[600]\tdev's rmse: 541.461\tval's rmse: 662.236\n",
      "[700]\tdev's rmse: 519.174\tval's rmse: 662.238\n",
      "Early stopping, best iteration is:\n",
      "[659]\tdev's rmse: 527.9\tval's rmse: 661.921\n",
      "[649.57101585858152, 727.91350766104347, 868.94512892992077, 630.14185830690064, 661.92055243554398]\n",
      "713.05702487\n"
     ]
    },
    {
     "name": "stderr",
     "output_type": "stream",
     "text": [
      "c:\\users\\sripan\\appdata\\local\\programs\\python\\python35\\lib\\site-packages\\ipykernel_launcher.py:22: SettingWithCopyWarning: \n",
      "A value is trying to be set on a copy of a slice from a DataFrame.\n",
      "Try using .loc[row_indexer,col_indexer] = value instead\n",
      "\n",
      "See the caveats in the documentation: http://pandas.pydata.org/pandas-docs/stable/indexing.html#indexing-view-versus-copy\n"
     ]
    }
   ],
   "source": [
    "model_names = ['LGB']\n",
    "print(\"Model building..\")\n",
    "kf = KFold(n_splits=5, shuffle=True, random_state=2018)\n",
    "cv_scores = []\n",
    "pred_test_full = 0\n",
    "pred_val_full = np.zeros(train_X.shape[0])\n",
    "for model_name in model_names:\n",
    "    print(\"Running model: {}\".format(model_name))\n",
    "    for dev_index, val_index in kf.split(train_X):\n",
    "        print(len(dev_index), len(val_index))\n",
    "        dev_X, val_X = train_X.iloc[dev_index,:], train_X.iloc[val_index,:]\n",
    "        dev_y, val_y = train_y[dev_index], train_y[val_index]\n",
    "        if model_name == \"XGB\":\n",
    "            pred_val_y, score, pred_test_y = runXGB(dev_X, dev_y, val_X, val_y, test_X = test_X, params = params rounds=7000)\n",
    "        elif model_name == \"LGB\":\n",
    "            pred_val_y, score, pred_test_y = runLGB(dev_X, dev_y, val_X, val_y, test_X = test_X, params = params, rounds=7000)\n",
    "        pred_val_full[val_index] = pred_val_y\n",
    "        pred_test_full = pred_test_full + pred_test_y\n",
    "        cv_scores.append(np.sqrt(score))\n",
    "    print(cv_scores)\n",
    "    pred_test_full /= 5.\n",
    "    test['kda_ratio'] = pred_test_full\n",
    "    print(np.sqrt(metrics.mean_squared_error(train_y, pred_val_full)))"
   ]
  },
  {
   "cell_type": "code",
   "execution_count": 105,
   "metadata": {},
   "outputs": [
    {
     "name": "stderr",
     "output_type": "stream",
     "text": [
      "c:\\users\\sripan\\appdata\\local\\programs\\python\\python35\\lib\\site-packages\\ipykernel_launcher.py:1: SettingWithCopyWarning: \n",
      "A value is trying to be set on a copy of a slice from a DataFrame.\n",
      "Try using .loc[row_indexer,col_indexer] = value instead\n",
      "\n",
      "See the caveats in the documentation: http://pandas.pydata.org/pandas-docs/stable/indexing.html#indexing-view-versus-copy\n",
      "  \"\"\"Entry point for launching an IPython kernel.\n"
     ]
    }
   ],
   "source": [
    "test['kda_ratio'] = pred_test_full\n",
    "test.loc[:,['hero_id','kda_ratio']].to_csv('Output/lgbm.csv',header=True,sep=',')"
   ]
  },
  {
   "cell_type": "code",
   "execution_count": 166,
   "metadata": {
    "collapsed": true
   },
   "outputs": [],
   "source": [
    "def runXGB(dev_X, dev_y, val_X, val_y=None, test_X=None, params=None, rounds=5000, variableImportance=False):\n",
    "    if params is None:\n",
    "        params = {'objective': 'reg:linear',\n",
    "                  'eval_metric':'rmse',\n",
    "                  'eta':0.1, \n",
    "                  'max_depth':5, \n",
    "                  'silent': 1,\n",
    "                  'min_child_weight':1,\n",
    "                  'subsample':0.8, \n",
    "                  'colsample_bytree':0.8,\n",
    "                  'seed':2018, \n",
    "                  }\n",
    "    num_rounds = rounds\n",
    "    xg_dev = xgb.DMatrix(dev_X, label=dev_y)\n",
    "\n",
    "    if val_y is not None:\n",
    "        xg_val = xgb.DMatrix(val_X, label=val_y)\n",
    "        watchlist = [ (xg_dev,'dev'), (xg_val, 'val') ]\n",
    "        model = xgb.train(params, xg_dev, num_rounds, watchlist, early_stopping_rounds=100, verbose_eval=20)\n",
    "    else:\n",
    "        xg_val = xgb.DMatrix(val_X)\n",
    "        model = xgb.train(params, xg_dev, num_rounds)\n",
    "\n",
    "    if variableImportance:\n",
    "        xgb.plot_importance(model)\n",
    "        plt.show()\n",
    "    \n",
    "    pred_val_y = model.predict(xg_val, ntree_limit=model.best_ntree_limit)\n",
    "    \n",
    "    if test_X is not None:\n",
    "        pred_test_y = model.predict(xgb.DMatrix(test_X), ntree_limit=model.best_ntree_limit)\n",
    "    else: \n",
    "        pred_test_y = np.nan\n",
    "    \n",
    "    score = 0\n",
    "    if val_y is not None:\n",
    "        score =  metrics.mean_squared_error(val_y, pred_val_y)\n",
    "        return pred_val_y, score, pred_test_y\n",
    "    else:\n",
    "        return pred_val_y, score, pred_test_y"
   ]
  },
  {
   "cell_type": "code",
   "execution_count": 160,
   "metadata": {},
   "outputs": [
    {
     "name": "stdout",
     "output_type": "stream",
     "text": [
      "[0]\tdev-rmse:3335.2\tval-rmse:3358.67\n",
      "Multiple eval metrics have been passed: 'val-rmse' will be used for early stopping.\n",
      "\n",
      "Will train until val-rmse hasn't improved in 100 rounds.\n",
      "[20]\tdev-rmse:716.878\tval-rmse:778.483\n",
      "[40]\tdev-rmse:512.618\tval-rmse:655.157\n",
      "[60]\tdev-rmse:455.637\tval-rmse:639.149\n",
      "[80]\tdev-rmse:407.38\tval-rmse:636.042\n",
      "[100]\tdev-rmse:370.875\tval-rmse:629.992\n",
      "[120]\tdev-rmse:335.92\tval-rmse:632.499\n",
      "[140]\tdev-rmse:305.042\tval-rmse:633.906\n",
      "[160]\tdev-rmse:274.311\tval-rmse:639.424\n",
      "[180]\tdev-rmse:252.053\tval-rmse:640.213\n",
      "[200]\tdev-rmse:226.146\tval-rmse:645.243\n",
      "Stopping. Best iteration:\n",
      "[102]\tdev-rmse:367.173\tval-rmse:629.389\n",
      "\n"
     ]
    },
    {
     "data": {
      "image/png": "[encoded data removed]",
      "text/plain": [
       "<matplotlib.figure.Figure at 0x48ebb38>"
      ]
     },
     "metadata": {},
     "output_type": "display_data"
    },
    {
     "name": "stdout",
     "output_type": "stream",
     "text": [
      "Score:396130.19555362384\n"
     ]
    }
   ],
   "source": [
    "dev_X, val_X, dev_y, val_y = train_test_split(train_X,train_y,test_size = 0.2, random_state = 2018)\n",
    "pred_val_y, score, pred_test_y = runXGB(dev_X, dev_y, val_X, val_y, rounds=5000, training= True,variableImportance=True)\n",
    "print('Score:{}'.format(score))"
   ]
  },
  {
   "cell_type": "code",
   "execution_count": 191,
   "metadata": {
    "collapsed": true
   },
   "outputs": [],
   "source": [
    "params = {\n",
    "            'max_depth':5, \n",
    "            'learning_rate':0.1, \n",
    "            'n_estimators':100, \n",
    "            'silent':True, \n",
    "            'objective':'reg:linear', \n",
    "            'booster':'gbtree', \n",
    "            'n_jobs':1, \n",
    "            'nthread':-1, \n",
    "            'gamma':0, \n",
    "            'min_child_weight':1, \n",
    "            'max_delta_step':0, \n",
    "            'subsample':0.8, \n",
    "            'colsample_bytree':0.8, \n",
    "            'colsample_bylevel':1, \n",
    "            'reg_alpha':0, \n",
    "            'reg_lambda':1, \n",
    "            'scale_pos_weight':1, \n",
    "            'base_score':0.5, \n",
    "            'random_state':2018, \n",
    "            'seed':2018, \n",
    "            'missing':0\n",
    "    }\n",
    "\n",
    "def return_xgb_model():\n",
    "    xgb_model = xgb.XGBRegressor(max_depth= params['max_depth'],learning_rate = params['learning_rate'],\n",
    "                                n_estimators = params['n_estimators'],silent =  params['silent'],\n",
    "                                objective = params['objective'],booster = params['booster'],\n",
    "                                n_jobs = params['n_jobs'],nthread = params['nthread'],\n",
    "                                gamma = params['gamma'],min_child_weight = params['min_child_weight'],\n",
    "                                max_delta_step = params['max_delta_step'],subsample = params['subsample'],\n",
    "                                colsample_bytree = params['colsample_bytree'],\n",
    "                                colsample_bylevel = params['colsample_bylevel'],reg_alpha = params['reg_alpha'],\n",
    "                                reg_lambda = params['reg_lambda'],scale_pos_weight = params['scale_pos_weight'],\n",
    "                                base_score = params['base_score'],random_state = params['random_state'],\n",
    "                                seed = params['seed'],missing = params['missing'])\n",
    "    return xgb_model"
   ]
  },
  {
   "cell_type": "code",
   "execution_count": 188,
   "metadata": {
    "collapsed": true
   },
   "outputs": [],
   "source": [
    "params['n_estimators']=102"
   ]
  },
  {
   "cell_type": "code",
   "execution_count": 164,
   "metadata": {},
   "outputs": [
    {
     "name": "stdout",
     "output_type": "stream",
     "text": [
      "[mean: -461816.13741, std: 149955.62102, params: {'max_depth': 3}, mean: -456480.43391, std: 154201.18998, params: {'max_depth': 4}, mean: -468528.69259, std: 150749.10108, params: {'max_depth': 5}, mean: -484124.33266, std: 149789.20063, params: {'max_depth': 6}, mean: -496773.81090, std: 143205.46996, params: {'max_depth': 7}]\n",
      "Best parameter: 4, score: -456480.43391208956\n"
     ]
    },
    {
     "name": "stderr",
     "output_type": "stream",
     "text": [
      "c:\\users\\sripan\\appdata\\local\\programs\\python\\python35\\lib\\site-packages\\sklearn\\model_selection\\_search.py:761: DeprecationWarning: The grid_scores_ attribute was deprecated in version 0.18 in favor of the more elaborate cv_results_ attribute. The grid_scores_ attribute will not be available from 0.20\n",
      "  DeprecationWarning)\n"
     ]
    }
   ],
   "source": [
    "xgb_rgsr = return_xgb_model()\n",
    "\n",
    "param_test_max_depth = {\n",
    "    'max_depth':range(3,8,1),\n",
    "}\n",
    "gsearch_max_depth = GridSearchCV(xgb_rgsr, param_grid = param_test_max_depth, scoring='mean_squared_error', n_jobs=4, iid=False, cv=5)\n",
    "gsearch_max_depth.fit(train_X,train_y)\n",
    "print(gsearch_max_depth.grid_scores_)\n",
    "print(\"Best parameter: {}, score: {}\".format(gsearch_max_depth.best_params_['max_depth'], gsearch_max_depth.best_score_))"
   ]
  },
  {
   "cell_type": "code",
   "execution_count": 189,
   "metadata": {
    "collapsed": true
   },
   "outputs": [],
   "source": [
    "params['max_depth']=gsearch_max_depth.best_params_['max_depth']"
   ]
  },
  {
   "cell_type": "code",
   "execution_count": 192,
   "metadata": {
    "scrolled": true
   },
   "outputs": [
    {
     "name": "stdout",
     "output_type": "stream",
     "text": [
      "Model building..\n",
      "Running model: XGB\n",
      "1675 419\n",
      "[0]\tdev-rmse:3333.66\tval-rmse:3358.09\n",
      "Multiple eval metrics have been passed: 'val-rmse' will be used for early stopping.\n",
      "\n",
      "Will train until val-rmse hasn't improved in 100 rounds.\n",
      "[20]\tdev-rmse:725.62\tval-rmse:767.052\n",
      "[40]\tdev-rmse:510.41\tval-rmse:643.47\n",
      "[60]\tdev-rmse:458.506\tval-rmse:632.273\n",
      "[80]\tdev-rmse:407.365\tval-rmse:631.999\n",
      "[100]\tdev-rmse:367.846\tval-rmse:632.118\n",
      "[120]\tdev-rmse:337.89\tval-rmse:636.634\n",
      "[140]\tdev-rmse:304.542\tval-rmse:637.175\n",
      "[160]\tdev-rmse:275.328\tval-rmse:637.602\n",
      "[180]\tdev-rmse:250.546\tval-rmse:639.4\n",
      "Stopping. Best iteration:\n",
      "[88]\tdev-rmse:391.252\tval-rmse:629.254\n",
      "\n",
      "1675 419\n",
      "[0]\tdev-rmse:3335.02\tval-rmse:3359.86\n",
      "Multiple eval metrics have been passed: 'val-rmse' will be used for early stopping.\n",
      "\n",
      "Will train until val-rmse hasn't improved in 100 rounds.\n",
      "[20]\tdev-rmse:706.801\tval-rmse:834.256\n",
      "[40]\tdev-rmse:498.509\tval-rmse:702.105\n",
      "[60]\tdev-rmse:456.975\tval-rmse:691.845\n",
      "[80]\tdev-rmse:408.927\tval-rmse:691.984\n",
      "[100]\tdev-rmse:371.091\tval-rmse:693.102\n",
      "[120]\tdev-rmse:337.983\tval-rmse:696.298\n",
      "[140]\tdev-rmse:305.885\tval-rmse:697.364\n",
      "[160]\tdev-rmse:277.338\tval-rmse:700.214\n",
      "Stopping. Best iteration:\n",
      "[73]\tdev-rmse:423.667\tval-rmse:689.828\n",
      "\n",
      "1675 419\n",
      "[0]\tdev-rmse:3330.58\tval-rmse:3387.09\n",
      "Multiple eval metrics have been passed: 'val-rmse' will be used for early stopping.\n",
      "\n",
      "Will train until val-rmse hasn't improved in 100 rounds.\n",
      "[20]\tdev-rmse:689.721\tval-rmse:1006.57\n",
      "[40]\tdev-rmse:474.219\tval-rmse:891.996\n",
      "[60]\tdev-rmse:413.867\tval-rmse:886.134\n",
      "[80]\tdev-rmse:369.956\tval-rmse:880.009\n",
      "[100]\tdev-rmse:336.274\tval-rmse:876.836\n",
      "[120]\tdev-rmse:304.402\tval-rmse:877.249\n",
      "[140]\tdev-rmse:278.262\tval-rmse:880.042\n",
      "[160]\tdev-rmse:251.611\tval-rmse:880.708\n",
      "[180]\tdev-rmse:229.089\tval-rmse:883.178\n",
      "[200]\tdev-rmse:210.028\tval-rmse:886.669\n",
      "Stopping. Best iteration:\n",
      "[107]\tdev-rmse:324.299\tval-rmse:875.65\n",
      "\n",
      "1675 419\n",
      "[0]\tdev-rmse:3357.03\tval-rmse:3274.39\n",
      "Multiple eval metrics have been passed: 'val-rmse' will be used for early stopping.\n",
      "\n",
      "Will train until val-rmse hasn't improved in 100 rounds.\n",
      "[20]\tdev-rmse:727.218\tval-rmse:728.972\n",
      "[40]\tdev-rmse:510.769\tval-rmse:596.849\n",
      "[60]\tdev-rmse:454.62\tval-rmse:596.642\n",
      "[80]\tdev-rmse:413.797\tval-rmse:603.707\n",
      "[100]\tdev-rmse:366.501\tval-rmse:605.47\n",
      "[120]\tdev-rmse:333.362\tval-rmse:605.944\n",
      "[140]\tdev-rmse:297.737\tval-rmse:608.179\n",
      "Stopping. Best iteration:\n",
      "[46]\tdev-rmse:490.777\tval-rmse:594.318\n",
      "\n",
      "1676 418\n",
      "[0]\tdev-rmse:3344.48\tval-rmse:3323.75\n",
      "Multiple eval metrics have been passed: 'val-rmse' will be used for early stopping.\n",
      "\n",
      "Will train until val-rmse hasn't improved in 100 rounds.\n",
      "[20]\tdev-rmse:718.287\tval-rmse:823.44\n",
      "[40]\tdev-rmse:496.852\tval-rmse:682.277\n",
      "[60]\tdev-rmse:448.237\tval-rmse:669.855\n",
      "[80]\tdev-rmse:392.466\tval-rmse:670.595\n",
      "[100]\tdev-rmse:350.295\tval-rmse:675.871\n",
      "[120]\tdev-rmse:314.52\tval-rmse:678.794\n",
      "[140]\tdev-rmse:284.622\tval-rmse:682.191\n",
      "[160]\tdev-rmse:259.758\tval-rmse:684.169\n",
      "Stopping. Best iteration:\n",
      "[68]\tdev-rmse:422.325\tval-rmse:668.996\n",
      "\n",
      "[629.25438621011483, 689.82819975465702, 875.65045792974649, 594.31774905225802, 668.99643235280507]\n",
      "698.491779389\n"
     ]
    },
    {
     "name": "stderr",
     "output_type": "stream",
     "text": [
      "c:\\users\\sripan\\appdata\\local\\programs\\python\\python35\\lib\\site-packages\\ipykernel_launcher.py:22: SettingWithCopyWarning: \n",
      "A value is trying to be set on a copy of a slice from a DataFrame.\n",
      "Try using .loc[row_indexer,col_indexer] = value instead\n",
      "\n",
      "See the caveats in the documentation: http://pandas.pydata.org/pandas-docs/stable/indexing.html#indexing-view-versus-copy\n"
     ]
    }
   ],
   "source": [
    "model_names = ['XGB']\n",
    "print(\"Model building..\")\n",
    "kf = KFold(n_splits=5, shuffle=True, random_state=2018)\n",
    "cv_scores = []\n",
    "pred_test_full = 0\n",
    "pred_val_full = np.zeros(train_X.shape[0])\n",
    "for model_name in model_names:\n",
    "    print(\"Running model: {}\".format(model_name))\n",
    "    for dev_index, val_index in kf.split(train_X):\n",
    "        print(len(dev_index), len(val_index))\n",
    "        dev_X, val_X = train_X.iloc[dev_index,:], train_X.iloc[val_index,:]\n",
    "        dev_y, val_y = train_y[dev_index], train_y[val_index]\n",
    "        if model_name == \"XGB\":\n",
    "            pred_val_y, score, pred_test_y = runXGB(dev_X, dev_y, val_X, val_y, test_X = test_X, params = params, rounds=7000)\n",
    "        elif model_name == \"LGB\":\n",
    "            pred_val_y, score, pred_test_y = runLGB(dev_X, dev_y, val_X, val_y, test_X = test_X, params = params, rounds=7000)\n",
    "        pred_val_full[val_index] = pred_val_y\n",
    "        pred_test_full = pred_test_full + pred_test_y\n",
    "        cv_scores.append(np.sqrt(score))\n",
    "    print(cv_scores)\n",
    "    pred_test_full /= 5.\n",
    "    test['kda_ratio'] = pred_test_full\n",
    "    print(np.sqrt(metrics.mean_squared_error(train_y, pred_val_full)))"
   ]
  }
 ],
 "metadata": {
  "kernelspec": {
   "display_name": "Python 3",
   "language": "python",
   "name": "python3"
  },
  "language_info": {
   "codemirror_mode": {
    "name": "ipython",
    "version": 3
   },
   "file_extension": ".py",
   "mimetype": "text/x-python",
   "name": "python",
   "nbconvert_exporter": "python",
   "pygments_lexer": "ipython3",
   "version": "3.5.3"
  }
 },
 "nbformat": 4,
 "nbformat_minor": 2
}
