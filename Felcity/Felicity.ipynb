{
 "cells": [
  {
   "cell_type": "code",
   "execution_count": 111,
   "metadata": {
    "collapsed": true
   },
   "outputs": [],
   "source": [
    "import pandas as pd\n",
    "import numpy as np\n",
    "import seaborn as sns\n",
    "import matplotlib.pyplot as plt\n",
    "import _pickle as pickle\n",
    "import xgboost as xgb\n",
    "import lightgbm as lgb\n",
    "from sklearn import preprocessing, metrics\n",
    "from sklearn.model_selection import KFold, StratifiedKFold, train_test_split, GridSearchCV, RandomizedSearchCV,cross_val_score\n",
    "from sklearn.ensemble import RandomForestRegressor, GradientBoostingRegressor\n",
    "from datetime import timedelta, date\n",
    "from dateutil import relativedelta\n",
    "from sklearn import preprocessing\n",
    "from sklearn.cluster import KMeans\n",
    "\n",
    "%matplotlib inline"
   ]
  },
  {
   "cell_type": "code",
   "execution_count": 112,
   "metadata": {},
   "outputs": [
    {
     "data": {
      "text/plain": [
       "Index(['hero_id', 'primary_attr', 'attack_type', 'roles', 'base_health',\n",
       "       'base_health_regen', 'base_mana', 'base_mana_regen', 'base_armor',\n",
       "       'base_magic_resistance', 'base_attack_min', 'base_attack_max',\n",
       "       'base_strength', 'base_agility', 'base_intelligence', 'strength_gain',\n",
       "       'agility_gain', 'intelligence_gain', 'attack_range', 'projectile_speed',\n",
       "       'attack_rate', 'move_speed', 'turn_rate'],\n",
       "      dtype='object')"
      ]
     },
     "execution_count": 112,
     "metadata": {},
     "output_type": "execute_result"
    }
   ],
   "source": [
    "data_hero=pd.read_csv('C:/MyData/hub_project/AVHack/Felicity/Input/hero_data.csv')\n",
    "data_hero.columns"
   ]
  },
  {
   "cell_type": "code",
   "execution_count": 113,
   "metadata": {
    "collapsed": true
   },
   "outputs": [],
   "source": [
    "mat=np.zeros(shape=(data_hero.shape[0],len(list(np.unique(np.array(':'.join(list(data_hero.roles)).split(':')))))))\n",
    "df_ft=pd.DataFrame(mat)\n",
    "df_ft.columns = list(np.unique(np.array(':'.join(list(data_hero.roles)).split(':'))))\n",
    "\n",
    "for element in df_ft.columns:\n",
    "    df_ft[element] = pd.np.where(data_hero.roles.str.contains(element),1,0)"
   ]
  },
  {
   "cell_type": "code",
   "execution_count": 114,
   "metadata": {},
   "outputs": [
    {
     "data": {
      "text/plain": [
       "Index(['hero_id', 'primary_attr', 'attack_type', 'roles', 'base_health',\n",
       "       'base_health_regen', 'base_mana', 'base_mana_regen', 'base_armor',\n",
       "       'base_magic_resistance', 'base_attack_min', 'base_attack_max',\n",
       "       'base_strength', 'base_agility', 'base_intelligence', 'strength_gain',\n",
       "       'agility_gain', 'intelligence_gain', 'attack_range', 'projectile_speed',\n",
       "       'attack_rate', 'move_speed', 'turn_rate', 'Carry', 'Disabler',\n",
       "       'Durable', 'Escape', 'Initiator', 'Jungler', 'Nuker', 'Pusher',\n",
       "       'Support'],\n",
       "      dtype='object')"
      ]
     },
     "execution_count": 114,
     "metadata": {},
     "output_type": "execute_result"
    }
   ],
   "source": [
    "data_hero_processed = pd.concat([data_hero,df_ft],axis=1)\n",
    "data_hero_processed.columns"
   ]
  },
  {
   "cell_type": "code",
   "execution_count": 115,
   "metadata": {},
   "outputs": [
    {
     "data": {
      "text/plain": [
       "Index(['hero_id', 'primary_attr', 'attack_type', 'base_health',\n",
       "       'base_health_regen', 'base_mana', 'base_mana_regen', 'base_armor',\n",
       "       'base_magic_resistance', 'base_attack_min', 'base_attack_max',\n",
       "       'base_strength', 'base_agility', 'base_intelligence', 'strength_gain',\n",
       "       'agility_gain', 'intelligence_gain', 'attack_range', 'projectile_speed',\n",
       "       'attack_rate', 'move_speed', 'turn_rate', 'Carry', 'Disabler',\n",
       "       'Durable', 'Escape', 'Initiator', 'Jungler', 'Nuker', 'Pusher',\n",
       "       'Support'],\n",
       "      dtype='object')"
      ]
     },
     "execution_count": 115,
     "metadata": {},
     "output_type": "execute_result"
    }
   ],
   "source": [
    "for c in ['primary_attr', 'attack_type']:\n",
    "    lbl = preprocessing.LabelEncoder()\n",
    "    lbl.fit(list(data_hero_processed[c].values.astype('str')))\n",
    "    data_hero_processed[c] = lbl.transform(list(data_hero_processed[c].values.astype('str')))\n",
    "data_hero_processed.drop(['roles'],axis=1,inplace=True)\n",
    "data_hero_processed.columns"
   ]
  },
  {
   "cell_type": "code",
   "execution_count": 116,
   "metadata": {},
   "outputs": [
    {
     "data": {
      "text/plain": [
       "True"
      ]
     },
     "execution_count": 116,
     "metadata": {},
     "output_type": "execute_result"
    }
   ],
   "source": [
    "data_hero_processed.shape[0] == data_hero.shape[0]"
   ]
  },
  {
   "cell_type": "code",
   "execution_count": 117,
   "metadata": {},
   "outputs": [
    {
     "data": {
      "image/png": "[encoded data removed]",
      "text/plain": [
       "<matplotlib.figure.Figure at 0x17b362b0>"
      ]
     },
     "metadata": {},
     "output_type": "display_data"
    }
   ],
   "source": [
    "all_possible_cluster = range(1, 20,1)\n",
    "kmeans = [KMeans(n_clusters=i) for i in all_possible_cluster]\n",
    "score = [kmeans[i].fit(data_hero_processed).score(data_hero_processed) for i in range(len(kmeans))]\n",
    "\n",
    "plt.plot(all_possible_cluster,score)\n",
    "plt.xlabel('Number of Clusters')\n",
    "plt.ylabel('Score')\n",
    "plt.title('Elbow Curve')\n",
    "plt.show()"
   ]
  },
  {
   "cell_type": "code",
   "execution_count": 118,
   "metadata": {},
   "outputs": [
    {
     "data": {
      "text/plain": [
       "array([3, 1, 0, 1, 0, 0, 3, 3, 0, 0, 0, 1, 0, 3, 2, 1, 0, 3, 1, 0, 0, 0, 1,\n",
       "       0, 0, 0, 3, 1, 0, 0, 1, 0, 0, 2, 0, 0, 3, 0, 0, 1, 3, 0, 1, 0, 1, 0,\n",
       "       1, 1, 0, 1, 0, 0, 1, 1, 0, 1, 0, 0, 1, 1, 1, 0, 0, 1, 0, 1, 0, 1, 1,\n",
       "       1, 2, 1, 0, 0, 0, 1, 1, 0, 0, 1, 1, 1, 1, 1, 0, 0, 1, 1, 0, 0, 0, 3,\n",
       "       0, 0, 1, 1, 1, 1, 1, 0, 1, 1, 1, 0, 1, 1, 1, 1, 0, 0, 1, 0, 1, 0, 1])"
      ]
     },
     "execution_count": 118,
     "metadata": {},
     "output_type": "execute_result"
    }
   ],
   "source": [
    "kmeans_model=KMeans(n_clusters=4)\n",
    "kmeans_model.fit(data_hero_processed)\n",
    "kmeans_model.labels_"
   ]
  },
  {
   "cell_type": "code",
   "execution_count": 119,
   "metadata": {
    "collapsed": true
   },
   "outputs": [],
   "source": [
    "data_hero_processed['cluster_for_hero']=kmeans_model.labels_"
   ]
  },
  {
   "cell_type": "code",
   "execution_count": 120,
   "metadata": {},
   "outputs": [
    {
     "data": {
      "text/plain": [
       "Index(['hero_id', 'primary_attr', 'attack_type', 'base_health',\n",
       "       'base_health_regen', 'base_mana', 'base_mana_regen', 'base_armor',\n",
       "       'base_magic_resistance', 'base_attack_min', 'base_attack_max',\n",
       "       'base_strength', 'base_agility', 'base_intelligence', 'strength_gain',\n",
       "       'agility_gain', 'intelligence_gain', 'attack_range', 'projectile_speed',\n",
       "       'attack_rate', 'move_speed', 'turn_rate', 'Carry', 'Disabler',\n",
       "       'Durable', 'Escape', 'Initiator', 'Jungler', 'Nuker', 'Pusher',\n",
       "       'Support', 'cluster_for_hero'],\n",
       "      dtype='object')"
      ]
     },
     "execution_count": 120,
     "metadata": {},
     "output_type": "execute_result"
    }
   ],
   "source": [
    "data_hero_processed.columns"
   ]
  },
  {
   "cell_type": "code",
   "execution_count": 121,
   "metadata": {
    "collapsed": true
   },
   "outputs": [],
   "source": [
    "data_hero_processed.to_csv('intermediate/hero_processed.csv',header=True,sep=',')"
   ]
  },
  {
   "cell_type": "code",
   "execution_count": 122,
   "metadata": {
    "collapsed": true
   },
   "outputs": [],
   "source": [
    "data_train_1=pd.read_csv('C:/MyData/hub_project/AVHack/Felicity/Input/train1.csv')\n",
    "data_train_9=pd.read_csv('C:/MyData/hub_project/AVHack/Felicity/Input/train9.csv')\n",
    "data_test_1=pd.read_csv('C:/MyData/hub_project/AVHack/Felicity/Input/test1.csv')\n",
    "data_test_9=pd.read_csv('C:/MyData/hub_project/AVHack/Felicity/Input/test9.csv')"
   ]
  },
  {
   "cell_type": "code",
   "execution_count": 123,
   "metadata": {},
   "outputs": [
    {
     "name": "stdout",
     "output_type": "stream",
     "text": [
      "(2094, 6) (18846, 6)\n",
      "(898, 4) (8082, 6)\n",
      "(2094, 6) (18846, 6)\n",
      "(898, 6) (8082, 6)\n"
     ]
    }
   ],
   "source": [
    "print(data_train_1.shape,data_train_9.shape)\n",
    "print(data_test_1.shape,data_test_9.shape)\n",
    "data_test_1['kda_ratio']=-99\n",
    "data_test_1['num_wins']=-99\n",
    "print(data_train_1.shape,data_train_9.shape)\n",
    "print(data_test_1.shape,data_test_9.shape)"
   ]
  },
  {
   "cell_type": "code",
   "execution_count": 124,
   "metadata": {},
   "outputs": [
    {
     "name": "stdout",
     "output_type": "stream",
     "text": [
      "(2094, 7) (18846, 7)\n",
      "(898, 7) (8082, 7)\n"
     ]
    }
   ],
   "source": [
    "data_train_1['type']='data_train_1'\n",
    "data_train_9['type']='data_train_9'\n",
    "data_test_1['type']='data_test_1'\n",
    "data_test_9['type']='data_test_9'\n",
    "print(data_train_1.shape,data_train_9.shape)\n",
    "print(data_test_1.shape,data_test_9.shape)"
   ]
  },
  {
   "cell_type": "code",
   "execution_count": 125,
   "metadata": {},
   "outputs": [
    {
     "name": "stdout",
     "output_type": "stream",
     "text": [
      "data_train_9    18846\n",
      "data_test_9      8082\n",
      "Name: type, dtype: int64\n",
      "data_train_1    2094\n",
      "data_test_1      898\n",
      "Name: type, dtype: int64\n"
     ]
    }
   ],
   "source": [
    "all_data_train=pd.concat([data_test_9,data_train_9])\n",
    "all_data_test=pd.concat([data_test_1,data_train_1])\n",
    "\n",
    "print(all_data_train.type.value_counts())\n",
    "print(all_data_test.type.value_counts())"
   ]
  },
  {
   "cell_type": "code",
   "execution_count": 126,
   "metadata": {
    "collapsed": true
   },
   "outputs": [],
   "source": [
    "all_data_train['Wining_chance']=(all_data_train.num_wins/all_data_train.num_games)*100\n",
    "all_data_train['Wining_chance']=all_data_train['Wining_chance'].astype(int)"
   ]
  },
  {
   "cell_type": "code",
   "execution_count": 127,
   "metadata": {
    "collapsed": true
   },
   "outputs": [],
   "source": [
    "all_data_train_with_feature=pd.merge(all_data_train, data_hero_processed, how='left', on='hero_id')"
   ]
  },
  {
   "cell_type": "code",
   "execution_count": 128,
   "metadata": {},
   "outputs": [
    {
     "data": {
      "text/plain": [
       "Index(['user_id', 'hero_id', 'id', 'num_games', 'num_wins', 'kda_ratio',\n",
       "       'type', 'Wining_chance', 'primary_attr', 'attack_type', 'base_health',\n",
       "       'base_health_regen', 'base_mana', 'base_mana_regen', 'base_armor',\n",
       "       'base_magic_resistance', 'base_attack_min', 'base_attack_max',\n",
       "       'base_strength', 'base_agility', 'base_intelligence', 'strength_gain',\n",
       "       'agility_gain', 'intelligence_gain', 'attack_range', 'projectile_speed',\n",
       "       'attack_rate', 'move_speed', 'turn_rate', 'Carry', 'Disabler',\n",
       "       'Durable', 'Escape', 'Initiator', 'Jungler', 'Nuker', 'Pusher',\n",
       "       'Support', 'cluster_for_hero'],\n",
       "      dtype='object')"
      ]
     },
     "execution_count": 128,
     "metadata": {},
     "output_type": "execute_result"
    }
   ],
   "source": [
    "all_data_train_with_feature.columns"
   ]
  },
  {
   "cell_type": "code",
   "execution_count": 129,
   "metadata": {
    "collapsed": true
   },
   "outputs": [],
   "source": [
    "all_data_train_with_feature.to_csv('intermediate/all_data_train_with_feature.csv',header=True,sep=',')"
   ]
  },
  {
   "cell_type": "code",
   "execution_count": 130,
   "metadata": {},
   "outputs": [
    {
     "data": {
      "text/plain": [
       "\"f = {'num_games': ['mean','std'],'kda_ratio': ['mean','std'],'Wining_chance': ['mean']}\\nall_data_train_with_feature_cluster=all_data_train_with_feature.groupby(['cluster_for_hero'], as_index=False).agg(f)\\nall_data_train_with_feature_cluster.columns = ['cluster_for_hero','kda_ratio_mean_cluster','kda_ratio_std_cluster','num_games_mean_cluster', 'num_games_std_cluster', 'Wining_chance_mean_cluster']\""
      ]
     },
     "execution_count": 130,
     "metadata": {},
     "output_type": "execute_result"
    }
   ],
   "source": [
    "'''f = {'num_games': ['mean','std'],'kda_ratio': ['mean','std'],'Wining_chance': ['mean']}\n",
    "all_data_train_with_feature_cluster=all_data_train_with_feature.groupby(['cluster_for_hero'], as_index=False).agg(f)\n",
    "all_data_train_with_feature_cluster.columns = ['cluster_for_hero','kda_ratio_mean_cluster','kda_ratio_std_cluster','num_games_mean_cluster', 'num_games_std_cluster', 'Wining_chance_mean_cluster']'''"
   ]
  },
  {
   "cell_type": "code",
   "execution_count": 131,
   "metadata": {
    "collapsed": true,
    "scrolled": true
   },
   "outputs": [],
   "source": [
    "f = {'num_games': ['mean','std','max','min','count'],'kda_ratio': ['mean','std','max','min','count'],'Wining_chance': ['mean']}\n",
    "all_data_train_with_feature_cluster=all_data_train_with_feature.groupby(['cluster_for_hero'], as_index=False).agg(f)\n",
    "all_data_train_with_feature_cluster.columns = ['cluster_for_hero','kda_ratio_mean_cluster','kda_ratio_std_cluster','kda_ratio_max_cluster','kda_ratio_min_cluster','kda_ratio_count_cluster','num_games_mean_cluster', 'num_games_std_cluster', 'num_games_max_cluster','num_games_min_cluster','num_games_count_cluster','Wining_chance_mean_cluster']"
   ]
  },
  {
   "cell_type": "code",
   "execution_count": 132,
   "metadata": {
    "collapsed": true
   },
   "outputs": [],
   "source": [
    "all_data_train_with_feature_cluster.to_csv('intermediate/all_data_train_with_feature_cluster.csv',header=True,sep=',')"
   ]
  },
  {
   "cell_type": "code",
   "execution_count": 133,
   "metadata": {},
   "outputs": [
    {
     "data": {
      "text/plain": [
       "\"f = {'num_games': ['mean','std'],'kda_ratio': ['mean','std'],'Wining_chance': ['mean']}\\nall_data_train_with_feature_user=all_data_train_with_feature.groupby(['user_id','cluster_for_hero'], as_index=False).agg(f)\\nall_data_train_with_feature_user.columns = ['user_id','cluster_for_hero','kda_ratio_mean_user','kda_ratio_std_user','num_games_mean_user', 'num_games_std_user','Wining_chance_mean_user']\""
      ]
     },
     "execution_count": 133,
     "metadata": {},
     "output_type": "execute_result"
    }
   ],
   "source": [
    "'''f = {'num_games': ['mean','std'],'kda_ratio': ['mean','std'],'Wining_chance': ['mean']}\n",
    "all_data_train_with_feature_user=all_data_train_with_feature.groupby(['user_id','cluster_for_hero'], as_index=False).agg(f)\n",
    "all_data_train_with_feature_user.columns = ['user_id','cluster_for_hero','kda_ratio_mean_user','kda_ratio_std_user','num_games_mean_user', 'num_games_std_user','Wining_chance_mean_user']'''"
   ]
  },
  {
   "cell_type": "code",
   "execution_count": 134,
   "metadata": {
    "collapsed": true
   },
   "outputs": [],
   "source": [
    "f = {'num_games': ['mean','std','max','min','count'],'kda_ratio': ['mean','std','max','min','count'],'Wining_chance': ['mean']}\n",
    "all_data_train_with_feature_user=all_data_train_with_feature.groupby(['user_id','cluster_for_hero'], as_index=False).agg(f)\n",
    "all_data_train_with_feature_user.columns = ['user_id','cluster_for_hero','kda_ratio_mean_user','kda_ratio_std_user','kda_ratio_max_user','kda_ratio_min_user','kda_ratio_count_user','num_games_mean_user', 'num_games_std_user', 'num_games_max_user','num_games_min_user','num_games_count_user','Wining_chance_mean_user']"
   ]
  },
  {
   "cell_type": "code",
   "execution_count": 135,
   "metadata": {
    "collapsed": true,
    "scrolled": true
   },
   "outputs": [],
   "source": [
    "all_data_train_with_feature_user.to_csv('intermediate/all_data_train_with_feature_user.csv',header=True,sep=',')"
   ]
  },
  {
   "cell_type": "code",
   "execution_count": 136,
   "metadata": {
    "collapsed": true
   },
   "outputs": [],
   "source": [
    "all_data_test_with_feature=pd.merge(all_data_test, data_hero_processed, how='left', on='hero_id')"
   ]
  },
  {
   "cell_type": "code",
   "execution_count": 137,
   "metadata": {},
   "outputs": [
    {
     "data": {
      "text/plain": [
       "Index(['hero_id', 'id', 'kda_ratio', 'num_games', 'num_wins', 'type',\n",
       "       'user_id', 'primary_attr', 'attack_type', 'base_health',\n",
       "       'base_health_regen', 'base_mana', 'base_mana_regen', 'base_armor',\n",
       "       'base_magic_resistance', 'base_attack_min', 'base_attack_max',\n",
       "       'base_strength', 'base_agility', 'base_intelligence', 'strength_gain',\n",
       "       'agility_gain', 'intelligence_gain', 'attack_range', 'projectile_speed',\n",
       "       'attack_rate', 'move_speed', 'turn_rate', 'Carry', 'Disabler',\n",
       "       'Durable', 'Escape', 'Initiator', 'Jungler', 'Nuker', 'Pusher',\n",
       "       'Support', 'cluster_for_hero'],\n",
       "      dtype='object')"
      ]
     },
     "execution_count": 137,
     "metadata": {},
     "output_type": "execute_result"
    }
   ],
   "source": [
    "all_data_test_with_feature.columns"
   ]
  },
  {
   "cell_type": "code",
   "execution_count": 138,
   "metadata": {
    "collapsed": true
   },
   "outputs": [],
   "source": [
    "all_data_test_with_feature_cluster=pd.merge(all_data_test_with_feature, all_data_train_with_feature_cluster, how='left', on='cluster_for_hero')"
   ]
  },
  {
   "cell_type": "code",
   "execution_count": 139,
   "metadata": {
    "collapsed": true,
    "scrolled": true
   },
   "outputs": [],
   "source": [
    "all_data_test_with_feature_cluster_user=pd.merge(all_data_test_with_feature_cluster, all_data_train_with_feature_user, how='left', on=['user_id','cluster_for_hero'])"
   ]
  },
  {
   "cell_type": "code",
   "execution_count": 140,
   "metadata": {
    "collapsed": true
   },
   "outputs": [],
   "source": [
    "all_data_test_with_feature_cluster_user.to_csv('intermediate/all_data_test_with_feature_cluster_user.csv',header=True,sep=',')"
   ]
  },
  {
   "cell_type": "code",
   "execution_count": 141,
   "metadata": {
    "collapsed": true
   },
   "outputs": [],
   "source": [
    "all_data_test_with_feature_cluster_user.fillna(0,inplace=True)"
   ]
  },
  {
   "cell_type": "code",
   "execution_count": 142,
   "metadata": {
    "collapsed": true
   },
   "outputs": [],
   "source": [
    "column_to_drop = ['hero_id','id','user_id','type','num_wins']\n",
    "response = ['kda_ratio']"
   ]
  },
  {
   "cell_type": "code",
   "execution_count": 143,
   "metadata": {
    "collapsed": true
   },
   "outputs": [],
   "source": [
    "train = all_data_test_with_feature_cluster_user.loc[all_data_test_with_feature_cluster_user['type']=='data_train_1',:]\n",
    "test = all_data_test_with_feature_cluster_user.loc[all_data_test_with_feature_cluster_user['type']=='data_test_1',:]"
   ]
  },
  {
   "cell_type": "code",
   "execution_count": 144,
   "metadata": {
    "collapsed": true
   },
   "outputs": [],
   "source": [
    "train.reset_index(drop=True,inplace=True)\n",
    "test.reset_index(drop=True,inplace=True)"
   ]
  },
  {
   "cell_type": "code",
   "execution_count": 145,
   "metadata": {},
   "outputs": [
    {
     "name": "stdout",
     "output_type": "stream",
     "text": [
      "True\n",
      "True\n"
     ]
    }
   ],
   "source": [
    "print(train.shape[0]==data_train_1.shape[0])\n",
    "print(test.shape[0]==data_test_1.shape[0])"
   ]
  },
  {
   "cell_type": "code",
   "execution_count": 183,
   "metadata": {
    "collapsed": true
   },
   "outputs": [],
   "source": [
    "train_X = train.drop(column_to_drop+response, axis=1)\n",
    "train_y = (train['kda_ratio']).values\n",
    "test_X = test.drop(column_to_drop+response, axis=1)"
   ]
  },
  {
   "cell_type": "code",
   "execution_count": 147,
   "metadata": {},
   "outputs": [
    {
     "data": {
      "text/plain": [
       "\"train_X_1 = train.drop(column_to_drop+response, axis=1)\\ntrain_y_1 = train['kda_ratio']\\ntest_X_1 = test.drop(column_to_drop+response, axis=1)\\n\\nscaler = preprocessing.MinMaxScaler()\\nscaler.fit(train_X_1)\\nscaled_train_X=scaler.transform(train_X_1)\\nscaled_test_X=scaler.transform(test_X_1)\\n\\ntrain_X = pd.DataFrame(scaled_train_X, columns=train_X_1.columns)\\ntest_X = pd.DataFrame(scaled_test_X, columns=test_X_1.columns)\\ntrain_y = train_y_1\""
      ]
     },
     "execution_count": 147,
     "metadata": {},
     "output_type": "execute_result"
    }
   ],
   "source": [
    "'''train_X_1 = train.drop(column_to_drop+response, axis=1)\n",
    "train_y_1 = train['kda_ratio']\n",
    "test_X_1 = test.drop(column_to_drop+response, axis=1)\n",
    "\n",
    "scaler = preprocessing.MinMaxScaler()\n",
    "scaler.fit(train_X_1)\n",
    "scaled_train_X=scaler.transform(train_X_1)\n",
    "scaled_test_X=scaler.transform(test_X_1)\n",
    "\n",
    "train_X = pd.DataFrame(scaled_train_X, columns=train_X_1.columns)\n",
    "test_X = pd.DataFrame(scaled_test_X, columns=test_X_1.columns)\n",
    "train_y = train_y_1'''"
   ]
  },
  {
   "cell_type": "code",
   "execution_count": 148,
   "metadata": {
    "collapsed": true
   },
   "outputs": [],
   "source": [
    "train.to_csv('intermediate/train.csv',header=True,sep=',')\n",
    "test.to_csv('intermediate/test.csv',header=True,sep=',')"
   ]
  },
  {
   "cell_type": "code",
   "execution_count": 149,
   "metadata": {
    "collapsed": true
   },
   "outputs": [],
   "source": [
    "train_X.to_csv('intermediate/train_X.csv',header=True,sep=',')\n",
    "train_y.to_csv('intermediate/train_y.csv',header=True,sep=',')\n",
    "test_X.to_csv('intermediate/test_X.csv',header=True,sep=',')"
   ]
  },
  {
   "cell_type": "markdown",
   "metadata": {},
   "source": [
    "## Light GBM"
   ]
  },
  {
   "cell_type": "code",
   "execution_count": 54,
   "metadata": {
    "collapsed": true
   },
   "outputs": [],
   "source": [
    "def runLGB(dev_X, dev_y, val_X, val_y, test_X = None, params = None, rounds = 5000, variableImportance = False):\n",
    "    if params is None:\n",
    "        params = {'task': 'train',\n",
    "                  'boosting_type':'gbdt', \n",
    "                  'num_leaves':31, \n",
    "                  'max_depth':-1,\n",
    "                  'learning_rate':0.1,\n",
    "                  'objective':'regression',\n",
    "                  'class_weight':None,\n",
    "                  'min_split_gain':0.0, \n",
    "                  'min_child_weight':0.001,\n",
    "                  'min_child_samples':20, \n",
    "                  'subsample':1.0, \n",
    "                  'subsample_freq':1, \n",
    "                  'colsample_bytree':1.0,\n",
    "                  'reg_alpha':0.0, \n",
    "                  'reg_lambda':0.0, \n",
    "                  'random_state':2018,\n",
    "                  'n_jobs':-1, \n",
    "                  'silent':True,\n",
    "                  'metric': 'rmse'}\n",
    "        \n",
    "    num_rounds = rounds\n",
    "\n",
    "    plst = list(params.items())\n",
    "    lgb_dev = lgb.Dataset(dev_X, label=dev_y)\n",
    "    if val_y is not None:\n",
    "        lgb_val = lgb.Dataset(val_X, label=val_y)\n",
    "        model = lgb.train(params,lgb_dev,num_boost_round=num_rounds,valid_names=['dev','val'],valid_sets=[lgb_dev,lgb_val],early_stopping_rounds=100,verbose_eval=100)\n",
    "    else:\n",
    "        model = lgb.train(params, lgb_dev, num_rounds)\n",
    "    \n",
    "    if variableImportance:\n",
    "        print('Variable Importance Plot')\n",
    "        lgb.plot_importance(model)\n",
    "        plt.figure(figsize=(15,15))\n",
    "        plt.show()\n",
    "    \n",
    "    pred_val_y = model.predict(val_X, num_iteration=model.best_iteration)\n",
    "    \n",
    "    if test_X is not None:\n",
    "        pred_test_y = model.predict(test_X, num_iteration=model.best_iteration)\n",
    "    else: \n",
    "        pred_test_y = np.nan\n",
    "    \n",
    "    score = 0\n",
    "    if val_y is not None:\n",
    "        score =  metrics.mean_squared_error(val_y, pred_val_y)\n",
    "        return pred_val_y, score, pred_test_y\n",
    "    else:\n",
    "        return pred_val_y, score, pred_test_y"
   ]
  },
  {
   "cell_type": "code",
   "execution_count": 56,
   "metadata": {},
   "outputs": [
    {
     "name": "stderr",
     "output_type": "stream",
     "text": [
      "c:\\users\\sripan\\appdata\\local\\programs\\python\\python35\\lib\\site-packages\\lightgbm\\basic.py:644: UserWarning: silent keyword has been found in `params` and will be ignored. Please use silent argument of the Dataset constructor to pass this parameter.\n",
      "  'Please use {0} argument of the Dataset constructor to pass this parameter.'.format(key))\n"
     ]
    },
    {
     "name": "stdout",
     "output_type": "stream",
     "text": [
      "Training until validation scores don't improve for 100 rounds.\n",
      "[100]\tdev's rmse: 402.51\tval's rmse: 675.854\n",
      "Early stopping, best iteration is:\n",
      "[39]\tdev's rmse: 535.984\tval's rmse: 653.257\n",
      "Variable Importance Plot\n"
     ]
    },
    {
     "data": {
      "image/png": "[encoded data removed]",
      "text/plain": [
       "<matplotlib.figure.Figure at 0x1af73208>"
      ]
     },
     "metadata": {},
     "output_type": "display_data"
    },
    {
     "data": {
      "text/plain": [
       "<matplotlib.figure.Figure at 0x17b81da0>"
      ]
     },
     "metadata": {},
     "output_type": "display_data"
    },
    {
     "name": "stdout",
     "output_type": "stream",
     "text": [
      "Score:426745.2046190965\n"
     ]
    }
   ],
   "source": [
    "dev_X, val_X, dev_y, val_y = train_test_split(train_X,train_y,test_size = 0.2, random_state = 2018)\n",
    "pred_val_y, score, pred_test_y = runLGB(dev_X, dev_y, val_X, val_y, rounds=10000, variableImportance=True)\n",
    "print('Score:{}'.format(score))"
   ]
  },
  {
   "cell_type": "code",
   "execution_count": 93,
   "metadata": {
    "collapsed": true
   },
   "outputs": [],
   "source": [
    "params = {'boosting_type':'gbdt', \n",
    "          'num_leaves':31, \n",
    "          'max_depth':-1,\n",
    "          'learning_rate':0.1, \n",
    "          'n_estimators':100, \n",
    "          'subsample_for_bin':200000, \n",
    "          'objective':'regression',\n",
    "          'class_weight':None,\n",
    "          'min_split_gain':0.0, \n",
    "          'min_child_samples':20, \n",
    "          'subsample':1.0, \n",
    "          'subsample_freq':1, \n",
    "          'colsample_bytree':1.0,\n",
    "          'reg_alpha':0.0, \n",
    "          'reg_lambda':0.0, \n",
    "          'random_state':2018,\n",
    "          'n_jobs':-1, \n",
    "          'silent':True,\n",
    "          'metric': 'rmse'}\n",
    "\n",
    "def return_lgb_model():\n",
    "    lgb_model = lgb.LGBMRegressor(boosting_type= params['boosting_type'],num_leaves = params['num_leaves'],\n",
    "                                max_depth = params['max_depth'],learning_rate =  params['learning_rate'],\n",
    "                                n_estimators = params['n_estimators'],subsample_for_bin = params['subsample_for_bin'],\n",
    "                                objective = params['objective'],min_split_gain = params['min_split_gain'],\n",
    "                                min_child_samples = params['min_child_samples'],\n",
    "                                subsample = params['subsample'],subsample_freq = params['subsample_freq'],\n",
    "                                colsample_bytree = params['colsample_bytree'],reg_alpha = params['reg_alpha'],\n",
    "                                reg_lambda = params['reg_lambda'],random_state = params['random_state'],\n",
    "                                n_jobs = params['n_jobs'],silent = params['silent'])\n",
    "    return lgb_model"
   ]
  },
  {
   "cell_type": "code",
   "execution_count": 61,
   "metadata": {
    "collapsed": true
   },
   "outputs": [],
   "source": [
    "params['n_estimators']=39"
   ]
  },
  {
   "cell_type": "code",
   "execution_count": 62,
   "metadata": {},
   "outputs": [
    {
     "name": "stdout",
     "output_type": "stream",
     "text": [
      "[mean: -619598.26746, std: 176665.05302, params: {'num_leaves': 2}, mean: -559337.23069, std: 168598.71285, params: {'num_leaves': 3}]\n",
      "Best parameter: 3, score: -559337.2306866955\n"
     ]
    },
    {
     "name": "stderr",
     "output_type": "stream",
     "text": [
      "c:\\users\\sripan\\appdata\\local\\programs\\python\\python35\\lib\\site-packages\\sklearn\\model_selection\\_search.py:761: DeprecationWarning: The grid_scores_ attribute was deprecated in version 0.18 in favor of the more elaborate cv_results_ attribute. The grid_scores_ attribute will not be available from 0.20\n",
      "  DeprecationWarning)\n"
     ]
    }
   ],
   "source": [
    "lgb_rgsr = return_lgb_model()\n",
    "\n",
    "param_test_num_leaves = {\n",
    " 'num_leaves': range(2,4,1)\n",
    "}\n",
    "gsearch_param_test_num_leaves = GridSearchCV(lgb_rgsr, param_grid = param_test_num_leaves, scoring='mean_squared_error', n_jobs=4, iid=False, cv=5)\n",
    "gsearch_param_test_num_leaves.fit(train_X,train_y)\n",
    "print(gsearch_param_test_num_leaves.grid_scores_)\n",
    "print(\"Best parameter: {}, score: {}\".format(gsearch_param_test_num_leaves.best_params_['num_leaves'], gsearch_param_test_num_leaves.best_score_))"
   ]
  },
  {
   "cell_type": "code",
   "execution_count": 63,
   "metadata": {
    "collapsed": true
   },
   "outputs": [],
   "source": [
    "params['num_leaves']=gsearch_param_test_num_leaves.best_params_['num_leaves']"
   ]
  },
  {
   "cell_type": "code",
   "execution_count": 70,
   "metadata": {},
   "outputs": [
    {
     "data": {
      "text/plain": [
       "3"
      ]
     },
     "execution_count": 70,
     "metadata": {},
     "output_type": "execute_result"
    }
   ],
   "source": [
    "params['num_leaves']"
   ]
  },
  {
   "cell_type": "code",
   "execution_count": 65,
   "metadata": {},
   "outputs": [
    {
     "name": "stdout",
     "output_type": "stream",
     "text": [
      "[mean: -559449.77464, std: 169240.29238, params: {'min_data_in_leaf': 12}, mean: -559936.09666, std: 168033.68125, params: {'min_data_in_leaf': 13}, mean: -559995.21734, std: 167976.42189, params: {'min_data_in_leaf': 14}]\n",
      "Best parameter: 12, score: -559449.7746375547\n"
     ]
    },
    {
     "name": "stderr",
     "output_type": "stream",
     "text": [
      "c:\\users\\sripan\\appdata\\local\\programs\\python\\python35\\lib\\site-packages\\sklearn\\model_selection\\_search.py:761: DeprecationWarning: The grid_scores_ attribute was deprecated in version 0.18 in favor of the more elaborate cv_results_ attribute. The grid_scores_ attribute will not be available from 0.20\n",
      "  DeprecationWarning)\n"
     ]
    }
   ],
   "source": [
    "lgb_rgsr = return_lgb_model()\n",
    "\n",
    "param_test_min_data_in_leaf = {\n",
    " 'min_data_in_leaf': [12,13,14]\n",
    "}\n",
    "gsearch_param_test_min_data_in_leaf = GridSearchCV(lgb_rgsr, param_grid = param_test_min_data_in_leaf, scoring='mean_squared_error', n_jobs=4, iid=False, cv=5)\n",
    "gsearch_param_test_min_data_in_leaf.fit(train_X,train_y)\n",
    "print(gsearch_param_test_min_data_in_leaf.grid_scores_)\n",
    "print(\"Best parameter: {}, score: {}\".format(gsearch_param_test_min_data_in_leaf.best_params_['min_data_in_leaf'], gsearch_param_test_min_data_in_leaf.best_score_))"
   ]
  },
  {
   "cell_type": "code",
   "execution_count": 66,
   "metadata": {
    "collapsed": true
   },
   "outputs": [],
   "source": [
    "params['min_data_in_leaf']=gsearch_param_test_min_data_in_leaf.best_params_['min_data_in_leaf']"
   ]
  },
  {
   "cell_type": "code",
   "execution_count": 71,
   "metadata": {},
   "outputs": [
    {
     "data": {
      "text/plain": [
       "12"
      ]
     },
     "execution_count": 71,
     "metadata": {},
     "output_type": "execute_result"
    }
   ],
   "source": [
    "params['min_data_in_leaf']"
   ]
  },
  {
   "cell_type": "code",
   "execution_count": 67,
   "metadata": {},
   "outputs": [
    {
     "name": "stdout",
     "output_type": "stream",
     "text": [
      "[mean: -619598.26746, std: 176665.05302, params: {'max_depth': 1}, mean: -559337.23069, std: 168598.71285, params: {'max_depth': 2}, mean: -559337.23069, std: 168598.71285, params: {'max_depth': 3}, mean: -559337.23069, std: 168598.71285, params: {'max_depth': 4}]\n",
      "Best parameter: 2, score: -559337.2306866955\n"
     ]
    },
    {
     "name": "stderr",
     "output_type": "stream",
     "text": [
      "c:\\users\\sripan\\appdata\\local\\programs\\python\\python35\\lib\\site-packages\\sklearn\\model_selection\\_search.py:761: DeprecationWarning: The grid_scores_ attribute was deprecated in version 0.18 in favor of the more elaborate cv_results_ attribute. The grid_scores_ attribute will not be available from 0.20\n",
      "  DeprecationWarning)\n"
     ]
    }
   ],
   "source": [
    "lgb_rgsr = return_lgb_model()\n",
    "\n",
    "param_test_max_depth = {\n",
    " 'max_depth':[1,2,3,4]\n",
    "}\n",
    "gsearch_max_depth = GridSearchCV(lgb_rgsr, param_grid = param_test_max_depth, scoring='mean_squared_error', n_jobs=4, iid=False, cv=5)\n",
    "gsearch_max_depth.fit(train_X,train_y)\n",
    "print(gsearch_max_depth.grid_scores_)\n",
    "print(\"Best parameter: {}, score: {}\".format(gsearch_max_depth.best_params_['max_depth'], gsearch_max_depth.best_score_))"
   ]
  },
  {
   "cell_type": "code",
   "execution_count": 68,
   "metadata": {
    "collapsed": true
   },
   "outputs": [],
   "source": [
    "params['max_depth'] = gsearch_max_depth.best_params_['max_depth']"
   ]
  },
  {
   "cell_type": "code",
   "execution_count": 69,
   "metadata": {},
   "outputs": [
    {
     "data": {
      "text/plain": [
       "2"
      ]
     },
     "execution_count": 69,
     "metadata": {},
     "output_type": "execute_result"
    }
   ],
   "source": [
    "params['max_depth']"
   ]
  },
  {
   "cell_type": "code",
   "execution_count": null,
   "metadata": {
    "collapsed": true
   },
   "outputs": [],
   "source": [
    "lgb_rgsr = return_lgb_model()\n",
    "\n",
    "param_test_max_bin = {\n",
    " 'max_bin':[1,5,10,20]\n",
    "}\n",
    "gsearch_max_bin = GridSearchCV(lgb_rgsr, param_grid = param_test_max_bin, scoring='mean_squared_error', n_jobs=4, iid=False, cv=5)\n",
    "gsearch_max_bin.fit(train_X,train_y)\n",
    "print(gsearch_max_bin.grid_scores_)\n",
    "print(\"Best parameter: {}, score: {}\".format(gsearch_max_bin.best_params_['max_depth'], gsearch_max_bin.best_score_))"
   ]
  },
  {
   "cell_type": "code",
   "execution_count": null,
   "metadata": {
    "collapsed": true
   },
   "outputs": [],
   "source": [
    "params['max_bin'] = gsearch_max_depth.best_params_['max_bin']"
   ]
  },
  {
   "cell_type": "code",
   "execution_count": null,
   "metadata": {
    "collapsed": true
   },
   "outputs": [],
   "source": [
    "'''lgb_rgsr = return_lgb_model()\n",
    "\n",
    "param_test_min_child_weight = {\n",
    " 'min_child_weight':range(10,17,1),\n",
    "}\n",
    "gsearch_param_test_min_child_weight = GridSearchCV(lgb_rgsr, param_grid = param_test_min_child_weight, scoring='mean_squared_error', n_jobs=4, iid=False, cv=5)\n",
    "gsearch_param_test_min_child_weight.fit(train_X,train_y)\n",
    "print(gsearch_param_test_min_child_weight.grid_scores_)\n",
    "print(\"Best parameter: {}, score: {}\".format(gsearch_param_test_min_child_weight.best_params_['min_child_weight'], gsearch_param_test_min_child_weight.best_score_))\n",
    "params['min_child_weight']=gsearch_param_test_min_child_weight.best_params_['min_child_weight']'''"
   ]
  },
  {
   "cell_type": "code",
   "execution_count": 78,
   "metadata": {},
   "outputs": [
    {
     "name": "stdout",
     "output_type": "stream",
     "text": [
      "[mean: -561288.39092, std: 166841.85201, params: {'colsample_bytree': 0.85, 'subsample': 0.73}, mean: -561288.39092, std: 166841.85201, params: {'colsample_bytree': 0.86, 'subsample': 0.73}, mean: -563057.34055, std: 166023.02970, params: {'colsample_bytree': 0.87, 'subsample': 0.73}]\n",
      "Best subsample: 0.73, colsample_bytree: 0.85, score: -561288.3909247871\n"
     ]
    },
    {
     "name": "stderr",
     "output_type": "stream",
     "text": [
      "c:\\users\\sripan\\appdata\\local\\programs\\python\\python35\\lib\\site-packages\\sklearn\\model_selection\\_search.py:761: DeprecationWarning: The grid_scores_ attribute was deprecated in version 0.18 in favor of the more elaborate cv_results_ attribute. The grid_scores_ attribute will not be available from 0.20\n",
      "  DeprecationWarning)\n"
     ]
    }
   ],
   "source": [
    "lgb_rgsr = return_lgb_model()\n",
    "\n",
    "param_test_sample= {\n",
    " 'subsample': [0.73],\n",
    " 'colsample_bytree': [0.85,0.86,0.87]\n",
    "}\n",
    "gsearch_param_test_sample = GridSearchCV(lgb_rgsr, param_grid = param_test_sample, scoring='mean_squared_error', n_jobs=4, iid=False, cv=5)\n",
    "gsearch_param_test_sample.fit(train_X,train_y)\n",
    "print(gsearch_param_test_sample.grid_scores_)\n",
    "print(\"Best subsample: {}, colsample_bytree: {}, score: {}\".format(gsearch_param_test_sample.best_params_['subsample'],gsearch_param_test_sample.best_params_['colsample_bytree'], gsearch_param_test_sample.best_score_))"
   ]
  },
  {
   "cell_type": "code",
   "execution_count": 79,
   "metadata": {
    "collapsed": true
   },
   "outputs": [],
   "source": [
    "params['subsample']=gsearch_param_test_sample.best_params_['subsample']\n",
    "params['colsample_bytree']=gsearch_param_test_sample.best_params_['colsample_bytree']"
   ]
  },
  {
   "cell_type": "code",
   "execution_count": 90,
   "metadata": {},
   "outputs": [
    {
     "data": {
      "text/plain": [
       "(0.73, 0.85)"
      ]
     },
     "execution_count": 90,
     "metadata": {},
     "output_type": "execute_result"
    }
   ],
   "source": [
    "params['subsample'],params['colsample_bytree']"
   ]
  },
  {
   "cell_type": "code",
   "execution_count": 87,
   "metadata": {},
   "outputs": [
    {
     "name": "stdout",
     "output_type": "stream",
     "text": [
      "[mean: -561293.62825, std: 166842.47476, params: {'reg_alpha': 0.001, 'reg_lambda': 0.01}, mean: -561081.88325, std: 166740.87742, params: {'reg_alpha': 0.001, 'reg_lambda': 0.02}, mean: -561092.41697, std: 166742.14829, params: {'reg_alpha': 0.001, 'reg_lambda': 0.04}, mean: -561087.15025, std: 166741.51257, params: {'reg_alpha': 0.001, 'reg_lambda': 0.03}]\n",
      "Best reg_alpha: 0.001, reg_lambda: 0.02, score: -561081.8832473827\n"
     ]
    },
    {
     "name": "stderr",
     "output_type": "stream",
     "text": [
      "c:\\users\\sripan\\appdata\\local\\programs\\python\\python35\\lib\\site-packages\\sklearn\\model_selection\\_search.py:761: DeprecationWarning: The grid_scores_ attribute was deprecated in version 0.18 in favor of the more elaborate cv_results_ attribute. The grid_scores_ attribute will not be available from 0.20\n",
      "  DeprecationWarning)\n"
     ]
    }
   ],
   "source": [
    "lgbclf = return_lgb_model()\n",
    "param_test_regularizer = {\n",
    "    'reg_alpha' : [0.001],\n",
    "    'reg_lambda' : [0.01,0.02,0.04,0.03]\n",
    "}\n",
    "gsearch_regularizer = GridSearchCV(lgbclf, param_grid = param_test_regularizer, scoring='mean_squared_error', n_jobs=4, iid=False, cv=5)\n",
    "gsearch_regularizer.fit(train_X,train_y)\n",
    "print(gsearch_regularizer.grid_scores_ )\n",
    "print(\"Best reg_alpha: {}, reg_lambda: {}, score: {}\".format(gsearch_regularizer.best_params_['reg_alpha'],gsearch_regularizer.best_params_['reg_lambda'], gsearch_regularizer.best_score_))"
   ]
  },
  {
   "cell_type": "code",
   "execution_count": 88,
   "metadata": {
    "collapsed": true
   },
   "outputs": [],
   "source": [
    "params['reg_alpha']=gsearch_regularizer.best_params_['reg_alpha']\n",
    "params['reg_lambda']=gsearch_regularizer.best_params_['reg_lambda']"
   ]
  },
  {
   "cell_type": "code",
   "execution_count": 89,
   "metadata": {},
   "outputs": [
    {
     "data": {
      "text/plain": [
       "(0.001, 0.02)"
      ]
     },
     "execution_count": 89,
     "metadata": {},
     "output_type": "execute_result"
    }
   ],
   "source": [
    "params['reg_alpha'],params['reg_lambda']"
   ]
  },
  {
   "cell_type": "code",
   "execution_count": 96,
   "metadata": {
    "collapsed": true
   },
   "outputs": [],
   "source": [
    "params['learning_rate'] = 0.005"
   ]
  },
  {
   "cell_type": "code",
   "execution_count": 97,
   "metadata": {},
   "outputs": [
    {
     "data": {
      "text/plain": [
       "0.005"
      ]
     },
     "execution_count": 97,
     "metadata": {},
     "output_type": "execute_result"
    }
   ],
   "source": [
    "params['learning_rate']"
   ]
  },
  {
   "cell_type": "code",
   "execution_count": 98,
   "metadata": {
    "scrolled": true
   },
   "outputs": [
    {
     "name": "stdout",
     "output_type": "stream",
     "text": [
      "Model building..\n",
      "Running model: LGB\n",
      "1675 419\n",
      "Training until validation scores don't improve for 100 rounds.\n",
      "[100]\tdev's rmse: 822.194\tval's rmse: 785.556\n"
     ]
    },
    {
     "name": "stderr",
     "output_type": "stream",
     "text": [
      "c:\\users\\sripan\\appdata\\local\\programs\\python\\python35\\lib\\site-packages\\lightgbm\\basic.py:644: UserWarning: silent keyword has been found in `params` and will be ignored. Please use silent argument of the Dataset constructor to pass this parameter.\n",
      "  'Please use {0} argument of the Dataset constructor to pass this parameter.'.format(key))\n"
     ]
    },
    {
     "name": "stdout",
     "output_type": "stream",
     "text": [
      "[200]\tdev's rmse: 713.758\tval's rmse: 712.643\n",
      "[300]\tdev's rmse: 649.334\tval's rmse: 682.728\n",
      "[400]\tdev's rmse: 607.605\tval's rmse: 669.334\n",
      "[500]\tdev's rmse: 576.943\tval's rmse: 662.161\n",
      "[600]\tdev's rmse: 551.744\tval's rmse: 655.01\n",
      "[700]\tdev's rmse: 531.786\tval's rmse: 651.708\n",
      "[800]\tdev's rmse: 515.025\tval's rmse: 651.983\n",
      "[900]\tdev's rmse: 499.772\tval's rmse: 651.115\n",
      "Early stopping, best iteration is:\n",
      "[870]\tdev's rmse: 504.007\tval's rmse: 650.689\n",
      "1675 419\n",
      "Training until validation scores don't improve for 100 rounds.\n",
      "[100]\tdev's rmse: 810.511\tval's rmse: 848.544\n",
      "[200]\tdev's rmse: 699.133\tval's rmse: 782.877\n",
      "[300]\tdev's rmse: 634.801\tval's rmse: 755.599\n",
      "[400]\tdev's rmse: 591.021\tval's rmse: 744.097\n",
      "[500]\tdev's rmse: 558.59\tval's rmse: 738.436\n",
      "[600]\tdev's rmse: 535.366\tval's rmse: 736.078\n",
      "[700]\tdev's rmse: 516.636\tval's rmse: 732.556\n",
      "[800]\tdev's rmse: 498.547\tval's rmse: 731.384\n",
      "[900]\tdev's rmse: 482.891\tval's rmse: 729.664\n",
      "[1000]\tdev's rmse: 469.562\tval's rmse: 729.603\n",
      "Early stopping, best iteration is:\n",
      "[970]\tdev's rmse: 473.309\tval's rmse: 729.408\n",
      "1675 419\n",
      "Training until validation scores don't improve for 100 rounds.\n",
      "[100]\tdev's rmse: 771.818\tval's rmse: 1008.01\n",
      "[200]\tdev's rmse: 664.953\tval's rmse: 931.651\n",
      "[300]\tdev's rmse: 600.721\tval's rmse: 899.608\n",
      "[400]\tdev's rmse: 557.765\tval's rmse: 885.91\n",
      "[500]\tdev's rmse: 525.755\tval's rmse: 876.793\n",
      "[600]\tdev's rmse: 498.719\tval's rmse: 870.113\n",
      "[700]\tdev's rmse: 475.486\tval's rmse: 865.399\n",
      "[800]\tdev's rmse: 455.43\tval's rmse: 862.701\n",
      "[900]\tdev's rmse: 437.812\tval's rmse: 859.79\n",
      "[1000]\tdev's rmse: 421.985\tval's rmse: 859.07\n",
      "[1100]\tdev's rmse: 406.477\tval's rmse: 858.712\n",
      "[1200]\tdev's rmse: 391.353\tval's rmse: 858.123\n",
      "Early stopping, best iteration is:\n",
      "[1190]\tdev's rmse: 392.804\tval's rmse: 858.018\n",
      "1675 419\n",
      "Training until validation scores don't improve for 100 rounds.\n",
      "[100]\tdev's rmse: 833.226\tval's rmse: 735.433\n",
      "[200]\tdev's rmse: 725.553\tval's rmse: 663.602\n",
      "[300]\tdev's rmse: 661.474\tval's rmse: 637.517\n",
      "[400]\tdev's rmse: 617.769\tval's rmse: 629.974\n",
      "[500]\tdev's rmse: 584.365\tval's rmse: 627.356\n",
      "[600]\tdev's rmse: 556.661\tval's rmse: 627.008\n",
      "Early stopping, best iteration is:\n",
      "[529]\tdev's rmse: 575.412\tval's rmse: 626.386\n",
      "1676 418\n",
      "Training until validation scores don't improve for 100 rounds.\n",
      "[100]\tdev's rmse: 818.798\tval's rmse: 828.537\n",
      "[200]\tdev's rmse: 714.593\tval's rmse: 742.73\n",
      "[300]\tdev's rmse: 650.85\tval's rmse: 701.889\n",
      "[400]\tdev's rmse: 608.704\tval's rmse: 684.206\n",
      "[500]\tdev's rmse: 574.629\tval's rmse: 676.178\n",
      "[600]\tdev's rmse: 548.741\tval's rmse: 669.639\n",
      "[700]\tdev's rmse: 528.081\tval's rmse: 668.296\n",
      "[800]\tdev's rmse: 510.591\tval's rmse: 668.194\n",
      "Early stopping, best iteration is:\n",
      "[773]\tdev's rmse: 515.018\tval's rmse: 667.992\n",
      "[650.68886267491519, 729.40837461205206, 858.01797831376575, 626.38615721207373, 667.99197981688053]\n",
      "711.385012491\n"
     ]
    }
   ],
   "source": [
    "model_names = ['LGB']\n",
    "print(\"Model building..\")\n",
    "kf = KFold(n_splits=5, shuffle=True, random_state=2018)\n",
    "cv_scores = []\n",
    "pred_test_full = 0\n",
    "pred_val_full = np.zeros(train_X.shape[0])\n",
    "for model_name in model_names:\n",
    "    print(\"Running model: {}\".format(model_name))\n",
    "    for dev_index, val_index in kf.split(train_X):\n",
    "        print(len(dev_index), len(val_index))\n",
    "        dev_X, val_X = train_X.iloc[dev_index,:], train_X.iloc[val_index,:]\n",
    "        dev_y, val_y = train_y[dev_index], train_y[val_index]\n",
    "        if model_name == \"XGB\":\n",
    "            pred_val_y, score, pred_test_y = runXGB(dev_X, dev_y, val_X, val_y, rounds=7000)\n",
    "        elif model_name == \"LGB\":\n",
    "            pred_val_y, score, pred_test_y = runLGB(dev_X, dev_y, val_X, val_y, test_X = test_X, params = params, rounds=7000)\n",
    "        pred_val_full[val_index] = pred_val_y\n",
    "        pred_test_full = pred_test_full + pred_test_y\n",
    "        cv_scores.append(np.sqrt(score))\n",
    "    print(cv_scores)\n",
    "    pred_test_full /= 5.\n",
    "    test['kda_ratio'] = pred_test_full\n",
    "    print(np.sqrt(metrics.mean_squared_error(train_y, pred_val_full)))"
   ]
  },
  {
   "cell_type": "code",
   "execution_count": 108,
   "metadata": {},
   "outputs": [
    {
     "data": {
      "text/plain": [
       "((2094, 42), (2094, 1), (898, 42))"
      ]
     },
     "execution_count": 108,
     "metadata": {},
     "output_type": "execute_result"
    }
   ],
   "source": [
    "train_X.shape,train_y.shape,test_X.shape"
   ]
  },
  {
   "cell_type": "code",
   "execution_count": 150,
   "metadata": {},
   "outputs": [
    {
     "name": "stdout",
     "output_type": "stream",
     "text": [
      "Model building..\n",
      "Running model: LGB\n",
      "1675 419\n"
     ]
    },
    {
     "name": "stderr",
     "output_type": "stream",
     "text": [
      "c:\\users\\sripan\\appdata\\local\\programs\\python\\python35\\lib\\site-packages\\lightgbm\\basic.py:644: UserWarning: silent keyword has been found in `params` and will be ignored. Please use silent argument of the Dataset constructor to pass this parameter.\n",
      "  'Please use {0} argument of the Dataset constructor to pass this parameter.'.format(key))\n"
     ]
    },
    {
     "name": "stdout",
     "output_type": "stream",
     "text": [
      "Training until validation scores don't improve for 100 rounds.\n",
      "[100]\tdev's rmse: 822.225\tval's rmse: 787.815\n",
      "[200]\tdev's rmse: 712.442\tval's rmse: 713.802\n",
      "[300]\tdev's rmse: 646.933\tval's rmse: 686.273\n",
      "[400]\tdev's rmse: 602.633\tval's rmse: 675.515\n",
      "[500]\tdev's rmse: 569.679\tval's rmse: 669.908\n",
      "[600]\tdev's rmse: 541.625\tval's rmse: 663.177\n",
      "[700]\tdev's rmse: 520.542\tval's rmse: 655.525\n",
      "[800]\tdev's rmse: 502.544\tval's rmse: 652.902\n",
      "[900]\tdev's rmse: 485.907\tval's rmse: 650.391\n",
      "[1000]\tdev's rmse: 471.523\tval's rmse: 649.753\n",
      "Early stopping, best iteration is:\n",
      "[967]\tdev's rmse: 476.021\tval's rmse: 649.571\n",
      "1675 419\n",
      "Training until validation scores don't improve for 100 rounds.\n",
      "[100]\tdev's rmse: 810.542\tval's rmse: 850.548\n",
      "[200]\tdev's rmse: 696.902\tval's rmse: 786.461\n",
      "[300]\tdev's rmse: 630.768\tval's rmse: 760.161\n",
      "[400]\tdev's rmse: 585.378\tval's rmse: 746.949\n",
      "[500]\tdev's rmse: 550.347\tval's rmse: 742.225\n",
      "[600]\tdev's rmse: 523.614\tval's rmse: 738.358\n",
      "[700]\tdev's rmse: 502.548\tval's rmse: 733.644\n",
      "[800]\tdev's rmse: 484.357\tval's rmse: 730.782\n",
      "[900]\tdev's rmse: 468.342\tval's rmse: 729.401\n",
      "[1000]\tdev's rmse: 453.446\tval's rmse: 728.572\n",
      "[1100]\tdev's rmse: 440.276\tval's rmse: 728.025\n",
      "Early stopping, best iteration is:\n",
      "[1091]\tdev's rmse: 441.394\tval's rmse: 727.914\n",
      "1675 419\n",
      "Training until validation scores don't improve for 100 rounds.\n",
      "[100]\tdev's rmse: 771.659\tval's rmse: 1008.85\n",
      "[200]\tdev's rmse: 662.816\tval's rmse: 935.085\n",
      "[300]\tdev's rmse: 595.532\tval's rmse: 903.518\n",
      "[400]\tdev's rmse: 549.589\tval's rmse: 887.566\n",
      "[500]\tdev's rmse: 516.021\tval's rmse: 878.638\n",
      "[600]\tdev's rmse: 486.539\tval's rmse: 871.884\n",
      "[700]\tdev's rmse: 461.028\tval's rmse: 869.369\n",
      "[800]\tdev's rmse: 439.769\tval's rmse: 869.541\n",
      "Early stopping, best iteration is:\n",
      "[720]\tdev's rmse: 456.536\tval's rmse: 868.945\n",
      "1675 419\n",
      "Training until validation scores don't improve for 100 rounds.\n",
      "[100]\tdev's rmse: 833.258\tval's rmse: 737.47\n",
      "[200]\tdev's rmse: 725.316\tval's rmse: 666.278\n",
      "[300]\tdev's rmse: 659.632\tval's rmse: 642.524\n",
      "[400]\tdev's rmse: 613.736\tval's rmse: 634.754\n",
      "[500]\tdev's rmse: 577.761\tval's rmse: 632.29\n",
      "[600]\tdev's rmse: 548.122\tval's rmse: 630.338\n",
      "[700]\tdev's rmse: 524.213\tval's rmse: 632.051\n",
      "Early stopping, best iteration is:\n",
      "[610]\tdev's rmse: 545.498\tval's rmse: 630.142\n",
      "1676 418\n",
      "Training until validation scores don't improve for 100 rounds.\n",
      "[100]\tdev's rmse: 818.918\tval's rmse: 830.054\n",
      "[200]\tdev's rmse: 713.002\tval's rmse: 741.929\n",
      "[300]\tdev's rmse: 648.192\tval's rmse: 699.657\n",
      "[400]\tdev's rmse: 604.494\tval's rmse: 680.395\n",
      "[500]\tdev's rmse: 568.733\tval's rmse: 668.243\n",
      "[600]\tdev's rmse: 541.461\tval's rmse: 662.236\n",
      "[700]\tdev's rmse: 519.174\tval's rmse: 662.238\n",
      "Early stopping, best iteration is:\n",
      "[659]\tdev's rmse: 527.9\tval's rmse: 661.921\n",
      "[649.57101585858152, 727.91350766104347, 868.94512892992077, 630.14185830690064, 661.92055243554398]\n",
      "713.05702487\n"
     ]
    },
    {
     "name": "stderr",
     "output_type": "stream",
     "text": [
      "c:\\users\\sripan\\appdata\\local\\programs\\python\\python35\\lib\\site-packages\\ipykernel_launcher.py:22: SettingWithCopyWarning: \n",
      "A value is trying to be set on a copy of a slice from a DataFrame.\n",
      "Try using .loc[row_indexer,col_indexer] = value instead\n",
      "\n",
      "See the caveats in the documentation: http://pandas.pydata.org/pandas-docs/stable/indexing.html#indexing-view-versus-copy\n"
     ]
    }
   ],
   "source": [
    "model_names = ['LGB']\n",
    "print(\"Model building..\")\n",
    "kf = KFold(n_splits=5, shuffle=True, random_state=2018)\n",
    "cv_scores = []\n",
    "pred_test_full = 0\n",
    "pred_val_full = np.zeros(train_X.shape[0])\n",
    "for model_name in model_names:\n",
    "    print(\"Running model: {}\".format(model_name))\n",
    "    for dev_index, val_index in kf.split(train_X):\n",
    "        print(len(dev_index), len(val_index))\n",
    "        dev_X, val_X = train_X.iloc[dev_index,:], train_X.iloc[val_index,:]\n",
    "        dev_y, val_y = train_y[dev_index], train_y[val_index]\n",
    "        if model_name == \"XGB\":\n",
    "            pred_val_y, score, pred_test_y = runXGB(dev_X, dev_y, val_X, val_y, test_X = test_X, params = params rounds=7000)\n",
    "        elif model_name == \"LGB\":\n",
    "            pred_val_y, score, pred_test_y = runLGB(dev_X, dev_y, val_X, val_y, test_X = test_X, params = params, rounds=7000)\n",
    "        pred_val_full[val_index] = pred_val_y\n",
    "        pred_test_full = pred_test_full + pred_test_y\n",
    "        cv_scores.append(np.sqrt(score))\n",
    "    print(cv_scores)\n",
    "    pred_test_full /= 5.\n",
    "    test['kda_ratio'] = pred_test_full\n",
    "    print(np.sqrt(metrics.mean_squared_error(train_y, pred_val_full)))"
   ]
  },
  {
   "cell_type": "code",
   "execution_count": 105,
   "metadata": {},
   "outputs": [
    {
     "name": "stderr",
     "output_type": "stream",
     "text": [
      "c:\\users\\sripan\\appdata\\local\\programs\\python\\python35\\lib\\site-packages\\ipykernel_launcher.py:1: SettingWithCopyWarning: \n",
      "A value is trying to be set on a copy of a slice from a DataFrame.\n",
      "Try using .loc[row_indexer,col_indexer] = value instead\n",
      "\n",
      "See the caveats in the documentation: http://pandas.pydata.org/pandas-docs/stable/indexing.html#indexing-view-versus-copy\n",
      "  \"\"\"Entry point for launching an IPython kernel.\n"
     ]
    }
   ],
   "source": [
    "test['kda_ratio'] = pred_test_full\n",
    "test.loc[:,['hero_id','kda_ratio']].to_csv('Output/lgbm.csv',header=True,sep=',')"
   ]
  },
  {
   "cell_type": "markdown",
   "metadata": {},
   "source": [
    "## XG-Boost"
   ]
  },
  {
   "cell_type": "code",
   "execution_count": 222,
   "metadata": {
    "collapsed": true
   },
   "outputs": [],
   "source": [
    "def runXGB(dev_X, dev_y, val_X, val_y=None, test_X=None, params=None, rounds=5000, variableImportance=False):\n",
    "    if params is None:\n",
    "        print(1)\n",
    "        params = {'objective': 'reg:linear',\n",
    "                  'eval_metric':'rmse',\n",
    "                  'eta':0.1, \n",
    "                  'max_depth':5, \n",
    "                  'silent': 1,\n",
    "                  'min_child_weight':1,\n",
    "                  'subsample':0.8, \n",
    "                  'colsample_bytree':0.8,\n",
    "                  'seed':2018, \n",
    "                  }\n",
    "    num_rounds = rounds\n",
    "    xg_dev = xgb.DMatrix(dev_X, label=dev_y)\n",
    "\n",
    "    if val_y is not None:\n",
    "        xg_val = xgb.DMatrix(val_X, label=val_y)\n",
    "        watchlist = [ (xg_dev,'dev'), (xg_val, 'val') ]\n",
    "        model = xgb.train(params, xg_dev, num_rounds, watchlist, early_stopping_rounds=100, verbose_eval=20)\n",
    "    else:\n",
    "        xg_val = xgb.DMatrix(val_X)\n",
    "        model = xgb.train(params, xg_dev, num_rounds)\n",
    "\n",
    "    if variableImportance:\n",
    "        xgb.plot_importance(model)\n",
    "        plt.show()\n",
    "    \n",
    "    pred_val_y = model.predict(xg_val, ntree_limit=model.best_ntree_limit)\n",
    "    \n",
    "    if test_X is not None:\n",
    "        pred_test_y = model.predict(xgb.DMatrix(test_X), ntree_limit=model.best_ntree_limit)\n",
    "    else: \n",
    "        pred_test_y = np.nan\n",
    "    \n",
    "    score = 0\n",
    "    if val_y is not None:\n",
    "        score =  metrics.mean_squared_error(val_y, pred_val_y)\n",
    "        return pred_val_y, score, pred_test_y\n",
    "    else:\n",
    "        return pred_val_y, score, pred_test_y"
   ]
  },
  {
   "cell_type": "markdown",
   "metadata": {},
   "source": [
    "#### Calibrate the number of boosting rounds"
   ]
  },
  {
   "cell_type": "code",
   "execution_count": 223,
   "metadata": {},
   "outputs": [
    {
     "name": "stdout",
     "output_type": "stream",
     "text": [
      "1\n",
      "[0]\tdev-rmse:3335.2\tval-rmse:3358.67\n",
      "Multiple eval metrics have been passed: 'val-rmse' will be used for early stopping.\n",
      "\n",
      "Will train until val-rmse hasn't improved in 100 rounds.\n",
      "[20]\tdev-rmse:716.878\tval-rmse:778.483\n",
      "[40]\tdev-rmse:512.618\tval-rmse:655.157\n",
      "[60]\tdev-rmse:455.637\tval-rmse:639.149\n",
      "[80]\tdev-rmse:407.38\tval-rmse:636.042\n",
      "[100]\tdev-rmse:370.875\tval-rmse:629.992\n",
      "[120]\tdev-rmse:335.92\tval-rmse:632.499\n",
      "[140]\tdev-rmse:305.042\tval-rmse:633.906\n",
      "[160]\tdev-rmse:274.311\tval-rmse:639.424\n",
      "[180]\tdev-rmse:252.053\tval-rmse:640.213\n",
      "[200]\tdev-rmse:226.146\tval-rmse:645.243\n",
      "Stopping. Best iteration:\n",
      "[102]\tdev-rmse:367.173\tval-rmse:629.389\n",
      "\n"
     ]
    },
    {
     "data": {
      "image/png": "[encoded data removed]",
      "text/plain": [
       "<matplotlib.figure.Figure at 0x1ad94390>"
      ]
     },
     "metadata": {},
     "output_type": "display_data"
    },
    {
     "name": "stdout",
     "output_type": "stream",
     "text": [
      "Score:396130.19555362384\n"
     ]
    }
   ],
   "source": [
    "dev_X, val_X, dev_y, val_y = train_test_split(train_X,train_y,test_size = 0.2, random_state = 2018)\n",
    "pred_val_y, score, pred_test_y = runXGB(dev_X, dev_y, val_X, val_y, rounds=5000, variableImportance=True)\n",
    "print('Score:{}'.format(score))"
   ]
  },
  {
   "cell_type": "code",
   "execution_count": 199,
   "metadata": {
    "collapsed": true
   },
   "outputs": [],
   "source": [
    "params = {\n",
    "            'max_depth':5, \n",
    "            'learning_rate':0.1, \n",
    "            'n_estimators':100, \n",
    "            'silent':True, \n",
    "            'objective':'reg:linear', \n",
    "            'booster':'gbtree', \n",
    "            'n_jobs':1, \n",
    "            'nthread':-1, \n",
    "            'gamma':0, \n",
    "            'min_child_weight':1, \n",
    "            'max_delta_step':0, \n",
    "            'subsample':0.8, \n",
    "            'colsample_bytree':0.8, \n",
    "            'colsample_bylevel':1, \n",
    "            'reg_alpha':0, \n",
    "            'reg_lambda':1, \n",
    "            'scale_pos_weight':1, \n",
    "            'base_score':0.5, \n",
    "            'random_state':2018, \n",
    "            'seed':2018, \n",
    "            'missing':0,\n",
    "    }\n",
    "\n",
    "def return_xgb_model():\n",
    "    xgb_model = xgb.XGBRegressor(max_depth= params['max_depth'],learning_rate = params['learning_rate'],\n",
    "                                n_estimators = params['n_estimators'],silent =  params['silent'],\n",
    "                                objective = params['objective'],booster = params['booster'],\n",
    "                                n_jobs = params['n_jobs'],nthread = params['nthread'],\n",
    "                                gamma = params['gamma'],min_child_weight = params['min_child_weight'],\n",
    "                                max_delta_step = params['max_delta_step'],subsample = params['subsample'],\n",
    "                                colsample_bytree = params['colsample_bytree'],\n",
    "                                colsample_bylevel = params['colsample_bylevel'],reg_alpha = params['reg_alpha'],\n",
    "                                reg_lambda = params['reg_lambda'],scale_pos_weight = params['scale_pos_weight'],\n",
    "                                base_score = params['base_score'],random_state = params['random_state'],\n",
    "                                seed = params['seed'],missing = params['missing'])\n",
    "    return xgb_model"
   ]
  },
  {
   "cell_type": "code",
   "execution_count": 200,
   "metadata": {
    "collapsed": true
   },
   "outputs": [],
   "source": [
    "params['n_estimators']=102"
   ]
  },
  {
   "cell_type": "markdown",
   "metadata": {},
   "source": [
    "#### Tune max_depth & min_child_weight"
   ]
  },
  {
   "cell_type": "code",
   "execution_count": 210,
   "metadata": {},
   "outputs": [
    {
     "name": "stdout",
     "output_type": "stream",
     "text": [
      "[mean: -551922.19046, std: 149323.49172, params: {'max_depth': 1, 'min_child_weight': 5}, mean: -498788.86102, std: 145429.61312, params: {'max_depth': 2, 'min_child_weight': 5}, mean: -487602.56410, std: 141956.10562, params: {'max_depth': 3, 'min_child_weight': 5}, mean: -482892.83656, std: 148160.11512, params: {'max_depth': 4, 'min_child_weight': 5}]\n",
      "Best max_depth: 4, score: -482892.8365609346\n",
      "Best min_child_weight: 5, score: -482892.8365609346\n"
     ]
    },
    {
     "name": "stderr",
     "output_type": "stream",
     "text": [
      "c:\\users\\sripan\\appdata\\local\\programs\\python\\python35\\lib\\site-packages\\sklearn\\model_selection\\_search.py:761: DeprecationWarning: The grid_scores_ attribute was deprecated in version 0.18 in favor of the more elaborate cv_results_ attribute. The grid_scores_ attribute will not be available from 0.20\n",
      "  DeprecationWarning)\n"
     ]
    }
   ],
   "source": [
    "xgb_rgsr = return_xgb_model()\n",
    "\n",
    "param_test_max_depth_min_child_weight= {\n",
    "    'max_depth':[1,2,3,4],\n",
    "    'min_child_weight':[5]\n",
    "}\n",
    "gsearch_max_depth_min_child_weight = GridSearchCV(xgb_rgsr, param_grid = param_test_max_depth_min_child_weight, scoring='mean_squared_error', n_jobs=4, iid=False, cv=5)\n",
    "gsearch_max_depth_min_child_weight.fit(train_X,train_y)\n",
    "print(gsearch_max_depth_min_child_weight.grid_scores_)\n",
    "print(\"Best max_depth: {}, score: {}\".format(gsearch_max_depth_min_child_weight.best_params_['max_depth'], gsearch_max_depth_min_child_weight.best_score_))\n",
    "print(\"Best min_child_weight: {}, score: {}\".format(gsearch_max_depth_min_child_weight.best_params_['min_child_weight'], gsearch_max_depth_min_child_weight.best_score_))"
   ]
  },
  {
   "cell_type": "code",
   "execution_count": 211,
   "metadata": {
    "collapsed": true
   },
   "outputs": [],
   "source": [
    "params['max_depth']=gsearch_max_depth_min_child_weight.best_params_['max_depth']\n",
    "params['min_child_weight']=gsearch_max_depth_min_child_weight.best_params_['min_child_weight']"
   ]
  },
  {
   "cell_type": "code",
   "execution_count": 221,
   "metadata": {},
   "outputs": [
    {
     "data": {
      "text/plain": [
       "(4, 5)"
      ]
     },
     "execution_count": 221,
     "metadata": {},
     "output_type": "execute_result"
    }
   ],
   "source": [
    "params['max_depth'],params['min_child_weight']"
   ]
  },
  {
   "cell_type": "code",
   "execution_count": 216,
   "metadata": {},
   "outputs": [
    {
     "name": "stdout",
     "output_type": "stream",
     "text": [
      "[mean: -482892.83656, std: 148160.11512, params: {'gamma': 0.0}, mean: -482892.83656, std: 148160.11512, params: {'gamma': 0.1}]\n",
      "Best parameter: 0.0, score: -482892.8365609346\n"
     ]
    },
    {
     "name": "stderr",
     "output_type": "stream",
     "text": [
      "c:\\users\\sripan\\appdata\\local\\programs\\python\\python35\\lib\\site-packages\\sklearn\\model_selection\\_search.py:761: DeprecationWarning: The grid_scores_ attribute was deprecated in version 0.18 in favor of the more elaborate cv_results_ attribute. The grid_scores_ attribute will not be available from 0.20\n",
      "  DeprecationWarning)\n"
     ]
    }
   ],
   "source": [
    "xgb_rgsr = return_xgb_model()\n",
    "\n",
    "param_test_gamma= {\n",
    "    'gamma':[i/10.0 for i in range(0,2)]\n",
    "}\n",
    "gsearch_gamma = GridSearchCV(xgb_rgsr, param_grid = param_test_gamma, scoring='mean_squared_error', n_jobs=4, iid=False, cv=5)\n",
    "gsearch_gamma.fit(train_X,train_y)\n",
    "print(gsearch_gamma.grid_scores_)\n",
    "print(\"Best parameter: {}, score: {}\".format(gsearch_gamma.best_params_['gamma'], gsearch_gamma.best_score_))"
   ]
  },
  {
   "cell_type": "code",
   "execution_count": 217,
   "metadata": {
    "collapsed": true
   },
   "outputs": [],
   "source": [
    "params['gamma']=gsearch_gamma.best_params_['gamma']"
   ]
  },
  {
   "cell_type": "code",
   "execution_count": 218,
   "metadata": {},
   "outputs": [
    {
     "data": {
      "text/plain": [
       "0.0"
      ]
     },
     "execution_count": 218,
     "metadata": {},
     "output_type": "execute_result"
    }
   ],
   "source": [
    "params['gamma']"
   ]
  },
  {
   "cell_type": "markdown",
   "metadata": {},
   "source": [
    "#### Re-calibrate the number of boosting rounds"
   ]
  },
  {
   "cell_type": "code",
   "execution_count": 226,
   "metadata": {},
   "outputs": [
    {
     "name": "stdout",
     "output_type": "stream",
     "text": [
      "[0]\tdev-rmse:3335.45\tval-rmse:3359.81\n",
      "Multiple eval metrics have been passed: 'val-rmse' will be used for early stopping.\n",
      "\n",
      "Will train until val-rmse hasn't improved in 100 rounds.\n",
      "[20]\tdev-rmse:764.045\tval-rmse:785.965\n",
      "[40]\tdev-rmse:585.115\tval-rmse:667.961\n",
      "[60]\tdev-rmse:547.044\tval-rmse:647.702\n",
      "[80]\tdev-rmse:513.9\tval-rmse:643.479\n",
      "[100]\tdev-rmse:485.318\tval-rmse:636.221\n",
      "[120]\tdev-rmse:460.007\tval-rmse:630.546\n",
      "[140]\tdev-rmse:435.604\tval-rmse:628.737\n",
      "[160]\tdev-rmse:413.429\tval-rmse:631.718\n",
      "[180]\tdev-rmse:394.823\tval-rmse:632.188\n",
      "[200]\tdev-rmse:374.563\tval-rmse:633.952\n",
      "[220]\tdev-rmse:356.395\tval-rmse:632.078\n",
      "Stopping. Best iteration:\n",
      "[128]\tdev-rmse:451.098\tval-rmse:626.407\n",
      "\n"
     ]
    },
    {
     "data": {
      "image/png": "[encoded data removed]",
      "text/plain": [
       "<matplotlib.figure.Figure at 0x179eed68>"
      ]
     },
     "metadata": {},
     "output_type": "display_data"
    },
    {
     "name": "stdout",
     "output_type": "stream",
     "text": [
      "Score:392385.85368869256\n"
     ]
    }
   ],
   "source": [
    "dev_X, val_X, dev_y, val_y = train_test_split(train_X,train_y,test_size = 0.2, random_state = 2018)\n",
    "pred_val_y, score, pred_test_y = runXGB(dev_X, dev_y, val_X, val_y, params=params, rounds=5000,variableImportance=False)\n",
    "print('Score:{}'.format(score))"
   ]
  },
  {
   "cell_type": "code",
   "execution_count": 227,
   "metadata": {
    "collapsed": true
   },
   "outputs": [],
   "source": [
    "params['n_estimators']=128"
   ]
  },
  {
   "cell_type": "code",
   "execution_count": 233,
   "metadata": {
    "scrolled": true
   },
   "outputs": [
    {
     "name": "stderr",
     "output_type": "stream",
     "text": [
      "Exception ignored in: <bound method DMatrix.__del__ of <xgboost.core.DMatrix object at 0x00000000179B9978>>\n",
      "Traceback (most recent call last):\n",
      "  File \"c:\\users\\sripan\\appdata\\local\\programs\\python\\python35\\lib\\site-packages\\xgboost\\core.py\", line 368, in __del__\n",
      "    if self.handle is not None:\n",
      "AttributeError: 'DMatrix' object has no attribute 'handle'\n"
     ]
    },
    {
     "name": "stdout",
     "output_type": "stream",
     "text": [
      "[mean: -479887.56143, std: 145234.17628, params: {'colsample_bytree': 0.7, 'subsample': 0.4}, mean: -484584.82557, std: 151290.64170, params: {'colsample_bytree': 0.7, 'subsample': 0.5}, mean: -486860.71748, std: 148775.72959, params: {'colsample_bytree': 0.7, 'subsample': 0.6}, mean: -490826.61464, std: 156668.99082, params: {'colsample_bytree': 0.7, 'subsample': 0.7}, mean: -495675.02053, std: 156072.32041, params: {'colsample_bytree': 0.8, 'subsample': 0.4}, mean: -484075.80464, std: 154761.29750, params: {'colsample_bytree': 0.8, 'subsample': 0.5}, mean: -478029.28287, std: 151726.51080, params: {'colsample_bytree': 0.8, 'subsample': 0.6}, mean: -486062.19385, std: 148807.84140, params: {'colsample_bytree': 0.8, 'subsample': 0.7}]\n",
      "Best subsample: 0.6, score: -478029.2828720265\n",
      "Best colsample_bytree: 0.8, score: -478029.2828720265\n"
     ]
    },
    {
     "name": "stderr",
     "output_type": "stream",
     "text": [
      "c:\\users\\sripan\\appdata\\local\\programs\\python\\python35\\lib\\site-packages\\sklearn\\model_selection\\_search.py:761: DeprecationWarning: The grid_scores_ attribute was deprecated in version 0.18 in favor of the more elaborate cv_results_ attribute. The grid_scores_ attribute will not be available from 0.20\n",
      "  DeprecationWarning)\n"
     ]
    }
   ],
   "source": [
    "xgb_rgsr = return_xgb_model()\n",
    "\n",
    "param_test_sample= {\n",
    "    'subsample':[i/10.0 for i in range(4,8)],\n",
    "    'colsample_bytree':[i/10.0 for i in range(7,9)]\n",
    "}\n",
    "gsearch_sample = GridSearchCV(xgb_rgsr, param_grid = param_test_sample, scoring='mean_squared_error', n_jobs=4, iid=False, cv=5)\n",
    "gsearch_sample.fit(train_X,train_y)\n",
    "print(gsearch_sample.grid_scores_)\n",
    "print(\"Best subsample: {}, score: {}\".format(gsearch_sample.best_params_['subsample'], gsearch_sample.best_score_))\n",
    "print(\"Best colsample_bytree: {}, score: {}\".format(gsearch_sample.best_params_['colsample_bytree'], gsearch_sample.best_score_))"
   ]
  },
  {
   "cell_type": "code",
   "execution_count": 234,
   "metadata": {},
   "outputs": [],
   "source": [
    "params['subsample']=gsearch_sample.best_params_['subsample']\n",
    "params['colsample_bytree']=gsearch_sample.best_params_['colsample_bytree']"
   ]
  },
  {
   "cell_type": "code",
   "execution_count": 235,
   "metadata": {},
   "outputs": [
    {
     "data": {
      "text/plain": [
       "(0.6, 0.8)"
      ]
     },
     "execution_count": 235,
     "metadata": {},
     "output_type": "execute_result"
    }
   ],
   "source": [
    "params['subsample'],params['colsample_bytree']"
   ]
  },
  {
   "cell_type": "markdown",
   "metadata": {},
   "source": [
    "#### Tunning of Regularization"
   ]
  },
  {
   "cell_type": "code",
   "execution_count": 240,
   "metadata": {},
   "outputs": [
    {
     "name": "stdout",
     "output_type": "stream",
     "text": [
      "[mean: -478029.10949, std: 151726.38410, params: {'reg_alpha': 0.05}]\n",
      "Best reg_alpha: 0.05, score: -478029.10949094885\n"
     ]
    },
    {
     "name": "stderr",
     "output_type": "stream",
     "text": [
      "c:\\users\\sripan\\appdata\\local\\programs\\python\\python35\\lib\\site-packages\\sklearn\\model_selection\\_search.py:761: DeprecationWarning: The grid_scores_ attribute was deprecated in version 0.18 in favor of the more elaborate cv_results_ attribute. The grid_scores_ attribute will not be available from 0.20\n",
      "  DeprecationWarning)\n"
     ]
    }
   ],
   "source": [
    "xgb_rgsr = return_xgb_model()\n",
    "\n",
    "param_test_regularizer= {\n",
    "    'reg_alpha':[ 0.05]\n",
    "}\n",
    "gsearch_regularizer = GridSearchCV(xgb_rgsr, param_grid = param_test_regularizer, scoring='mean_squared_error', n_jobs=4, iid=False, cv=5)\n",
    "gsearch_regularizer.fit(train_X,train_y)\n",
    "print(gsearch_regularizer.grid_scores_)\n",
    "print(\"Best reg_alpha: {}, score: {}\".format(gsearch_regularizer.best_params_['reg_alpha'], gsearch_regularizer.best_score_))"
   ]
  },
  {
   "cell_type": "code",
   "execution_count": 238,
   "metadata": {},
   "outputs": [],
   "source": [
    "params['reg_alpha']=gsearch_regularizer.best_params_['reg_alpha']"
   ]
  },
  {
   "cell_type": "code",
   "execution_count": 239,
   "metadata": {},
   "outputs": [
    {
     "data": {
      "text/plain": [
       "0.05"
      ]
     },
     "execution_count": 239,
     "metadata": {},
     "output_type": "execute_result"
    }
   ],
   "source": [
    "params['reg_alpha']"
   ]
  },
  {
   "cell_type": "markdown",
   "metadata": {},
   "source": [
    "#### Re-calibrate the number of boosting rounds"
   ]
  },
  {
   "cell_type": "code",
   "execution_count": 241,
   "metadata": {},
   "outputs": [
    {
     "name": "stdout",
     "output_type": "stream",
     "text": [
      "[0]\tdev-rmse:3338.35\tval-rmse:3367.66\n",
      "Multiple eval metrics have been passed: 'val-rmse' will be used for early stopping.\n",
      "\n",
      "Will train until val-rmse hasn't improved in 100 rounds.\n",
      "[20]\tdev-rmse:767.682\tval-rmse:776.259\n",
      "[40]\tdev-rmse:597.056\tval-rmse:659.581\n",
      "[60]\tdev-rmse:564.691\tval-rmse:650.779\n",
      "[80]\tdev-rmse:537.047\tval-rmse:649.034\n",
      "[100]\tdev-rmse:514.167\tval-rmse:644.411\n",
      "[120]\tdev-rmse:489.608\tval-rmse:634.359\n",
      "[140]\tdev-rmse:470.801\tval-rmse:633.017\n",
      "[160]\tdev-rmse:452.064\tval-rmse:628.971\n",
      "[180]\tdev-rmse:431.838\tval-rmse:624.895\n",
      "[200]\tdev-rmse:413.974\tval-rmse:628.434\n",
      "[220]\tdev-rmse:396.839\tval-rmse:629.587\n",
      "[240]\tdev-rmse:380.909\tval-rmse:629.664\n",
      "[260]\tdev-rmse:365.301\tval-rmse:633.744\n",
      "Stopping. Best iteration:\n",
      "[178]\tdev-rmse:434.309\tval-rmse:622.97\n",
      "\n",
      "Score:388092.1720556127\n"
     ]
    }
   ],
   "source": [
    "dev_X, val_X, dev_y, val_y = train_test_split(train_X,train_y,test_size = 0.2, random_state = 2018)\n",
    "pred_val_y, score, pred_test_y = runXGB(dev_X, dev_y, val_X, val_y, params=params, rounds=5000,variableImportance=False)\n",
    "print('Score:{}'.format(score))"
   ]
  },
  {
   "cell_type": "markdown",
   "metadata": {},
   "source": [
    "#### Reducing Learning Rate"
   ]
  },
  {
   "cell_type": "code",
   "execution_count": 242,
   "metadata": {
    "collapsed": true
   },
   "outputs": [],
   "source": [
    "params['learning_rate'] =0.01\n",
    "rounds = 10000"
   ]
  },
  {
   "cell_type": "code",
   "execution_count": 243,
   "metadata": {
    "scrolled": true
   },
   "outputs": [
    {
     "name": "stdout",
     "output_type": "stream",
     "text": [
      "Model building..\n",
      "Running model: XGB\n",
      "1675 419\n",
      "[0]\tdev-rmse:3647.34\tval-rmse:3680.7\n",
      "Multiple eval metrics have been passed: 'val-rmse' will be used for early stopping.\n",
      "\n",
      "Will train until val-rmse hasn't improved in 100 rounds.\n",
      "[20]\tdev-rmse:3021.13\tval-rmse:3039.85\n",
      "[40]\tdev-rmse:2512.76\tval-rmse:2520.08\n",
      "[60]\tdev-rmse:2103.1\tval-rmse:2101.85\n",
      "[80]\tdev-rmse:1771.67\tval-rmse:1763.16\n",
      "[100]\tdev-rmse:1504.63\tval-rmse:1492.26\n",
      "[120]\tdev-rmse:1294.2\tval-rmse:1280.18\n",
      "[140]\tdev-rmse:1128.17\tval-rmse:1114.91\n",
      "[160]\tdev-rmse:998.004\tval-rmse:988.395\n",
      "[180]\tdev-rmse:897.63\tval-rmse:893.662\n",
      "[200]\tdev-rmse:820.084\tval-rmse:822.433\n",
      "[220]\tdev-rmse:762.21\tval-rmse:770.26\n",
      "[240]\tdev-rmse:719.228\tval-rmse:733.389\n",
      "[260]\tdev-rmse:686.8\tval-rmse:707.823\n",
      "[280]\tdev-rmse:662.663\tval-rmse:690.089\n",
      "[300]\tdev-rmse:644.142\tval-rmse:678.036\n",
      "[320]\tdev-rmse:629.515\tval-rmse:668.675\n",
      "[340]\tdev-rmse:618.542\tval-rmse:662.222\n",
      "[360]\tdev-rmse:609.839\tval-rmse:657.224\n",
      "[380]\tdev-rmse:602.502\tval-rmse:653.754\n",
      "[400]\tdev-rmse:597.055\tval-rmse:651.542\n",
      "[420]\tdev-rmse:591.537\tval-rmse:648.17\n",
      "[440]\tdev-rmse:586.639\tval-rmse:646.605\n",
      "[460]\tdev-rmse:582.75\tval-rmse:645.473\n",
      "[480]\tdev-rmse:578.571\tval-rmse:644.294\n",
      "[500]\tdev-rmse:574.866\tval-rmse:642.896\n",
      "[520]\tdev-rmse:571.364\tval-rmse:641.343\n",
      "[540]\tdev-rmse:567.859\tval-rmse:640.4\n",
      "[560]\tdev-rmse:564.562\tval-rmse:638.947\n",
      "[580]\tdev-rmse:561.07\tval-rmse:638.161\n",
      "[600]\tdev-rmse:558.371\tval-rmse:638.075\n",
      "[620]\tdev-rmse:555.628\tval-rmse:636.724\n",
      "[640]\tdev-rmse:553.079\tval-rmse:635.804\n",
      "[660]\tdev-rmse:550.22\tval-rmse:634.777\n",
      "[680]\tdev-rmse:546.962\tval-rmse:634.072\n",
      "[700]\tdev-rmse:544.24\tval-rmse:632.889\n",
      "[720]\tdev-rmse:541.725\tval-rmse:632.247\n",
      "[740]\tdev-rmse:539.184\tval-rmse:631.521\n",
      "[760]\tdev-rmse:536.719\tval-rmse:630.77\n",
      "[780]\tdev-rmse:533.939\tval-rmse:629.59\n",
      "[800]\tdev-rmse:531.245\tval-rmse:629.457\n",
      "[820]\tdev-rmse:528.612\tval-rmse:628.133\n",
      "[840]\tdev-rmse:525.894\tval-rmse:627.077\n",
      "[860]\tdev-rmse:523.675\tval-rmse:626.309\n",
      "[880]\tdev-rmse:521.364\tval-rmse:625.727\n",
      "[900]\tdev-rmse:518.753\tval-rmse:625.299\n",
      "[920]\tdev-rmse:516.05\tval-rmse:624.831\n",
      "[940]\tdev-rmse:513.739\tval-rmse:624.95\n",
      "[960]\tdev-rmse:511.286\tval-rmse:624.245\n",
      "[980]\tdev-rmse:509.019\tval-rmse:624.29\n",
      "[1000]\tdev-rmse:507.019\tval-rmse:624.187\n",
      "[1020]\tdev-rmse:505.07\tval-rmse:623.109\n",
      "[1040]\tdev-rmse:503.317\tval-rmse:622.779\n",
      "[1060]\tdev-rmse:501.329\tval-rmse:622.459\n",
      "[1080]\tdev-rmse:499.221\tval-rmse:622.327\n",
      "[1100]\tdev-rmse:497.327\tval-rmse:621.926\n",
      "[1120]\tdev-rmse:495.221\tval-rmse:621.551\n",
      "[1140]\tdev-rmse:493.416\tval-rmse:621.104\n",
      "[1160]\tdev-rmse:491.484\tval-rmse:621.346\n",
      "[1180]\tdev-rmse:489.755\tval-rmse:621.3\n",
      "[1200]\tdev-rmse:487.667\tval-rmse:620.1\n",
      "[1220]\tdev-rmse:485.853\tval-rmse:619.764\n",
      "[1240]\tdev-rmse:484.012\tval-rmse:619.061\n",
      "[1260]\tdev-rmse:481.782\tval-rmse:619.028\n",
      "[1280]\tdev-rmse:479.774\tval-rmse:618.638\n",
      "[1300]\tdev-rmse:478.06\tval-rmse:618.389\n",
      "[1320]\tdev-rmse:475.835\tval-rmse:617.976\n",
      "[1340]\tdev-rmse:473.854\tval-rmse:618.035\n",
      "[1360]\tdev-rmse:472.085\tval-rmse:618.183\n",
      "[1380]\tdev-rmse:470.062\tval-rmse:617.917\n",
      "[1400]\tdev-rmse:467.806\tval-rmse:617.706\n",
      "[1420]\tdev-rmse:466.23\tval-rmse:617.277\n",
      "[1440]\tdev-rmse:464.576\tval-rmse:617.221\n",
      "[1460]\tdev-rmse:463.078\tval-rmse:616.746\n",
      "[1480]\tdev-rmse:461.302\tval-rmse:616.568\n",
      "[1500]\tdev-rmse:459.814\tval-rmse:616.157\n",
      "[1520]\tdev-rmse:458.23\tval-rmse:616.253\n",
      "[1540]\tdev-rmse:456.856\tval-rmse:616.234\n",
      "[1560]\tdev-rmse:454.925\tval-rmse:616.001\n",
      "[1580]\tdev-rmse:453.201\tval-rmse:616.099\n",
      "[1600]\tdev-rmse:451.625\tval-rmse:616.039\n",
      "[1620]\tdev-rmse:450.145\tval-rmse:615.981\n",
      "[1640]\tdev-rmse:448.702\tval-rmse:615.933\n",
      "[1660]\tdev-rmse:446.897\tval-rmse:615.813\n",
      "[1680]\tdev-rmse:445.024\tval-rmse:616.066\n",
      "[1700]\tdev-rmse:443.439\tval-rmse:616.013\n",
      "[1720]\tdev-rmse:441.729\tval-rmse:615.789\n",
      "[1740]\tdev-rmse:440.169\tval-rmse:615.546\n",
      "[1760]\tdev-rmse:438.921\tval-rmse:615.539\n",
      "[1780]\tdev-rmse:437.388\tval-rmse:615.315\n",
      "[1800]\tdev-rmse:435.779\tval-rmse:614.991\n",
      "[1820]\tdev-rmse:434.391\tval-rmse:614.201\n",
      "[1840]\tdev-rmse:432.789\tval-rmse:614.167\n",
      "[1860]\tdev-rmse:431.547\tval-rmse:614.057\n",
      "[1880]\tdev-rmse:429.992\tval-rmse:613.96\n",
      "[1900]\tdev-rmse:428.359\tval-rmse:613.753\n",
      "[1920]\tdev-rmse:426.69\tval-rmse:613.621\n",
      "[1940]\tdev-rmse:425.304\tval-rmse:613.771\n",
      "[1960]\tdev-rmse:423.448\tval-rmse:613.561\n",
      "[1980]\tdev-rmse:421.849\tval-rmse:613.871\n",
      "[2000]\tdev-rmse:420.267\tval-rmse:613.549\n",
      "[2020]\tdev-rmse:418.64\tval-rmse:613.277\n",
      "[2040]\tdev-rmse:417.012\tval-rmse:612.863\n",
      "[2060]\tdev-rmse:415.447\tval-rmse:612.346\n",
      "[2080]\tdev-rmse:414.151\tval-rmse:612.307\n",
      "[2100]\tdev-rmse:412.475\tval-rmse:612.415\n",
      "[2120]\tdev-rmse:410.716\tval-rmse:612.301\n",
      "[2140]\tdev-rmse:409.309\tval-rmse:612.149\n",
      "[2160]\tdev-rmse:407.821\tval-rmse:612.048\n",
      "[2180]\tdev-rmse:406.191\tval-rmse:611.592\n",
      "[2200]\tdev-rmse:404.589\tval-rmse:611.628\n",
      "[2220]\tdev-rmse:403.081\tval-rmse:611.444\n",
      "[2240]\tdev-rmse:401.588\tval-rmse:611.671\n",
      "[2260]\tdev-rmse:400.153\tval-rmse:611.712\n",
      "[2280]\tdev-rmse:398.541\tval-rmse:611.887\n",
      "[2300]\tdev-rmse:397.416\tval-rmse:611.407\n",
      "[2320]\tdev-rmse:395.566\tval-rmse:611.368\n",
      "[2340]\tdev-rmse:393.743\tval-rmse:611.435\n",
      "[2360]\tdev-rmse:392.34\tval-rmse:611.609\n",
      "[2380]\tdev-rmse:390.467\tval-rmse:611.664\n",
      "[2400]\tdev-rmse:388.923\tval-rmse:611.509\n",
      "Stopping. Best iteration:\n",
      "[2312]\tdev-rmse:396.259\tval-rmse:611.202\n",
      "\n",
      "1675 419\n",
      "[0]\tdev-rmse:3649.49\tval-rmse:3673.17\n",
      "Multiple eval metrics have been passed: 'val-rmse' will be used for early stopping.\n",
      "\n",
      "Will train until val-rmse hasn't improved in 100 rounds.\n",
      "[20]\tdev-rmse:3022.57\tval-rmse:3045.51\n",
      "[40]\tdev-rmse:2512.87\tval-rmse:2537.79\n",
      "[60]\tdev-rmse:2101.3\tval-rmse:2128.7\n",
      "[80]\tdev-rmse:1770.36\tval-rmse:1801.93\n",
      "[100]\tdev-rmse:1503.08\tval-rmse:1542.85\n",
      "[120]\tdev-rmse:1289.49\tval-rmse:1337.81\n",
      "[140]\tdev-rmse:1121.84\tval-rmse:1179.43\n",
      "[160]\tdev-rmse:991.393\tval-rmse:1058.58\n",
      "[180]\tdev-rmse:890.705\tval-rmse:967.266\n",
      "[200]\tdev-rmse:813.267\tval-rmse:898.051\n",
      "[220]\tdev-rmse:754.455\tval-rmse:848.096\n",
      "[240]\tdev-rmse:709.624\tval-rmse:812.488\n",
      "[260]\tdev-rmse:676.092\tval-rmse:786.363\n",
      "[280]\tdev-rmse:650.655\tval-rmse:766.401\n",
      "[300]\tdev-rmse:632.331\tval-rmse:752.349\n",
      "[320]\tdev-rmse:617.908\tval-rmse:742.697\n",
      "[340]\tdev-rmse:606.355\tval-rmse:735.138\n",
      "[360]\tdev-rmse:596.509\tval-rmse:728.719\n",
      "[380]\tdev-rmse:588.925\tval-rmse:724.013\n",
      "[400]\tdev-rmse:582.544\tval-rmse:719.707\n",
      "[420]\tdev-rmse:577.09\tval-rmse:716.328\n",
      "[440]\tdev-rmse:572.469\tval-rmse:713.802\n",
      "[460]\tdev-rmse:568.731\tval-rmse:712.935\n",
      "[480]\tdev-rmse:564.338\tval-rmse:710.678\n",
      "[500]\tdev-rmse:560.75\tval-rmse:709.774\n",
      "[520]\tdev-rmse:557.455\tval-rmse:707.449\n",
      "[540]\tdev-rmse:554.038\tval-rmse:706.561\n",
      "[560]\tdev-rmse:551.332\tval-rmse:704.366\n",
      "[580]\tdev-rmse:548.052\tval-rmse:703.308\n",
      "[600]\tdev-rmse:545.234\tval-rmse:700.94\n",
      "[620]\tdev-rmse:542.128\tval-rmse:700.292\n",
      "[640]\tdev-rmse:539.814\tval-rmse:699.596\n",
      "[660]\tdev-rmse:537.274\tval-rmse:698.278\n",
      "[680]\tdev-rmse:534.494\tval-rmse:697.653\n",
      "[700]\tdev-rmse:531.852\tval-rmse:697.03\n",
      "[720]\tdev-rmse:529.493\tval-rmse:696.375\n",
      "[740]\tdev-rmse:527.124\tval-rmse:695.938\n",
      "[760]\tdev-rmse:524.41\tval-rmse:695.431\n",
      "[780]\tdev-rmse:522.007\tval-rmse:693.781\n",
      "[800]\tdev-rmse:519.705\tval-rmse:693.649\n",
      "[820]\tdev-rmse:517.286\tval-rmse:693.07\n",
      "[840]\tdev-rmse:514.99\tval-rmse:692.459\n",
      "[860]\tdev-rmse:512.521\tval-rmse:691.757\n",
      "[880]\tdev-rmse:510.361\tval-rmse:691.006\n",
      "[900]\tdev-rmse:507.679\tval-rmse:691.344\n",
      "[920]\tdev-rmse:505.209\tval-rmse:691.31\n",
      "[940]\tdev-rmse:503.263\tval-rmse:690.734\n",
      "[960]\tdev-rmse:501.344\tval-rmse:690.838\n",
      "[980]\tdev-rmse:499.405\tval-rmse:690.635\n",
      "[1000]\tdev-rmse:497.248\tval-rmse:690.104\n",
      "[1020]\tdev-rmse:494.952\tval-rmse:690.067\n",
      "[1040]\tdev-rmse:493.116\tval-rmse:689.914\n",
      "[1060]\tdev-rmse:490.635\tval-rmse:689.896\n",
      "[1080]\tdev-rmse:488.901\tval-rmse:690.437\n",
      "[1100]\tdev-rmse:486.805\tval-rmse:690.719\n",
      "[1120]\tdev-rmse:484.897\tval-rmse:691.23\n",
      "Stopping. Best iteration:\n",
      "[1035]\tdev-rmse:493.672\tval-rmse:689.538\n",
      "\n",
      "1675 419\n",
      "[0]\tdev-rmse:3644.48\tval-rmse:3691.95\n",
      "Multiple eval metrics have been passed: 'val-rmse' will be used for early stopping.\n",
      "\n",
      "Will train until val-rmse hasn't improved in 100 rounds.\n",
      "[20]\tdev-rmse:3016.02\tval-rmse:3079.88\n",
      "[40]\tdev-rmse:2505.39\tval-rmse:2585.74\n",
      "[60]\tdev-rmse:2091.22\tval-rmse:2189.23\n",
      "[80]\tdev-rmse:1758.35\tval-rmse:1876.52\n",
      "[100]\tdev-rmse:1489.97\tval-rmse:1628.97\n",
      "[120]\tdev-rmse:1276.24\tval-rmse:1435.56\n",
      "[140]\tdev-rmse:1107.6\tval-rmse:1290.39\n",
      "[160]\tdev-rmse:974.334\tval-rmse:1178.28\n",
      "[180]\tdev-rmse:872.372\tval-rmse:1095.79\n",
      "[200]\tdev-rmse:792.716\tval-rmse:1033.93\n"
     ]
    },
    {
     "name": "stdout",
     "output_type": "stream",
     "text": [
      "[220]\tdev-rmse:732.88\tval-rmse:987.909\n",
      "[240]\tdev-rmse:687.617\tval-rmse:956.269\n",
      "[260]\tdev-rmse:653.328\tval-rmse:932.221\n",
      "[280]\tdev-rmse:627.291\tval-rmse:913.506\n",
      "[300]\tdev-rmse:607.294\tval-rmse:901.498\n",
      "[320]\tdev-rmse:591.67\tval-rmse:891.454\n",
      "[340]\tdev-rmse:579.73\tval-rmse:883.95\n",
      "[360]\tdev-rmse:568.489\tval-rmse:879.2\n",
      "[380]\tdev-rmse:559.483\tval-rmse:875.118\n",
      "[400]\tdev-rmse:551.989\tval-rmse:871.162\n",
      "[420]\tdev-rmse:544.947\tval-rmse:870.344\n",
      "[440]\tdev-rmse:539.294\tval-rmse:868.323\n",
      "[460]\tdev-rmse:533.741\tval-rmse:866.93\n",
      "[480]\tdev-rmse:529.024\tval-rmse:866.348\n",
      "[500]\tdev-rmse:523.91\tval-rmse:866.718\n",
      "[520]\tdev-rmse:519.192\tval-rmse:866.932\n",
      "[540]\tdev-rmse:515.374\tval-rmse:865.27\n",
      "[560]\tdev-rmse:511.286\tval-rmse:864.689\n",
      "[580]\tdev-rmse:507.494\tval-rmse:863.579\n",
      "[600]\tdev-rmse:504.018\tval-rmse:862.727\n",
      "[620]\tdev-rmse:499.907\tval-rmse:862.216\n",
      "[640]\tdev-rmse:496.42\tval-rmse:862.315\n",
      "[660]\tdev-rmse:493.276\tval-rmse:861.881\n",
      "[680]\tdev-rmse:489.954\tval-rmse:862.199\n",
      "[700]\tdev-rmse:486.702\tval-rmse:862.28\n",
      "[720]\tdev-rmse:483.292\tval-rmse:862.567\n",
      "[740]\tdev-rmse:479.98\tval-rmse:861.89\n",
      "[760]\tdev-rmse:476.851\tval-rmse:862.412\n",
      "[780]\tdev-rmse:473.695\tval-rmse:861.849\n",
      "[800]\tdev-rmse:470.798\tval-rmse:861.754\n",
      "[820]\tdev-rmse:467.928\tval-rmse:862.145\n",
      "Stopping. Best iteration:\n",
      "[732]\tdev-rmse:481.372\tval-rmse:861.526\n",
      "\n",
      "1675 419\n",
      "[0]\tdev-rmse:3670.62\tval-rmse:3588.2\n",
      "Multiple eval metrics have been passed: 'val-rmse' will be used for early stopping.\n",
      "\n",
      "Will train until val-rmse hasn't improved in 100 rounds.\n",
      "[20]\tdev-rmse:3042.38\tval-rmse:2963.15\n",
      "[40]\tdev-rmse:2533.45\tval-rmse:2456.67\n",
      "[60]\tdev-rmse:2120.83\tval-rmse:2046.88\n",
      "[80]\tdev-rmse:1786.86\tval-rmse:1715.62\n",
      "[100]\tdev-rmse:1519.5\tval-rmse:1451.13\n",
      "[120]\tdev-rmse:1307.87\tval-rmse:1242.89\n",
      "[140]\tdev-rmse:1141.29\tval-rmse:1081.02\n",
      "[160]\tdev-rmse:1010.73\tval-rmse:955.468\n",
      "[180]\tdev-rmse:910.395\tval-rmse:860.521\n",
      "[200]\tdev-rmse:834.907\tval-rmse:790.608\n",
      "[220]\tdev-rmse:777.178\tval-rmse:738.903\n",
      "[240]\tdev-rmse:732.992\tval-rmse:700.883\n",
      "[260]\tdev-rmse:699.836\tval-rmse:675.289\n",
      "[280]\tdev-rmse:675.465\tval-rmse:656.822\n",
      "[300]\tdev-rmse:656.434\tval-rmse:644.053\n",
      "[320]\tdev-rmse:641.165\tval-rmse:634.882\n",
      "[340]\tdev-rmse:629.52\tval-rmse:629.783\n",
      "[360]\tdev-rmse:620.206\tval-rmse:625.616\n",
      "[380]\tdev-rmse:612.016\tval-rmse:621.214\n",
      "[400]\tdev-rmse:604.76\tval-rmse:617.909\n",
      "[420]\tdev-rmse:599.015\tval-rmse:616.478\n",
      "[440]\tdev-rmse:593.883\tval-rmse:615.251\n",
      "[460]\tdev-rmse:588.832\tval-rmse:614.662\n",
      "[480]\tdev-rmse:584.69\tval-rmse:614.011\n",
      "[500]\tdev-rmse:580.527\tval-rmse:613.004\n",
      "[520]\tdev-rmse:576.367\tval-rmse:611.644\n",
      "[540]\tdev-rmse:572.562\tval-rmse:612.425\n",
      "[560]\tdev-rmse:569.106\tval-rmse:612.488\n",
      "[580]\tdev-rmse:565.509\tval-rmse:611.63\n",
      "[600]\tdev-rmse:562.189\tval-rmse:611.431\n",
      "[620]\tdev-rmse:559.255\tval-rmse:611.248\n",
      "[640]\tdev-rmse:556.029\tval-rmse:610.988\n",
      "[660]\tdev-rmse:553.176\tval-rmse:610.224\n",
      "[680]\tdev-rmse:550.02\tval-rmse:609.882\n",
      "[700]\tdev-rmse:547.382\tval-rmse:609.301\n",
      "[720]\tdev-rmse:544.998\tval-rmse:609.747\n",
      "[740]\tdev-rmse:541.367\tval-rmse:609.672\n",
      "[760]\tdev-rmse:538.413\tval-rmse:608.822\n",
      "[780]\tdev-rmse:535.383\tval-rmse:609.115\n",
      "[800]\tdev-rmse:532.501\tval-rmse:608.736\n",
      "[820]\tdev-rmse:529.882\tval-rmse:609.092\n",
      "[840]\tdev-rmse:527.373\tval-rmse:609.166\n",
      "[860]\tdev-rmse:525.072\tval-rmse:609.022\n",
      "Stopping. Best iteration:\n",
      "[762]\tdev-rmse:538.104\tval-rmse:608.689\n",
      "\n",
      "1676 418\n",
      "[0]\tdev-rmse:3658.65\tval-rmse:3635.38\n",
      "Multiple eval metrics have been passed: 'val-rmse' will be used for early stopping.\n",
      "\n",
      "Will train until val-rmse hasn't improved in 100 rounds.\n",
      "[20]\tdev-rmse:3031.38\tval-rmse:3013.83\n",
      "[40]\tdev-rmse:2522.04\tval-rmse:2509.7\n",
      "[60]\tdev-rmse:2108.67\tval-rmse:2103.07\n",
      "[80]\tdev-rmse:1776.01\tval-rmse:1775.3\n",
      "[100]\tdev-rmse:1509.75\tval-rmse:1515.66\n",
      "[120]\tdev-rmse:1297.77\tval-rmse:1310.48\n",
      "[140]\tdev-rmse:1132.06\tval-rmse:1150.76\n",
      "[160]\tdev-rmse:1001.85\tval-rmse:1026.02\n",
      "[180]\tdev-rmse:900.843\tval-rmse:931.781\n",
      "[200]\tdev-rmse:824.956\tval-rmse:861.972\n",
      "[220]\tdev-rmse:767.301\tval-rmse:809.724\n",
      "[240]\tdev-rmse:724.136\tval-rmse:772.096\n",
      "[260]\tdev-rmse:689.934\tval-rmse:743.779\n",
      "[280]\tdev-rmse:664.443\tval-rmse:724.731\n",
      "[300]\tdev-rmse:645.646\tval-rmse:710.614\n",
      "[320]\tdev-rmse:631.128\tval-rmse:701.57\n",
      "[340]\tdev-rmse:620.059\tval-rmse:695.847\n",
      "[360]\tdev-rmse:610.847\tval-rmse:690.967\n",
      "[380]\tdev-rmse:602.78\tval-rmse:687.819\n",
      "[400]\tdev-rmse:595.81\tval-rmse:685.21\n",
      "[420]\tdev-rmse:589.841\tval-rmse:682.874\n",
      "[440]\tdev-rmse:584.469\tval-rmse:680.887\n",
      "[460]\tdev-rmse:579.578\tval-rmse:680.54\n",
      "[480]\tdev-rmse:575.318\tval-rmse:679.201\n",
      "[500]\tdev-rmse:570.932\tval-rmse:678.382\n",
      "[520]\tdev-rmse:566.901\tval-rmse:678.677\n",
      "[540]\tdev-rmse:563.038\tval-rmse:678.026\n",
      "[560]\tdev-rmse:559.054\tval-rmse:677.222\n",
      "[580]\tdev-rmse:555.62\tval-rmse:676.249\n",
      "[600]\tdev-rmse:552.238\tval-rmse:677.007\n",
      "[620]\tdev-rmse:548.981\tval-rmse:676.517\n",
      "[640]\tdev-rmse:545.603\tval-rmse:676.243\n",
      "[660]\tdev-rmse:543.006\tval-rmse:675.122\n",
      "[680]\tdev-rmse:540.076\tval-rmse:675.025\n",
      "[700]\tdev-rmse:537.25\tval-rmse:674.973\n",
      "[720]\tdev-rmse:534.408\tval-rmse:674.994\n",
      "[740]\tdev-rmse:531.594\tval-rmse:675.522\n",
      "[760]\tdev-rmse:528.819\tval-rmse:675.264\n",
      "[780]\tdev-rmse:526.19\tval-rmse:674.857\n",
      "Stopping. Best iteration:\n",
      "[686]\tdev-rmse:539.295\tval-rmse:674.548\n",
      "\n",
      "[611.20174757282155, 689.53810673692544, 861.52592123591205, 608.68896611263642, 674.54832430329759]\n",
      "695.247101051\n"
     ]
    },
    {
     "name": "stderr",
     "output_type": "stream",
     "text": [
      "c:\\users\\sripan\\appdata\\local\\programs\\python\\python35\\lib\\site-packages\\ipykernel_launcher.py:22: SettingWithCopyWarning: \n",
      "A value is trying to be set on a copy of a slice from a DataFrame.\n",
      "Try using .loc[row_indexer,col_indexer] = value instead\n",
      "\n",
      "See the caveats in the documentation: http://pandas.pydata.org/pandas-docs/stable/indexing.html#indexing-view-versus-copy\n"
     ]
    }
   ],
   "source": [
    "model_names = ['XGB']\n",
    "print(\"Model building..\")\n",
    "kf = KFold(n_splits=5, shuffle=True, random_state=2018)\n",
    "cv_scores = []\n",
    "pred_test_full = 0\n",
    "pred_val_full = np.zeros(train_X.shape[0])\n",
    "for model_name in model_names:\n",
    "    print(\"Running model: {}\".format(model_name))\n",
    "    for dev_index, val_index in kf.split(train_X):\n",
    "        print(len(dev_index), len(val_index))\n",
    "        dev_X, val_X = train_X.iloc[dev_index,:], train_X.iloc[val_index,:]\n",
    "        dev_y, val_y = train_y[dev_index], train_y[val_index]\n",
    "        if model_name == \"XGB\":\n",
    "            pred_val_y, score, pred_test_y = runXGB(dev_X, dev_y, val_X, val_y, test_X = test_X, params = params, rounds=rounds)\n",
    "        elif model_name == \"LGB\":\n",
    "            pred_val_y, score, pred_test_y = runLGB(dev_X, dev_y, val_X, val_y, test_X = test_X, params = params, rounds=rounds)\n",
    "        pred_val_full[val_index] = pred_val_y\n",
    "        pred_test_full = pred_test_full + pred_test_y\n",
    "        cv_scores.append(np.sqrt(score))\n",
    "    print(cv_scores)\n",
    "    pred_test_full /= 5.\n",
    "    test['kda_ratio'] = pred_test_full\n",
    "    print(np.sqrt(metrics.mean_squared_error(train_y, pred_val_full)))"
   ]
  }
 ],
 "metadata": {
  "kernelspec": {
   "display_name": "Python 3",
   "language": "python",
   "name": "python3"
  },
  "language_info": {
   "codemirror_mode": {
    "name": "ipython",
    "version": 3
   },
   "file_extension": ".py",
   "mimetype": "text/x-python",
   "name": "python",
   "nbconvert_exporter": "python",
   "pygments_lexer": "ipython3",
   "version": "3.5.3"
  }
 },
 "nbformat": 4,
 "nbformat_minor": 2
}
